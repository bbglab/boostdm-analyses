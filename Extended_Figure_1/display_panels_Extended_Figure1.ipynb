{
 "cells": [
  {
   "cell_type": "code",
   "execution_count": null,
   "metadata": {},
   "outputs": [],
   "source": [
    "%load_ext autoreload\n",
    "%autoreload 2"
   ]
  },
  {
   "cell_type": "code",
   "execution_count": null,
   "metadata": {},
   "outputs": [],
   "source": [
    "import os\n",
    "import sys\n",
    "sys.path.append('./scripts/')\n",
    "import json\n",
    "from functools import reduce\n",
    "\n",
    "import numpy as np\n",
    "import pandas as pd\n",
    "import matplotlib.pyplot as plt\n",
    "import seaborn as sns\n",
    "from matplotlib import gridspec\n",
    "import sys\n",
    "\n",
    "import conf\n",
    "import oncotree\n",
    "from discovery import get_mutations, discovery_index_with_bootstrap, master_func, plot_fit, plot_fit_multiple\n",
    "\n",
    "import warnings\n",
    "warnings.filterwarnings('ignore')\n",
    "\n",
    "\n",
    "conf.config_params()\n",
    "tree = oncotree.Oncotree()\n",
    "\n",
    "import scripts.oncotree\n",
    "os.makedirs(\"raw_plots\",exist_ok=True)\n",
    "os.makedirs(\"source_data\",exist_ok=True)"
   ]
  },
  {
   "cell_type": "code",
   "execution_count": null,
   "metadata": {},
   "outputs": [],
   "source": [
    "with open(os.path.join(conf.output_boostdm, 'discovery', 'samples_anonymized.json'), 'rt') as g:\n",
    "    samples = json.load(g)\n",
    "    \n",
    "mutations = pd.read_csv(os.path.join(conf.output_boostdm, 'discovery', 'mutations.tsv'), sep='\\t')"
   ]
  },
  {
   "cell_type": "markdown",
   "metadata": {},
   "source": [
    "# Extended Figure 1b"
   ]
  },
  {
   "cell_type": "code",
   "execution_count": null,
   "metadata": {},
   "outputs": [],
   "source": [
    "# Individual panels\n",
    "\n",
    "def plot_discovery_gene_ttype(gene, ttype):\n",
    "    fig, ax = plt.subplots(figsize=(3, 3))\n",
    "    plot_fit(gene, ttype, samples, mutations, ax)\n",
    "    plt.savefig(os.path.join('./raw_plots', f'{gene}.{ttype}.fitplot.svg'))\n",
    "    plt.show()"
   ]
  },
  {
   "cell_type": "code",
   "execution_count": null,
   "metadata": {},
   "outputs": [],
   "source": [
    "pairs=zip(\n",
    "    ['FAT1', 'NFE2L2', 'PTEN', 'RB1', 'ARID1A', 'ERCC2', 'FBXW7', 'PIK3CA', 'CTNNB1', 'KRAS' ],  \n",
    "                     ['LUSC', 'HNSC', 'COREAD', 'BLCA', 'UCEC', 'BLCA', 'UCEC', 'UCEC', 'HC', 'PAAD'])\n",
    "for gene,ttype in pairs:\n",
    "    plot_discovery_gene_ttype(gene, ttype)"
   ]
  },
  {
   "cell_type": "markdown",
   "metadata": {},
   "source": [
    "# Extended Figure 1c"
   ]
  },
  {
   "cell_type": "code",
   "execution_count": null,
   "metadata": {},
   "outputs": [],
   "source": [
    "# TP53 cancer types\n",
    "tp53_selected_ttypes = ['AML', 'CM',  'HC', 'GBM', 'BLCA', 'UCEC', 'COREAD', \n",
    "                        'ESCA', 'OV', 'BRCA']\n",
    "cmap = plt.cm.tab20\n",
    "colors = [cmap(i) for i in range(len(tp53_selected_ttypes))]"
   ]
  },
  {
   "cell_type": "code",
   "execution_count": null,
   "metadata": {},
   "outputs": [],
   "source": [
    "fig, ax = plt.subplots(figsize=(4, 4))\n",
    "for i, ttype in enumerate(tp53_selected_ttypes):\n",
    "    plot_fit_multiple('TP53', ttype, samples, mutations, ax, color_curve=colors[i])\n",
    "ax.set_title('TP53')\n",
    "ax.set_ylabel('no. unique mutations')\n",
    "plt.legend(loc=(1,0))\n",
    "plt.savefig('./raw_plots/TP53.discovery.svg', dpi=300, bbox_inches='tight')\n",
    "plt.show()"
   ]
  },
  {
   "cell_type": "markdown",
   "metadata": {},
   "source": [
    "# Extended Figure 1d and 1e"
   ]
  },
  {
   "cell_type": "code",
   "execution_count": null,
   "metadata": {},
   "outputs": [],
   "source": [
    "# Boxplot bootstrap\n",
    "\n",
    "def mdi_boxplot_multiple(genes, ttypes, ax, iterations=100, ngrid=20, title=None):\n",
    "\n",
    "    discs, xs = [], []\n",
    "    for i, (gene, ttype) in enumerate(zip(genes, ttypes)):\n",
    "        samp = samples[ttype]\n",
    "        muts = get_mutations(mutations, ttype, gene)\n",
    "\n",
    "        params, disc, grid, unique_counts = discovery_index_with_bootstrap(samp, muts, iterations, ngrid)\n",
    "        discs.append(disc)\n",
    "        unique_np = np.array(unique_counts)\n",
    "        xs.append((i+1) + np.random.normal(loc=0, scale=0.02, size=len(disc)))\n",
    "\n",
    "    # boxplot of median MDI\n",
    "    ax.boxplot(discs, showfliers=False)\n",
    "    ys = reduce(lambda x,y: x+y, discs, [])\n",
    "    ax.set_ylim(0,1)\n",
    "    ax.scatter(xs, ys, alpha=0.1)\n",
    "    ax.set_ylabel('discovery index')\n",
    "    if title is not None:\n",
    "        ax.set_title(gene + ':' + ttype)\n",
    "    ax.spines['top'].set_visible(False)\n",
    "    ax.spines['right'].set_visible(False)\n",
    "    ax.set_xticklabels(list(map(lambda x: x[0]+':'+x[1], list(zip(genes, ttypes)))), rotation=90)"
   ]
  },
  {
   "cell_type": "code",
   "execution_count": null,
   "metadata": {},
   "outputs": [],
   "source": [
    "fig, ax = plt.subplots(figsize=(7,3))\n",
    "mdi_boxplot_multiple(['FAT1', 'NFE2L2', 'PTEN', 'RB1', 'ARID1A', 'ERCC2', 'FBXW7', 'PIK3CA', 'CTNNB1', 'KRAS' ],  \n",
    "                     ['LUSC', 'HNSC', 'COREAD', 'BLCA', 'UCEC', 'BLCA', 'UCEC', 'UCEC', 'HC', 'PAAD'], \n",
    "                     ax)\n",
    "plt.title('Discovery Index (bootstrap)')\n",
    "plt.savefig('./raw_plots/bootstrap.svg', dpi=300, bbox_inches='tight')\n",
    "plt.show()"
   ]
  },
  {
   "cell_type": "code",
   "execution_count": null,
   "metadata": {},
   "outputs": [],
   "source": [
    "fig, ax = plt.subplots(figsize=(7,3))\n",
    "mdi_boxplot_multiple(['TP53'] * len(tp53_selected_ttypes), tp53_selected_ttypes, ax)\n",
    "plt.title('Discovery Index (bootstrap)')\n",
    "plt.savefig('./raw_plots/bootstrap-tp53.svg', dpi=300, bbox_inches='tight')\n",
    "plt.show()"
   ]
  },
  {
   "cell_type": "markdown",
   "metadata": {},
   "source": [
    "# Extended Figure 1g"
   ]
  },
  {
   "cell_type": "code",
   "execution_count": null,
   "metadata": {},
   "outputs": [],
   "source": [
    "if not(os.path.exists(\"source_data/ratio_drivers_per_gene.tsv\")):\n",
    "    ! python3 scripts/compute_ratio_observed_drivers_per_model.py source_data/ratio_drivers_per_gene.tsv"
   ]
  },
  {
   "cell_type": "code",
   "execution_count": null,
   "metadata": {},
   "outputs": [],
   "source": [
    "ratios = pd.read_csv(\"source_data/ratio_drivers_per_gene.tsv\",sep=\"\\t\")\n",
    "r = ratios[ratios[\"unique_mutations\"]>14].sample(30,random_state=5).sort_values(\"ratio_drivers\",ascending=False)"
   ]
  },
  {
   "cell_type": "code",
   "execution_count": null,
   "metadata": {},
   "outputs": [],
   "source": [
    "fig,_ = plt.subplots(figsize=(15,5))\n",
    "gs = gridspec.GridSpec(figure=fig, ncols=1, nrows=3, height_ratios=[10, 1, 1])\n",
    "gs.update(hspace=0.05, wspace=0)\n",
    "ax = plt.subplot(gs[0])\n",
    "ax1 = plt.subplot(gs[1]) \n",
    "ax2 = plt.subplot(gs[2]) \n",
    "r[\"label\"] = r.apply(lambda row: row[\"gene\"] + \"- \"+ row[\"CANCER_TYPE\"],axis=1)\n",
    "labels=list(r.label)\n",
    "r[\"m\"] = 1.\n",
    "sns.barplot(data=r,x=\"label\",y=\"m\",color=\"#E0E0E0\",ax=ax,order=labels)\n",
    "sns.barplot(data=r,x=\"label\",y=\"ratio_drivers\",color=\"#800000\",ax=ax,order=labels)\n",
    "\n",
    "# barplot mutations total\n",
    "e=r.set_index([\"gene\",\"CANCER_TYPE\"])[[\"unique_mutations\"]].T\n",
    "e.columns=labels\n",
    "sns.heatmap(e,cmap=\"Greys\",annot=True, fmt=\"d\",ax=ax1,cbar=False, annot_kws={\"fontsize\":10})\n",
    "\n",
    "r[\"color\"] = r.apply(lambda row: conf.dict_colors_role[row[\"ROLE\"]],axis=1)\n",
    "c=r.set_index([\"gene\",\"CANCER_TYPE\"])[[\"color\"]].T\n",
    "c.columns=labels\n",
    "for i in range(len(labels)):\n",
    "    ax2.scatter(x=i,y=0,marker=\"s\",color=c[labels[i]],s=80)\n",
    "    \n",
    "\n",
    "ax.set_xticks([])\n",
    "ax1.set_xticks([])\n",
    "ax2.set_xticks(range(len(labels)))\n",
    "ax2.set_xticklabels(labels,rotation=90)\n",
    "ax.set_xlim(ax.get_xlim()[0]-1,ax.get_xlim()[1]+1)\n",
    "ax1.set_xlim(ax.get_xlim()[0]+.5,ax.get_xlim()[1]+0.5)\n",
    "ax2.set_xlim(ax.get_xlim()[0],ax.get_xlim()[1])\n",
    "\n",
    "\n",
    "ax2.spines['top'].set_linewidth(0.0)\n",
    "ax2.spines['right'].set_linewidth(0.0)\n",
    "ax2.spines['left'].set_linewidth(0.0)\n",
    "ax2.spines['bottom'].set_linewidth(0.0)\n",
    "\n",
    "ax.spines['top'].set_linewidth(0.0)\n",
    "ax.spines['right'].set_linewidth(0.0)\n",
    "\n",
    "\n",
    "ax.set_ylabel(\"Proportion of predicted drivers \\n (unique mutations)\")\n",
    "ax1.set_ylabel(\"Total unique mutations\",rotation=0)\n",
    "ax2.set_ylabel(\"ROLE\",rotation=0)\n",
    "\n",
    "ax1.set_yticks([])\n",
    "ax2.set_yticks([])\n",
    "plt.savefig(f'./raw_plots/examples_genes_driver_proportion.pdf', dpi=800,bbox_inches=\"tight\")\n",
    "plt.show()"
   ]
  },
  {
   "cell_type": "markdown",
   "metadata": {},
   "source": [
    "# Extended Figure 1h"
   ]
  },
  {
   "cell_type": "markdown",
   "metadata": {},
   "source": [
    "### First, create the source data"
   ]
  },
  {
   "cell_type": "code",
   "execution_count": null,
   "metadata": {},
   "outputs": [],
   "source": [
    "if not(os.path.exists(\"source_data/model_selection_information.tsv\")):\n",
    "    ! python3 scripts/create_table_stats_models.py source_data/model_selection_information.tsv"
   ]
  },
  {
   "cell_type": "markdown",
   "metadata": {},
   "source": [
    "### Figure Extended Data Fig 1h, Load data"
   ]
  },
  {
   "cell_type": "code",
   "execution_count": null,
   "metadata": {},
   "outputs": [],
   "source": [
    "def assign_quartile(row,a,b,d_values):\n",
    "    if row[a] >= d_total[a] and row[b] >= d_values[b]:\n",
    "        return \"Other\"\n",
    "    if row[a] >= d_total[a] and row[b] < d_values[b]:\n",
    "        return \"Other\"\n",
    "    if row[a] < d_total[a] and row[b] >= d_values[b]:\n",
    "        return \"Q1\"\n",
    "    if row[a] < d_total[a] and row[b] < d_values[b]:\n",
    "        return \"Other\""
   ]
  },
  {
   "cell_type": "code",
   "execution_count": null,
   "metadata": {},
   "outputs": [],
   "source": [
    "data = pd.read_csv(\"source_data/model_selection_information.tsv\",sep=\"\\t\")\n",
    "selected = data[data[\"selected\"]]\n",
    "\n",
    "d_total = {}\n",
    "d_total[\"discovery_index\"]=np.percentile(selected[\"discovery_index\"].values,50)\n",
    "d_total[\"mean_fscore50\"]=np.percentile(selected[\"mean_fscore50\"].values,50)\n",
    "\n",
    "d_values = {\"discovery_index\":np.nanmedian(selected[\"discovery_index\"].values),\"mean_fscore50\":np.nanmedian(selected[\"mean_fscore50\"].values)} \n",
    "data[\"quartile_di_vs_fscore\"] = data.apply(lambda row: assign_quartile(row,\"discovery_index\",\"mean_fscore50\",d_values),axis=1)\n",
    "selected = data[data[\"selected\"]]"
   ]
  },
  {
   "cell_type": "code",
   "execution_count": null,
   "metadata": {},
   "outputs": [],
   "source": [
    "def plot_nmuts_vs_performance(df,x_column,y_column,y_error_c,selected_column,cancer_specific,xlabel = \"\", ylabel = \"\", title='Mutational discovery index and boostdm performance', highlight_genes=None, density=None, saveplot=False,name_plot=\"\"):\n",
    "    highlight_gene_ttypes_coord = {}\n",
    "    highlight_gene_ttypes_role = {}\n",
    "    x, y, y_error, s, c, role, selected,ec = [], [], [], [], [], [], [], []\n",
    "    for i,r in df.iterrows():\n",
    "        if (cancer_specific and is_cancer_specific(r[\"ttype\"])) or not(cancer_specific):\n",
    "            x.append(r[x_column])\n",
    "            y.append(r[y_column])\n",
    "            y_error.append([r[y_column]-r[y_error_c[0]],r[y_error_c[1]]-r[y_column]])\n",
    "            role.append(r[\"ROLE\"])\n",
    "            sel = r[selected_column]\n",
    "            selected.append(sel)\n",
    "            \n",
    "            if sel:\n",
    "                s.append(50)\n",
    "                c.append(conf.dict_colors_role[r[\"ROLE\"]])\n",
    "                ec.append(\"black\")\n",
    "            else:\n",
    "                s.append(25)\n",
    "                c.append(\"grey\")\n",
    "                ec.append(\"grey\")\n",
    "        \n",
    "        if highlight_genes is not None:\n",
    "                k=(r[\"ttype\"],r[\"gene\"])\n",
    "                if (r[\"ttype\"],r[\"gene\"]) in highlight_genes:\n",
    "                    highlight_gene_ttypes_coord[k] = y[-1], x[-1]\n",
    "                    highlight_gene_ttypes_role[k] = r[\"ROLE\"]\n",
    "                    print(f'{r[\"gene\"]}: {r[\"ttype\"]}: discovery index: {y[-1]} performance f-score50 {x[-1]}')\n",
    "\n",
    "    fig, ax = plt.subplots(figsize=(6.5, 7))\n",
    "    gs = gridspec.GridSpec(figure=fig, ncols=2, nrows=2, width_ratios=[15,2], height_ratios=[2, 15])\n",
    "    gs.update(hspace=0.0, wspace=0.00)\n",
    "\n",
    "    ax0 = plt.subplot(gs[0]) # density top\n",
    "    ax1 = plt.subplot(gs[1]) # null\n",
    "    ax2 = plt.subplot(gs[2], sharex=ax0) # scatter\n",
    "    ax3 = plt.subplot(gs[3], sharey=ax2) # density\n",
    "\n",
    "    # ax0: density plot: oncogenes vs tumor suppressors\n",
    "    \n",
    "    \n",
    "    bandwidth = 0.03\n",
    "    alpha = 0.25\n",
    "    x_lof = [u for i, u in enumerate(x) if role[i] == 'LoF' ]\n",
    "    x_act = [u for i, u in enumerate(x) if role[i] == 'Act']\n",
    "    x_amb = [u for i, u in enumerate(x) if (role[i] == 'ambiguous' or str(role[i]) == \"nan\") ]\n",
    "\n",
    "    y_lof = [u for i, u in enumerate(y) if role[i] == 'LoF' ]\n",
    "    y_act = [u for i, u in enumerate(y) if role[i] == 'Act']\n",
    "    y_amb = [u for i, u in enumerate(y) if role[i] == 'ambiguous' ]\n",
    "\n",
    "    bandwidth = 0.2\n",
    "    alpha = 0.25\n",
    "    \n",
    "    # ax1: scatter plot\n",
    "\n",
    "    \n",
    "\n",
    "    # x \n",
    "    x_lof = [u for i, u in enumerate(x) if role[i] == 'LoF' and selected[i]]\n",
    "    x_act = [u for i, u in enumerate(x) if role[i] == 'Act' and selected[i]]\n",
    "    x_amb = [u for i, u in enumerate(x) if (role[i] == 'ambiguous' or str(role[i]) == \"nan\") and selected[i]]\n",
    "    x_nonsel = [u for i, u in enumerate(x) if not(selected[i])]\n",
    "    # y \n",
    "    y_lof = [u for i, u in enumerate(y) if role[i] == 'LoF' and selected[i]]\n",
    "    y_act = [u for i, u in enumerate(y) if role[i] == 'Act' and selected[i]]\n",
    "    y_amb = [u for i, u in enumerate(y) if role[i] == 'ambiguous' and selected[i]]\n",
    "    y_nonsel = [u for i, u in enumerate(y) if not(selected[i])]\n",
    "    \n",
    "   \n",
    "    # y error\n",
    "    y_error_lof = [u for i, u in enumerate(y_error) if role[i] == 'LoF' and selected[i]]\n",
    "    y_error_act = [u for i, u in enumerate(y_error) if role[i] == 'Act'  and selected[i] ]\n",
    "    y_error_amb = [u for i, u in enumerate(y_error) if (role[i] == 'ambiguous' or str(role[i]) == \"nan\")  and selected[i]]\n",
    "    y_error_nonsel = [u for i, u in enumerate(y_error) if not(selected[i])]\n",
    "    \n",
    "    ax2.scatter(x,y,s=s,c=c,alpha=0.9,edgecolors=ec,lw=1.)\n",
    "    scatter_kwargs = {\"alpha\":1.,\"markeredgecolor\":\"black\",\"markeredgewidth\":0.5,\"markersize\":0}\n",
    "    elinew=0.3\n",
    "    \n",
    "    ax2.errorbar(x_lof, y_lof,  yerr=np.array(y_error_lof).T, capsize=0 ,elinewidth=elinew,fmt='o',color=conf.dict_colors_role[\"LoF\"],**scatter_kwargs)\n",
    "    ax2.errorbar(x_act, y_act, yerr=np.array(y_error_act).T,  capsize=0 ,elinewidth=elinew,fmt='o',color=conf.dict_colors_role[\"Act\"],**scatter_kwargs)\n",
    "    ax2.errorbar(x_amb, y_amb, yerr=np.array(y_error_amb).T,  capsize=0 ,elinewidth=elinew,fmt='o',color=conf.dict_colors_role[\"ambiguous\"],**scatter_kwargs)\n",
    "    scatter_kwargs = {\"alpha\":0.5,\"markeredgewidth\":0.0,\"markersize\":0}\n",
    "    elinew=0.3\n",
    "    ax2.errorbar(x_nonsel, y_nonsel,  capsize=0 ,elinewidth=elinew ,fmt='o',color=\"grey\", yerr=np.array(y_error_nonsel).T,**scatter_kwargs) #  \n",
    "\n",
    "    \n",
    "    \n",
    "    #ax2.hlines(0.8, 0, 1, color='grey', linestyles='dashed' , lw= 1.0) \n",
    "    ax2.set_ylabel(ylabel,fontsize=12)\n",
    "    ax2.set_xlabel(xlabel,fontsize=12)\n",
    "    ax2.spines['right'].set_visible(False)\n",
    "    ax2.spines['top'].set_visible(False)\n",
    "\n",
    "\n",
    "    if highlight_genes is not None:\n",
    "        for k, v in highlight_gene_ttypes_coord.items():\n",
    "            ax2.text(v[1] + np.random.uniform(low=0, high=0.05, size=1), v[0], \n",
    "                     f'{k[1]} ({k[0]})',fontsize=10)\n",
    "            ax2.scatter([v[1]], [v[0]], \n",
    "                        s=25, \n",
    "                        marker='o', color=conf.dict_colors_role[highlight_gene_ttypes_role[k]], edgecolors='black',lw=2)\n",
    "\n",
    "    ax0.axis('off')\n",
    "    ax1.axis('off')\n",
    "    ax3.axis('off')\n",
    "    ax2.set_xscale('log')\n",
    "    #ax2.set_xlim(10,5000)\n",
    "    from matplotlib.ticker import FuncFormatter\n",
    "    formatter = FuncFormatter(lambda x, pos: ('{{:.{:1d}f}}'.format(int(np.maximum(-np.log10(x), 0)))).format(x))\n",
    "    ax2.xaxis.set_major_formatter(formatter)\n",
    "    ax2.hlines(0.8, ax2.get_xlim()[0], ax2.get_xlim()[1], color='grey', linestyles='dashed' , lw= 1.0) \n",
    "    \n",
    "    if density is None:\n",
    "        ax0.set_title(title)\n",
    "    else:\n",
    "        ax2.set_title(title)\n",
    "\n",
    "    if \"log\" in x_column:\n",
    "        ax2.set_xticklabels([int(2**x) for x in ax2.get_xticks()])\n",
    "\n",
    "   \n",
    "    \n",
    "    \n",
    "    ax2.set_ylim(0.5,1.05)\n",
    "    # create legend\n",
    "    \n",
    "    markers = [plt.Line2D([0,0],[0,0],color=conf.dict_colors_role[\"LoF\"], marker='o', linestyle=''),\n",
    "               plt.Line2D([0,0],[0,0],color=conf.dict_colors_role[\"Act\"], marker='o', linestyle=''),\n",
    "               plt.Line2D([0,0],[0,0],color=conf.dict_colors_role[\"Amb\"], marker='o', linestyle='solid',lw=1.,markeredgecolor=\"black\"),\n",
    "               plt.Line2D([0,0],[0,0],color=\"grey\", marker='o', linestyle='')]\n",
    "    ax2.legend(markers, [f\"{len(x_lof)} tumor supressor models\",f\"{len(x_act)} oncogene models\",f\"{len(x_amb)} ambiguous models\",f\"{len(x_nonsel)} non-selected models\"], \n",
    "               numpoints=1,loc =(0.7,0.05),facecolor=None )\n",
    "    \n",
    "    if saveplot:\n",
    "        plt.savefig(f'./raw_plots/{name_plot}.pdf', dpi=800,bbox_inches=\"tight\")\n",
    "        plt.savefig(f'./raw_plots/{name_plot}.png', dpi=800,bbox_inches=\"tight\")\n",
    "\n",
    "    plt.show()\n",
    "    \n",
    "    return y\n",
    "\n",
    "def is_specific(gene, ttype, model_dict):\n",
    "    \"\"\"\n",
    "    asserts whether the model employed for gene-ttype\n",
    "    is specific -- has been fitted with mutations \n",
    "    strictly from the gene-ttype -- or not.\n",
    "\n",
    "    it uses model_dict, an instance externally defined\n",
    "    with the boostdm models\n",
    "    \"\"\"\n",
    "\n",
    "    model = model_dict.get((ttype, gene), None)\n",
    "    if (ttype, gene) == model:\n",
    "        return True\n",
    "    else:\n",
    "        return False\n",
    "\n",
    "    \n",
    "    \n",
    "def is_cancer_specific(ttype):\n",
    "    ttypes=tree.get_ttypes(ttype)\n",
    "    if len(ttypes) == 1 and ttypes[0] == ttype:\n",
    "        return True\n",
    "    return False"
   ]
  },
  {
   "cell_type": "code",
   "execution_count": null,
   "metadata": {},
   "outputs": [],
   "source": [
    "_=plot_nmuts_vs_performance(data.drop_duplicates(),y_column=\"mean_fscore50\",x_column=\"n_muts\",y_error_c=(\"up_fscore50\",\"dn_fscore50\"),cancer_specific=True,selected_column=\"selected\",\n",
    "                             ylabel=\"F-score50\",xlabel=\"observed mutations\",highlight_genes=[('COREAD', 'TP53'), ('BLCA', 'RB1'),  ('HC', 'CTNNB1')],saveplot=True,name_plot=\"n_muts_vs_performance\")"
   ]
  },
  {
   "cell_type": "code",
   "execution_count": null,
   "metadata": {},
   "outputs": [],
   "source": []
  }
 ],
 "metadata": {
  "kernelspec": {
   "display_name": "Python 3 (ipykernel)",
   "language": "python",
   "name": "python3"
  },
  "language_info": {
   "codemirror_mode": {
    "name": "ipython",
    "version": 3
   },
   "file_extension": ".py",
   "mimetype": "text/x-python",
   "name": "python",
   "nbconvert_exporter": "python",
   "pygments_lexer": "ipython3",
   "version": "3.7.3"
  },
  "widgets": {
   "application/vnd.jupyter.widget-state+json": {
    "state": {},
    "version_major": 2,
    "version_minor": 0
   }
  }
 },
 "nbformat": 4,
 "nbformat_minor": 4
}
