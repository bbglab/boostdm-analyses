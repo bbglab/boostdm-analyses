{
 "cells": [
  {
   "cell_type": "code",
   "execution_count": null,
   "metadata": {},
   "outputs": [],
   "source": [
    "%load_ext autoreload\n",
    "%autoreload 2"
   ]
  },
  {
   "cell_type": "code",
   "execution_count": null,
   "metadata": {},
   "outputs": [],
   "source": [
    "import os\n",
    "import pandas as pd\n",
    "import numpy as np\n",
    "import sys\n",
    "from collections import defaultdict\n",
    "\n",
    "import warnings\n",
    "warnings.filterwarnings('ignore')\n",
    "\n",
    "import seaborn as sns\n",
    "import matplotlib.pyplot as plt\n",
    "from matplotlib import gridspec\n",
    "import matplotlib.patches as patches\n",
    "import matplotlib.colors as clr\n",
    "from matplotlib.colors import ListedColormap, LinearSegmentedColormap, BoundaryNorm\n",
    "from matplotlib import collections  as mc\n",
    "import matplotlib.colors as clr\n",
    "from matplotlib.ticker import FuncFormatter\n",
    "import matplotlib.lines as mlines\n",
    "\n",
    "sys.path.append(\"scripts/\")\n",
    "import scripts.conf as conf\n",
    "import scripts.oncotree\n",
    "conf.config_params()\n",
    "oncotree = scripts.oncotree.Oncotree()\n",
    "\n",
    "os.makedirs(\"raw_plots\",exist_ok=True)\n",
    "os.makedirs(\"source_data\",exist_ok=True)"
   ]
  },
  {
   "cell_type": "code",
   "execution_count": null,
   "metadata": {},
   "outputs": [],
   "source": [
    "if not(os.path.exists(\"source_data/model_information_including_generals.tsv.gz\")):\n",
    "    ! python3 scripts/prepare_table_model_types.py"
   ]
  },
  {
   "cell_type": "markdown",
   "metadata": {},
   "source": [
    "# Extended Figure 8, panel 8b"
   ]
  },
  {
   "cell_type": "markdown",
   "metadata": {},
   "source": [
    "### First, load the source data."
   ]
  },
  {
   "cell_type": "code",
   "execution_count": null,
   "metadata": {},
   "outputs": [],
   "source": [
    "df_table_ratios = pd.read_csv(\"source_data/ratio_models_by_tumor_type_model.tsv\",sep=\"\\t\")\n",
    "df_table_ratios.set_index(\"CANCER_TYPE\",inplace=True)\n",
    "df = pd.read_csv(\"source_data/unique_observed_mutations_with_type_model.tsv.gz\",sep=\"\\t\")\n",
    "# save the total counts (barplots in the heatmap)\n",
    "d_counts,d_counts_total = defaultdict(lambda: 0.0), defaultdict(lambda: 0.0) \n",
    "for type_model,ttype,count in df.groupby([\"type_model\",\"CANCER_TYPE\"],as_index=False).agg({\"pos\":\"count\"}).values:\n",
    "    d_counts[(type_model,ttype)] = count\n",
    "for ttype,count in df.groupby([\"CANCER_TYPE\"],as_index=False).agg({\"pos\":\"count\"}).values:\n",
    "    d_counts_total[ttype] = count"
   ]
  },
  {
   "cell_type": "markdown",
   "metadata": {},
   "source": [
    "### Prepare the data for plotting, including colors"
   ]
  },
  {
   "cell_type": "code",
   "execution_count": null,
   "metadata": {},
   "outputs": [],
   "source": [
    "order_categories=df_table_ratios.T.index\n",
    "order_ttypes=list(df_table_ratios.T.columns.values)\n",
    "dict_colors = {\"gene/ttype specific\":\"#e6550d\",\"gene specific\":\"#fdae6b\",\"gene other ttype\":\"#fee6ce\",\"no-model\":\"white\"}\n",
    "x=df[[\"gene\",\"CANCER_TYPE\",\"type_model\"]].drop_duplicates().values\n",
    "ttypes = set(df[\"CANCER_TYPE\"].unique())\n",
    "d_data = defaultdict(lambda: \"white\")\n",
    "for gene,ttype,type_model in x:\n",
    "    d_data[(gene,ttype)]=dict_colors[type_model]"
   ]
  },
  {
   "cell_type": "markdown",
   "metadata": {},
   "source": [
    "### Generate a row per gene..."
   ]
  },
  {
   "cell_type": "code",
   "execution_count": null,
   "metadata": {},
   "outputs": [],
   "source": [
    "x=df.groupby([\"gene\",\"CANCER_TYPE\"]).agg({\"pos\":\"count\"}).sort_values(\"pos\",ascending=False)\n",
    "x.reset_index(inplace=True)\n",
    "heatmap_total = x.pivot_table(index=\"gene\",values=\"pos\",columns=[\"CANCER_TYPE\"]).fillna(0.0)[order_ttypes]\n",
    "order_genes = heatmap_total.sum(axis=1).sort_values(ascending=False).index[0:20]"
   ]
  },
  {
   "cell_type": "markdown",
   "metadata": {},
   "source": [
    "### Select top genes (manual selection, as an example, any other gene could be selected)"
   ]
  },
  {
   "cell_type": "code",
   "execution_count": null,
   "metadata": {},
   "outputs": [],
   "source": [
    "selected_genes = [\"TP53\",\"KRAS\",\"PTEN\",\"PIK3CA\",\"CTNNB1\",\"RB1\",\"FBXW7\",\"ARID1A\",\"VHL\",\"EGFR\",\"IDH1\",\"NOTCH1\",\"APC\",\"BRAF\",\"SMAD4\",\"NF1\",\"NFE2L2\",\"ALK\",\"CDKN2A\",\"KMT2D\"]\n",
    "x=df[df[\"gene\"].isin(selected_genes)].groupby([\"gene\",\"CANCER_TYPE\"]).agg({\"pos\":\"count\"}).sort_values(\"pos\",ascending=False)\n",
    "x.reset_index(inplace=True)\n",
    "order_ttypes_n = [ttype  for ttype in order_ttypes if (ttype in x[\"CANCER_TYPE\"].unique()) and ttype in  df[(df[\"gene\"].isin(selected_genes))&(df[\"type_model\"]==\"gene/ttype specific\")][\"CANCER_TYPE\"].unique() ]\n",
    "heatmap_total = x.pivot_table(index=\"gene\",values=\"pos\",columns=[\"CANCER_TYPE\"]).fillna(0.0)[order_ttypes_n]\n",
    "count_genes = heatmap_total.sum(axis=1).sort_values(ascending=False)\n",
    "max_counts=np.nanmax(count_genes.values)\n",
    "order_genes = list(heatmap_total.sum(axis=1).sort_values(ascending=False).index[0:20])"
   ]
  },
  {
   "cell_type": "markdown",
   "metadata": {},
   "source": [
    "### Function to create the legend..."
   ]
  },
  {
   "cell_type": "code",
   "execution_count": null,
   "metadata": {},
   "outputs": [],
   "source": [
    "def create_legend():\n",
    "    c = [\"Gene/tumor type specific\",\"Tumor type specific\",\"Gene specific\", \"Other general\"]\n",
    "    colors = [\"#762a83\",\"#af8dc3\",\"#1b7837\",\"#7fbf7b\"]\n",
    "              \n",
    "    l = []\n",
    "    for i in range(0,len(c)):\n",
    "        l.append(mlines.Line2D([], [], color=colors[i], marker='.', markersize=25, label=c[i],lw=0.0))\n",
    "    return l"
   ]
  },
  {
   "cell_type": "markdown",
   "metadata": {},
   "source": [
    "### Render the plot!"
   ]
  },
  {
   "cell_type": "code",
   "execution_count": null,
   "metadata": {},
   "outputs": [],
   "source": [
    "fig,ax=plt.subplots(figsize=(10,8))\n",
    "N=len(order_genes)+1\n",
    "gs = gridspec.GridSpec(ncols=2,nrows=N,height_ratios=[1 for x in range(0,len(order_genes))]+[3],width_ratios=[20,1],wspace=0.0)\n",
    "ax0 = plt.subplot(gs[0]) \n",
    "ax1 = plt.subplot(gs[1]) \n",
    "axis = [ax0,ax1]\n",
    "len_columns=len(order_ttypes_n)\n",
    "for i in range(2,N*2,2):\n",
    "    axis.append(plt.subplot(gs[i],sharex=ax0))\n",
    "    axis.append(plt.subplot(gs[i+1],sharey=axis[-1]))\n",
    "i = 0\n",
    "for j in range(0,len(order_genes)*2,2):\n",
    "    ax = axis[j]\n",
    "    ax.get_xaxis().set_visible(False)\n",
    "    #sizes = [np.nanmin([75,x/3])+35 if x > 0 else 0.0  for x in heatmap_total.loc[order_genes[i]].values]\n",
    "    colors_gene = [d_data[(order_genes[i],v)] for v in order_ttypes_n]\n",
    "    ax.scatter(x=list(range(1,len_columns+1)),y=np.zeros(len_columns),s=80,color=colors_gene,edgecolors=[ \"black\"  if color_gene != \"white\"   else \"white\" for color_gene in colors_gene ],linewidths=0.5,clip_on=False)\n",
    "    ax.spines[\"top\"].set_visible(False)\n",
    "    ax.spines[\"left\"].set_visible(False)\n",
    "    ax.spines[\"right\"].set_visible(False)\n",
    "    ax.spines[\"bottom\"].set_visible(False)\n",
    "    ax.set_xticks([])\n",
    "    ax.axhline(y=0,xmin=0.05,xmax=1.1,color=\"#C0C0C0\",lw=0.25,alpha=0.5)\n",
    "    ax.set_ylabel(order_genes[i],fontsize=14,rotation=0,verticalalignment=\"center\", labelpad=25)\n",
    "    ax.set_yticks([])\n",
    "    ax.set_xlabel(\"\")\n",
    "    i = i +1\n",
    "\n",
    "i = 0\n",
    "for j in range(1,len(order_genes)*2,2):\n",
    "    ax = axis[j]\n",
    "    ax.get_xaxis().set_visible(False)\n",
    "    #ax.get_yaxis().set_visible(False)\n",
    "    value = count_genes.loc[order_genes[i]]\n",
    "    colors_gene = [d_data[(order_genes[i],v)] for v in order_ttypes_n]\n",
    "    ax.barh(y=0,width=value,color=\"black\",clip_on=True,height=0.8)\n",
    "    ax.annotate(xy=(value+5,-0.2),s=str(int(value)),fontsize=12)\n",
    "    ax.spines[\"top\"].set_visible(False)\n",
    "    ax.spines[\"left\"].set_visible(False)\n",
    "    ax.spines[\"right\"].set_visible(False)\n",
    "    ax.spines[\"bottom\"].set_visible(False)\n",
    "    ax.set_xticks([])\n",
    "    ax.set_yticks([])\n",
    "    ax.set_xlabel(\"\")\n",
    "    ax.set_ylabel(\"\")\n",
    "    ax.set_xlim(0,max_counts)\n",
    "    i = i +1\n",
    "ax=axis[-1]\n",
    "ax.set_axis_off()\n",
    "ax=axis[-2]\n",
    "ax.bar(x=range(1,len(order_ttypes_n)+1),height=[np.log2(d_counts_total[ttype]) for ttype in order_ttypes_n],color=\"black\",clip_on=False,width=0.6)\n",
    "ax.spines[\"top\"].set_visible(False)\n",
    "ax.spines[\"left\"].set_visible(False)\n",
    "ax.spines[\"right\"].set_visible(False)\n",
    "ax.spines[\"bottom\"].set_visible(False)\n",
    "ax.get_xaxis().set_visible(True)\n",
    "ax.set_ylabel(\"Driver mutations\\n (log2)\",fontsize=11)\n",
    "ax.set_yticks([0,2,4,6,8,10])\n",
    "ax.set_yticklabels([1,4,16,64,256,1024],fontsize=11)\n",
    "ax.set_xticks(list(range(1,len_columns+1)))\n",
    "ax.set_xticklabels(order_ttypes_n,rotation=90)\n",
    "ax.tick_params(axis = 'x', labelsize =14  , pad=0.25,width=0.25, length = 1.5)\n",
    "ax0.set_title(\"Models used for top mutated genes across intOGen cohorts\",fontsize=15)\n",
    "plt.savefig(\"raw_plots/top_genes_models_examples.pdf\", dpi=800,bbox_inches=\"tight\")\n",
    "plt.show()\n"
   ]
  },
  {
   "cell_type": "code",
   "execution_count": null,
   "metadata": {},
   "outputs": [],
   "source": []
  }
 ],
 "metadata": {
  "kernelspec": {
   "display_name": "Python 3 (ipykernel)",
   "language": "python",
   "name": "python3"
  },
  "language_info": {
   "codemirror_mode": {
    "name": "ipython",
    "version": 3
   },
   "file_extension": ".py",
   "mimetype": "text/x-python",
   "name": "python",
   "nbconvert_exporter": "python",
   "pygments_lexer": "ipython3",
   "version": "3.7.3"
  },
  "widgets": {
   "application/vnd.jupyter.widget-state+json": {
    "state": {},
    "version_major": 2,
    "version_minor": 0
   }
  }
 },
 "nbformat": 4,
 "nbformat_minor": 4
}
