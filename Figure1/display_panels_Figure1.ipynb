{
 "cells": [
  {
   "cell_type": "code",
   "execution_count": 1,
   "metadata": {},
   "outputs": [],
   "source": [
    "%load_ext autoreload\n",
    "%autoreload 2"
   ]
  },
  {
   "cell_type": "code",
   "execution_count": 1,
   "metadata": {},
   "outputs": [
    {
     "ename": "KeyError",
     "evalue": "'PATH_SOURCE_DATA'",
     "output_type": "error",
     "traceback": [
      "\u001b[0;31m---------------------------------------------------------------------------\u001b[0m",
      "\u001b[0;31mKeyError\u001b[0m                                  Traceback (most recent call last)",
      "\u001b[0;32m<ipython-input-1-8df806d73b9d>\u001b[0m in \u001b[0;36m<module>\u001b[0;34m\u001b[0m\n\u001b[1;32m     13\u001b[0m \u001b[0;34m\u001b[0m\u001b[0m\n\u001b[1;32m     14\u001b[0m \u001b[0msys\u001b[0m\u001b[0;34m.\u001b[0m\u001b[0mpath\u001b[0m\u001b[0;34m.\u001b[0m\u001b[0mappend\u001b[0m\u001b[0;34m(\u001b[0m\u001b[0;34m\"scripts/\"\u001b[0m\u001b[0;34m)\u001b[0m\u001b[0;34m\u001b[0m\u001b[0;34m\u001b[0m\u001b[0m\n\u001b[0;32m---> 15\u001b[0;31m \u001b[0;32mimport\u001b[0m \u001b[0mscripts\u001b[0m\u001b[0;34m.\u001b[0m\u001b[0mconf\u001b[0m \u001b[0;32mas\u001b[0m \u001b[0mconf\u001b[0m\u001b[0;34m\u001b[0m\u001b[0;34m\u001b[0m\u001b[0m\n\u001b[0m\u001b[1;32m     16\u001b[0m \u001b[0;32mimport\u001b[0m \u001b[0mscripts\u001b[0m\u001b[0;34m.\u001b[0m\u001b[0moncotree\u001b[0m\u001b[0;34m\u001b[0m\u001b[0;34m\u001b[0m\u001b[0m\n\u001b[1;32m     17\u001b[0m \u001b[0;32mfrom\u001b[0m \u001b[0mscripts\u001b[0m\u001b[0;34m.\u001b[0m\u001b[0mevaluate_performance\u001b[0m \u001b[0;32mimport\u001b[0m \u001b[0mmain\u001b[0m\u001b[0;34m\u001b[0m\u001b[0;34m\u001b[0m\u001b[0m\n",
      "\u001b[0;32m~/bg/boostdm-analyses/Figure1/scripts/conf.py\u001b[0m in \u001b[0;36m<module>\u001b[0;34m\u001b[0m\n\u001b[1;32m      4\u001b[0m \u001b[0;34m\u001b[0m\u001b[0m\n\u001b[1;32m      5\u001b[0m \u001b[0;34m\u001b[0m\u001b[0m\n\u001b[0;32m----> 6\u001b[0;31m \u001b[0mbase_path\u001b[0m \u001b[0;34m=\u001b[0m \u001b[0mos\u001b[0m\u001b[0;34m.\u001b[0m\u001b[0menviron\u001b[0m\u001b[0;34m[\u001b[0m\u001b[0;34m'PATH_SOURCE_DATA'\u001b[0m\u001b[0;34m]\u001b[0m\u001b[0;34m\u001b[0m\u001b[0;34m\u001b[0m\u001b[0m\n\u001b[0m\u001b[1;32m      7\u001b[0m \u001b[0;34m\u001b[0m\u001b[0m\n\u001b[1;32m      8\u001b[0m \u001b[0;34m\u001b[0m\u001b[0m\n",
      "\u001b[0;32m~/miniconda3/envs/healthy/lib/python3.7/os.py\u001b[0m in \u001b[0;36m__getitem__\u001b[0;34m(self, key)\u001b[0m\n\u001b[1;32m    677\u001b[0m         \u001b[0;32mexcept\u001b[0m \u001b[0mKeyError\u001b[0m\u001b[0;34m:\u001b[0m\u001b[0;34m\u001b[0m\u001b[0;34m\u001b[0m\u001b[0m\n\u001b[1;32m    678\u001b[0m             \u001b[0;31m# raise KeyError with the original key value\u001b[0m\u001b[0;34m\u001b[0m\u001b[0;34m\u001b[0m\u001b[0;34m\u001b[0m\u001b[0m\n\u001b[0;32m--> 679\u001b[0;31m             \u001b[0;32mraise\u001b[0m \u001b[0mKeyError\u001b[0m\u001b[0;34m(\u001b[0m\u001b[0mkey\u001b[0m\u001b[0;34m)\u001b[0m \u001b[0;32mfrom\u001b[0m \u001b[0;32mNone\u001b[0m\u001b[0;34m\u001b[0m\u001b[0;34m\u001b[0m\u001b[0m\n\u001b[0m\u001b[1;32m    680\u001b[0m         \u001b[0;32mreturn\u001b[0m \u001b[0mself\u001b[0m\u001b[0;34m.\u001b[0m\u001b[0mdecodevalue\u001b[0m\u001b[0;34m(\u001b[0m\u001b[0mvalue\u001b[0m\u001b[0;34m)\u001b[0m\u001b[0;34m\u001b[0m\u001b[0;34m\u001b[0m\u001b[0m\n\u001b[1;32m    681\u001b[0m \u001b[0;34m\u001b[0m\u001b[0m\n",
      "\u001b[0;31mKeyError\u001b[0m: 'PATH_SOURCE_DATA'"
     ]
    }
   ],
   "source": [
    "import os\n",
    "import pandas as pd\n",
    "import seaborn as sns\n",
    "import matplotlib.pyplot as plt\n",
    "from matplotlib import gridspec\n",
    "import numpy as np\n",
    "import sys\n",
    "import pickle\n",
    "import gzip\n",
    "import functools\n",
    "import operator\n",
    "import glob\n",
    "\n",
    "sys.path.append(\"scripts/\")\n",
    "import scripts.conf as conf\n",
    "from scripts.evaluate_performance import comparison_main\n",
    "import scripts.oncotree\n",
    "conf.config_params()\n",
    "oncotree = scripts.oncotree.Oncotree()\n",
    "\n",
    "os.makedirs(\"raw_plots\",exist_ok=True)\n",
    "os.makedirs(\"source_data\",exist_ok=True)\n",
    "\n",
    "import warnings\n",
    "warnings.filterwarnings('ignore')\n",
    "\n",
    "from sklearn.metrics import precision_recall_curve\n",
    "from sklearn.linear_model import LogisticRegression\n",
    "from sklearn.metrics import auc\n",
    "\n",
    "from fetch_data_needle import create_observed_dataset, get_mutations, get_plot_data\n",
    "from plot_needle import plot_observed_distribution"
   ]
  },
  {
   "cell_type": "markdown",
   "metadata": {},
   "source": [
    "# Figure 1a"
   ]
  },
  {
   "cell_type": "code",
   "execution_count": null,
   "metadata": {},
   "outputs": [],
   "source": [
    "obs_muts = get_mutations()\n",
    "\n",
    "def needleplot(gene, ttype, plotname=None):\n",
    "    df = create_observed_dataset(gene, ttype, obs_muts)\n",
    "    args = get_plot_data(df)\n",
    "    plot_observed_distribution(gene, ttype, *args, plotname=plotname)"
   ]
  },
  {
   "cell_type": "code",
   "execution_count": null,
   "metadata": {},
   "outputs": [],
   "source": [
    "gene, ttype = 'EGFR', 'LUAD'\n",
    "needleplot(gene, ttype, plotname=f'./raw_plots/{gene}.{ttype}')"
   ]
  },
  {
   "cell_type": "markdown",
   "metadata": {},
   "source": [
    "# Figure 1c"
   ]
  },
  {
   "cell_type": "code",
   "execution_count": null,
   "metadata": {},
   "outputs": [],
   "source": [
    "if not(os.path.exists(\"source_data/model_selection_information.tsv\")):\n",
    "    ! python3 scripts/create_table_stats_models.py source_data/model_selection_information.tsv"
   ]
  },
  {
   "cell_type": "code",
   "execution_count": null,
   "metadata": {},
   "outputs": [],
   "source": [
    "\n",
    "def is_specific(gene, ttype, model_dict):\n",
    "    \"\"\"\n",
    "    asserts whether the model employed for gene-ttype\n",
    "    is specific -- has been fitted with mutations \n",
    "    strictly from the gene-ttype -- or not.\n",
    "\n",
    "    it uses model_dict, an instance externally defined\n",
    "    with the boostdm models\n",
    "    \"\"\"\n",
    "\n",
    "    model = model_dict.get((ttype, gene), None)\n",
    "    if (ttype, gene) == model:\n",
    "        return True\n",
    "    else:\n",
    "        return False\n",
    "\n",
    "    \n",
    "    \n",
    "def is_cancer_specific(ttype):\n",
    "    ttypes=oncotree.get_ttypes(ttype)\n",
    "    if len(ttypes) == 1 and ttypes[0] == ttype:\n",
    "        return True\n",
    "    return False\n",
    "    \n",
    "def plot_discovery_vs_performance_size(df,x_column,y_column,y_error_c,x_error_c,selected_column,cancer_specific,xlabel = \"\", ylabel = \"\", title='Mutational discovery index and boostdm performance', highlight_genes=None, density=None, saveplot=False,name_plot=\"\",size_column=\"\",xlim=None,m_x=None,m_y=None):\n",
    "    highlight_gene_ttypes_coord,highlight_gene_ttypes_size = {}, {}\n",
    "    highlight_gene_ttypes_role = {}\n",
    "    x, y, y_error,x_error, s, c, role, selected,ec = [], [], [], [], [], [], [], [], []\n",
    "    for i,r in df.iterrows():\n",
    "        if cancer_specific and is_cancer_specific(r[\"ttype\"]):\n",
    "            x.append(r[x_column])\n",
    "            y.append(r[y_column])\n",
    "            x_error.append([r[x_column]-r[x_error_c[0]],r[x_error_c[1]]-r[x_column]])\n",
    "            y_error.append([r[y_column]-r[y_error_c[0]],r[y_error_c[1]]-r[y_column]])\n",
    "            role.append(r[\"ROLE\"])\n",
    "            sel = r[selected_column]\n",
    "            selected.append(sel)\n",
    "            if sel:\n",
    "                s.append(50)#s.append(r[size_column])\n",
    "                c.append(conf.dict_colors_role[r[\"ROLE\"]])\n",
    "                ec.append(\"black\")\n",
    "            else:\n",
    "                c.append(\"grey\")\n",
    "                ec.append(\"grey\")\n",
    "                s.append(25)#s.append(r[size_column])\n",
    "        \n",
    "        if highlight_genes is not None:\n",
    "                k=(r[\"ttype\"],r[\"gene\"])\n",
    "                if (r[\"ttype\"],r[\"gene\"]) in highlight_genes:\n",
    "                    highlight_gene_ttypes_coord[k] = y[-1], x[-1]\n",
    "                    highlight_gene_ttypes_role[k] = r[\"ROLE\"]\n",
    "                    highlight_gene_ttypes_size[k] = 50 #r[size_column]\n",
    "                    print(f'{r[\"gene\"]}: {r[\"ttype\"]}: discovery index: {y[-1]} performance f-score50 {x[-1]}')\n",
    "\n",
    "    fig, ax = plt.subplots(figsize=(6.5, 7))\n",
    "    gs = gridspec.GridSpec(figure=fig, ncols=2, nrows=2, width_ratios=[15,2], height_ratios=[2, 15])\n",
    "    gs.update(hspace=0.0, wspace=0.00)\n",
    "\n",
    "    ax0 = plt.subplot(gs[0]) # density top\n",
    "    ax1 = plt.subplot(gs[1]) # null\n",
    "    ax2 = plt.subplot(gs[2], sharex=ax0) # scatter\n",
    "    ax3 = plt.subplot(gs[3], sharey=ax2) # density\n",
    "\n",
    "    # ax0: density plot: oncogenes vs tumor suppressors\n",
    "    \n",
    "    \n",
    "    bandwidth = 0.03\n",
    "    alpha = 0.25\n",
    "    x_lof = [u for i, u in enumerate(x) if role[i] == 'LoF' ]\n",
    "    x_act = [u for i, u in enumerate(x) if role[i] == 'Act']\n",
    "    x_amb = [u for i, u in enumerate(x) if (role[i] == 'ambiguous' or str(role[i]) == \"nan\") ]\n",
    "\n",
    "    y_lof = [u for i, u in enumerate(y) if role[i] == 'LoF' ]\n",
    "    y_act = [u for i, u in enumerate(y) if role[i] == 'Act']\n",
    "    y_amb = [u for i, u in enumerate(y) if role[i] == 'ambiguous' ]\n",
    "\n",
    "    bandwidth = 0.2\n",
    "    alpha = 0.25\n",
    "    sns.distplot(x_lof, hist=False, kde=True, color=conf.dict_colors_role['LoF'], \n",
    "                         kde_kws={'linewidth': 2, 'bw': bandwidth, 'alpha': alpha}, \n",
    "                         ax=ax0, vertical=False)\n",
    "    sns.distplot(x_act, hist=False, kde=True, color=conf.dict_colors_role['Act'], \n",
    "                         kde_kws={'linewidth': 2, 'bw': bandwidth, 'alpha': alpha}, \n",
    "                         ax=ax0, vertical=False)\n",
    "\n",
    "    # ax1: scatter plot\n",
    "   \n",
    "\n",
    "    \n",
    "\n",
    "    # x \n",
    "    x_lof = [u for i, u in enumerate(x) if role[i] == 'LoF' and selected[i]]\n",
    "    x_act = [u for i, u in enumerate(x) if role[i] == 'Act' and selected[i]]\n",
    "    x_amb = [u for i, u in enumerate(x) if (role[i] == 'ambiguous' or str(role[i]) == \"nan\") and selected[i]]\n",
    "    x_nonsel = [u for i, u in enumerate(x) if not(selected[i])]\n",
    "    # y \n",
    "    y_lof = [u for i, u in enumerate(y) if role[i] == 'LoF' and selected[i]]\n",
    "    y_act = [u for i, u in enumerate(y) if role[i] == 'Act' and selected[i]]\n",
    "    y_amb = [u for i, u in enumerate(y) if role[i] == 'ambiguous' and selected[i]]\n",
    "    y_nonsel = [u for i, u in enumerate(y) if not(selected[i])]\n",
    "    \n",
    "    # x error\n",
    "    x_error_lof = [u for i, u in enumerate(x_error) if role[i] == 'LoF'  and selected[i]]\n",
    "    x_error_act = [u for i, u in enumerate(x_error) if role[i] == 'Act'  and selected[i]]\n",
    "    x_error_amb = [u for i, u in enumerate(x_error) if role[i] == ('ambiguous' or str(role[i]) == \"nan\")  and selected[i]]\n",
    "    x_error_nonsel = [u for i, u in enumerate(x_error) if not(selected[i])]\n",
    "    \n",
    "    # y error\n",
    "    y_error_lof = [u for i, u in enumerate(y_error) if role[i] == 'LoF' and selected[i]]\n",
    "    y_error_act = [u for i, u in enumerate(y_error) if role[i] == 'Act'  and selected[i] ]\n",
    "    y_error_amb = [u for i, u in enumerate(y_error) if (role[i] == 'ambiguous' or str(role[i]) == \"nan\")  and selected[i]]\n",
    "    y_error_nonsel = [u for i, u in enumerate(y_error) if not(selected[i])]\n",
    "    \n",
    "    ax2.fill_between(x=[0,m_x],y1=[m_y,m_y],y2=[1.01,1.01],color=\"#fdcdac\")\n",
    "    ax2.scatter(x,y,s=s,c=c,alpha=0.9,edgecolors=ec,lw=1.)\n",
    "    \n",
    "    scatter_kwargs = {\"alpha\":1.,\"markeredgecolor\":\"black\",\"markeredgewidth\":0.5,\"markersize\":0}\n",
    "    elinew=0.3\n",
    "\n",
    "    ax2.errorbar(x_lof, y_lof,  yerr=np.array(y_error_lof).T, capsize=0 ,elinewidth=elinew,fmt='o',color=conf.dict_colors_role[\"LoF\"],**scatter_kwargs)\n",
    "    ax2.errorbar(x_act, y_act, yerr=np.array(y_error_act).T,  capsize=0 ,elinewidth=elinew,fmt='o',color=conf.dict_colors_role[\"Act\"],**scatter_kwargs)\n",
    "    ax2.errorbar(x_amb, y_amb, yerr=np.array(y_error_amb).T,  capsize=0 ,elinewidth=elinew,fmt='o',color=conf.dict_colors_role[\"ambiguous\"],**scatter_kwargs)\n",
    "    \n",
    "    scatter_kwargs = {\"alpha\":1.0,\"markeredgecolor\":\"black\",\"markeredgewidth\":0.5,\"markersize\":0}\n",
    "    elinew=0.3\n",
    "    ax2.errorbar(x_nonsel, y_nonsel,  capsize=0 ,elinewidth=elinew ,fmt='o',color=\"grey\", yerr=np.array(y_error_nonsel).T,**scatter_kwargs) #  \n",
    "\n",
    "    \n",
    "    if m_x:\n",
    "        ax2.vlines(m_x,0.8,1,color=\"grey\",linestyles='dashed' , lw= 1.0)\n",
    "    if m_y:\n",
    "        ax2.hlines(m_y,0,1.05,color=\"grey\",linestyles='dashed' , lw= 1.0)\n",
    "        ax2.hlines(0.8, 0, 1, color='grey',linestyles='dashed' , lw= 2.5) \n",
    "    else:\n",
    "        ax2.hlines(0.8, 0, 1, color='grey', linestyles='dashed' , lw= 1.0) \n",
    "    ax2.set_ylabel(ylabel,fontsize=12)\n",
    "    ax2.set_xlabel(xlabel,fontsize=12)\n",
    "    ax2.spines['right'].set_visible(False)\n",
    "    ax2.spines['top'].set_visible(False)\n",
    "\n",
    "\n",
    "    if highlight_genes is not None:\n",
    "        for k, v in highlight_gene_ttypes_coord.items():\n",
    "            ax2.text(v[1] + np.random.uniform(low=0, high=0.05, size=1), v[0], \n",
    "                     f'{k[1]} ({k[0]})',fontsize=10)\n",
    "            ax2.scatter([v[1]], [v[0]], \n",
    "                        s=highlight_gene_ttypes_size[k], \n",
    "                        marker='o', color=conf.dict_colors_role[highlight_gene_ttypes_role[k]], edgecolors='black',lw=2)\n",
    "\n",
    "    ax0.axis('off')\n",
    "    ax1.axis('off')\n",
    "    ax3.axis('off')\n",
    "\n",
    "    if density is None:\n",
    "        ax0.set_title(title)\n",
    "    else:\n",
    "        ax2.set_title(title)\n",
    "\n",
    "    if \"log\" in y_column:\n",
    "        ax2.set_yticklabels([int(2**x) for x in ax2.get_xticks()])\n",
    "    if xlim:\n",
    "        ax0.set_xlim(xlim)\n",
    "        ax2.set_xlim(xlim)\n",
    "    ax0.set_xlim(-0.05,1.05)\n",
    "    ax2.set_xlim(-0.05,1.05)\n",
    "    \n",
    "    \n",
    "    ax2.set_ylim(0.5,1.05)\n",
    "\n",
    "    \n",
    "    \n",
    "    # create legend\n",
    "    \n",
    "    markers = [plt.Line2D([0,0],[0,0],color=conf.dict_colors_role[\"LoF\"], marker='o', linestyle=''),\n",
    "               plt.Line2D([0,0],[0,0],color=conf.dict_colors_role[\"Act\"], marker='o', linestyle=''),\n",
    "               plt.Line2D([0,0],[0,0],color=conf.dict_colors_role[\"Amb\"], marker='o', linestyle='solid',lw=1.,markeredgecolor=\"black\"),\n",
    "               plt.Line2D([0,0],[0,0],color=\"grey\", marker='o', linestyle='')]\n",
    "    ax2.legend(markers, [f\"{len(x_lof)} tumor supressor models\",f\"{len(x_act)} oncogene models\",f\"{len(x_amb)} ambiguous models\",f\"{len(x_nonsel)} non-selected models\"], \n",
    "               numpoints=1,loc =(0.8,0.05),facecolor=None )\n",
    "    \n",
    "    \n",
    "    \n",
    "    if saveplot:\n",
    "        plt.savefig(f'./raw_plots/{name_plot}.pdf', dpi=800,bbox_inches=\"tight\")\n",
    "        plt.savefig(f'./raw_plots/{name_plot}.png', dpi=800,bbox_inches=\"tight\")\n",
    "\n",
    "    plt.show()\n",
    "    \n",
    "    return y\n",
    "\n",
    "def assign_quartile(row,a,b,d_values):\n",
    "    if row[a] >= d_total[a] and row[b] >= d_values[b]:\n",
    "        return \"Other\"\n",
    "    if row[a] >= d_total[a] and row[b] < d_values[b]:\n",
    "        return \"Other\"\n",
    "    if row[a] < d_total[a] and row[b] >= d_values[b]:\n",
    "        return \"Q1\"\n",
    "    if row[a] < d_total[a] and row[b] < d_values[b]:\n",
    "        return \"Other\""
   ]
  },
  {
   "cell_type": "markdown",
   "metadata": {},
   "source": [
    "### Figure 1c, Load data"
   ]
  },
  {
   "cell_type": "code",
   "execution_count": null,
   "metadata": {},
   "outputs": [],
   "source": [
    "data = pd.read_csv(\"source_data/model_selection_information.tsv\",sep=\"\\t\")\n",
    "selected = data[data[\"selected\"]]\n",
    "\n",
    "d_total = {}\n",
    "d_total[\"discovery_index\"]=np.percentile(selected[\"discovery_index\"].values,50)\n",
    "d_total[\"mean_fscore50\"]=np.percentile(selected[\"mean_fscore50\"].values,50)\n",
    "\n",
    "d_values = {\"discovery_index\":np.nanmedian(selected[\"discovery_index\"].values),\"mean_fscore50\":np.nanmedian(selected[\"mean_fscore50\"].values)} \n",
    "data[\"quartile_di_vs_fscore\"] = data.apply(lambda row: assign_quartile(row,\"discovery_index\",\"mean_fscore50\",d_values),axis=1)\n",
    "selected = data[data[\"selected\"]]"
   ]
  },
  {
   "cell_type": "markdown",
   "metadata": {},
   "source": [
    "### Figure 1c, render plot"
   ]
  },
  {
   "cell_type": "code",
   "execution_count": null,
   "metadata": {},
   "outputs": [],
   "source": [
    "conf.config_params()\n",
    "_=plot_discovery_vs_performance_size(data.drop_duplicates(),y_column=\"mean_fscore50\",x_column=\"discovery_index\",x_error_c=(\"discovery_low\",\"discovery_high\"),y_error_c=(\"up_fscore50\",\"dn_fscore50\"),cancer_specific=True,size_column=\"normalized_size\",selected_column=\"selected\",\n",
    "                             ylabel=\"F-score50\",xlabel=\"discovery Index\",highlight_genes=[('COREAD', 'TP53'), ('BLCA', 'RB1'),   ('HC', 'CTNNB1')],saveplot=True,name_plot=\"d_index_vs_performance_q1\",m_x=d_total[\"discovery_index\"],m_y=d_total[\"mean_fscore50\"])"
   ]
  },
  {
   "cell_type": "markdown",
   "metadata": {},
   "source": [
    "### Figure 1c, render inner set plot"
   ]
  },
  {
   "cell_type": "code",
   "execution_count": null,
   "metadata": {},
   "outputs": [],
   "source": [
    "conf.config_params()\n",
    "\n",
    "g=sns.displot(data=selected,x=\"linear_complexity\",hue=\"quartile_di_vs_fscore\",kind=\"ecdf\",palette={\"Q1\":\"#fdcdac\",\"Other\":\"black\"},lw=3.0,height=3)\n",
    "g.set(xlabel='Feature complexity', ylabel='Cumulative Probability')\n",
    "plt.savefig(f'./raw_plots/ecdf_q1_vs_other.pdf', dpi=800,bbox_inches=\"tight\")\n",
    "plt.show()"
   ]
  },
  {
   "cell_type": "markdown",
   "metadata": {},
   "source": [
    "# Figure 1d"
   ]
  },
  {
   "cell_type": "code",
   "execution_count": 11,
   "metadata": {},
   "outputs": [
    {
     "name": "stdout",
     "output_type": "stream",
     "text": [
      "Doing LoF...\n"
     ]
    },
    {
     "data": {
      "image/png": "[encoded data removed]",
      "text/plain": [
       "<Figure size 160x260 with 5 Axes>"
      ]
     },
     "metadata": {},
     "output_type": "display_data"
    },
    {
     "data": {
      "image/png": "[encoded data removed]",
      "text/plain": [
       "<Figure size 250x125 with 2 Axes>"
      ]
     },
     "metadata": {},
     "output_type": "display_data"
    },
    {
     "name": "stdout",
     "output_type": "stream",
     "text": [
      "Doing Act...\n"
     ]
    },
    {
     "name": "stderr",
     "output_type": "stream",
     "text": [
      "/home/opich/bg/boostdm-analyses/Figure1/scripts/evaluate_performance.py:352: RuntimeWarning: invalid value encountered in true_divide\n",
      "  mcc = ((tp * tn) - (fp * fn)) / np.sqrt((tp + fp) * (tp + fn) * (tn + fp) * (tn + fn))\n"
     ]
    },
    {
     "data": {
      "text/plain": [
       "<Figure size 640x480 with 0 Axes>"
      ]
     },
     "metadata": {},
     "output_type": "display_data"
    },
    {
     "data": {
      "image/png": "[encoded data removed]",
      "text/plain": [
       "<Figure size 190x260 with 5 Axes>"
      ]
     },
     "metadata": {},
     "output_type": "display_data"
    },
    {
     "data": {
      "image/png": "[encoded data removed]",
      "text/plain": [
       "<Figure size 250x125 with 2 Axes>"
      ]
     },
     "metadata": {},
     "output_type": "display_data"
    },
    {
     "data": {
      "text/plain": [
       "<Figure size 640x480 with 0 Axes>"
      ]
     },
     "metadata": {},
     "output_type": "display_data"
    }
   ],
   "source": [
    "outpath = './raw_plots/'\n",
    "\n",
    "file = \"source-data/figure1-source-data/kim_new.tsv\"\n",
    "predictions = \"/workspace/datasets/boostdm_runs/boostdm-new-pipeline-discovery-holdout/output_kim/saturation/prediction/\"\n",
    "true_label = \"functional\"\n",
    "false_label = \"neutral\"\n",
    "csqn_type = 'missense'\n",
    "label = \"kim\"\n",
    "\n",
    "comparison_main(file, outpath,  true_label, false_label, csqn_type, label, predictions)\n"
   ]
  },
  {
   "cell_type": "code",
   "execution_count": 12,
   "metadata": {},
   "outputs": [
    {
     "name": "stdout",
     "output_type": "stream",
     "text": [
      "Doing LoF...\n"
     ]
    },
    {
     "data": {
      "image/png": "[encoded data removed]",
      "text/plain": [
       "<Figure size 130x260 with 5 Axes>"
      ]
     },
     "metadata": {},
     "output_type": "display_data"
    },
    {
     "data": {
      "image/png": "[encoded data removed]",
      "text/plain": [
       "<Figure size 250x125 with 2 Axes>"
      ]
     },
     "metadata": {},
     "output_type": "display_data"
    },
    {
     "name": "stdout",
     "output_type": "stream",
     "text": [
      "Doing Act...\n"
     ]
    },
    {
     "data": {
      "text/plain": [
       "<Figure size 640x480 with 0 Axes>"
      ]
     },
     "metadata": {},
     "output_type": "display_data"
    },
    {
     "data": {
      "image/png": "[encoded data removed]",
      "text/plain": [
       "<Figure size 130x260 with 5 Axes>"
      ]
     },
     "metadata": {},
     "output_type": "display_data"
    },
    {
     "data": {
      "image/png": "[encoded data removed]",
      "text/plain": [
       "<Figure size 250x125 with 2 Axes>"
      ]
     },
     "metadata": {},
     "output_type": "display_data"
    },
    {
     "data": {
      "text/plain": [
       "<Figure size 640x480 with 0 Axes>"
      ]
     },
     "metadata": {},
     "output_type": "display_data"
    }
   ],
   "source": [
    "file = \"source-data/figure1-source-data/berger_new.tsv\"\n",
    "predictions = \"/workspace/datasets/boostdm_runs/boostdm-new-pipeline-discovery-holdout/output_berger/saturation/prediction/\"\n",
    "true_label = \"Driver\"\n",
    "false_label = \"Passenger\"\n",
    "csqn_type = 'missense'\n",
    "label = \"berger\"\n",
    "comparison_main(file, outpath,  true_label, false_label, csqn_type, label, predictions)\n"
   ]
  },
  {
   "cell_type": "markdown",
   "metadata": {},
   "source": [
    "# Figure 1e"
   ]
  },
  {
   "cell_type": "code",
   "execution_count": null,
   "metadata": {},
   "outputs": [],
   "source": [
    "method_label = {'boostDM_score': 'boostDM',\n",
    "                'chasm_score': 'CHASMplus',\n",
    "                'cadd_score': 'CADD',\n",
    "                'tp53_kato': 'TP53 (Kato et al.)',\n",
    "                'tp53_giacomelli': 'TP53 (Giacomelli et al.)',\n",
    "                'vest4': 'VEST4',\n",
    "                'sift': 'SIFT',\n",
    "                'sift4g': 'SIFT4G',\n",
    "                'Polyphen2_HVAR': 'Polyphen2 (HVAR)',\n",
    "                'Polyphen2_HDIV': 'Polyphen2 (HDIV)',\n",
    "                'fathmm': 'FATHMM',\n",
    "                'MutationAssessor': 'MutationAssessor'\n",
    "                }\n",
    "\n",
    "palette_boostdm = {'boostDM_score': '#ac0f0f', 'boostDM_score_strict': '#ad6f0f'}\n",
    "palette_bioinfo = dict(zip(['chasm_score', 'cadd_score', 'vest4', 'sift', 'sift4g', 'Polyphen2_HVAR', 'Polyphen2_HDIV', \n",
    "                            'fathmm', 'MutationAssessor'], \n",
    "                           ['pink', '#b491c8', '#1565c0', '#663a82', '#1e88e5', '#90caf9', 'black', '#3c1361', '#52307c', ]))\n",
    "palette_experimental = dict(zip(['tp53_kato', 'tp53_giacomelli', 'pten_mighell', 'ras_bandaru'],\n",
    "                                ['#607c3c', '#b5e550', '#ececa3', '#abc32f']))\n",
    "\n",
    "palettes = {}\n",
    "palettes.update(palette_boostdm)\n",
    "palettes.update(palette_bioinfo)\n",
    "palettes.update(palette_experimental)\n",
    "\n",
    "cv_path = os.path.join(os.environ['PATH_SOURCE_DATA'], 'benchmark-cvdata')"
   ]
  },
  {
   "cell_type": "code",
   "execution_count": null,
   "metadata": {},
   "outputs": [],
   "source": [
    "# Precision-Recall Curve\n",
    "\n",
    "def trycatch(f):\n",
    "    \n",
    "    def func(*args, **kwargs):\n",
    "        x = None\n",
    "        try:\n",
    "            x = f(*args, **kwargs)\n",
    "        except Exception as e:\n",
    "            pass\n",
    "        return x\n",
    "    return func\n",
    "\n",
    "\n",
    "def plot_pr_curve(testy, model_probs, ax, **kwargs):\n",
    "    \n",
    "    # plot model precision-recall curve\n",
    "    precision, recall, _ = precision_recall_curve(testy, model_probs)\n",
    "    ax.plot(recall, precision, **kwargs)\n",
    "    \n",
    "    # axis labels\n",
    "    ax.set_xlabel('Recall')\n",
    "    ax.set_ylabel('Precision')\n",
    "    \n",
    "    # axis limits\n",
    "    ax.set_ylim(0.5, 1.01)\n",
    "    \n",
    "\n",
    "@trycatch\n",
    "def plot_prc(gene, ttype, score, ax=None, plot=True, **kwargs):\n",
    "    \n",
    "    if score in ['chasm_score']:\n",
    "        with gzip.open(os.path.join(cv_path, \n",
    "                                    f'cv_chasm/{gene}.{ttype}.cv_chasm.pickle.gz'), \n",
    "                       'rb') as g:\n",
    "            tables = pickle.load(g)\n",
    "        df = pd.concat(tables, axis=0)\n",
    "        df = df[(df[score] != '.') & (~df[score].isnull())]\n",
    "        X = df[score].values.reshape(-1, 1)\n",
    "        y = df['driver'].values\n",
    "    \n",
    "    elif score in ['cadd_score']:\n",
    "        with gzip.open(os.path.join(cv_path, \n",
    "                                    f'cv_cadd/{gene}.{ttype}.cv_cadd.pickle.gz'), \n",
    "                       'rb') as g:\n",
    "            tables = pickle.load(g)\n",
    "        df = pd.concat(tables, axis=0)\n",
    "        df = df[~df[score].isnull()]\n",
    "        X = df[score].values.reshape(-1, 1)\n",
    "        y = df['driver'].values\n",
    "    \n",
    "    elif score in ['boostDM_score']:\n",
    "        with gzip.open(os.path.join(cv_path, \n",
    "                                    f'cv_boostdm/{gene}.{ttype}.cv_boostdm.pickle.gz'), \n",
    "                       'rb') as g:\n",
    "            tables = pickle.load(g)\n",
    "        df = pd.concat(tables, axis=0)\n",
    "        df = df[(~df[score].isnull())]\n",
    "        X = df[score].values.reshape(-1, 1)\n",
    "        y = df['driver'].values\n",
    "    \n",
    "    elif score in ['tp53_kato']:\n",
    "        with gzip.open(os.path.join(cv_path, \n",
    "                                    f'cv_tp53_kato/{gene}.{ttype}.cv_tp53.pickle.gz'), \n",
    "                       'rb') as g:\n",
    "            tables = pickle.load(g)\n",
    "        df = pd.concat(tables, axis=0)\n",
    "        df = df[(~df['tp53_score'].isnull())]\n",
    "        X = df['tp53_score'].values.reshape(-1, 1)\n",
    "        y = df['driver'].values\n",
    "    \n",
    "    elif score in ['pten_mighell']:\n",
    "        with gzip.open(os.path.join(cv_path, \n",
    "                                    f'cv_pten_mighell/{gene}.{ttype}.cv_pten.pickle.gz'), \n",
    "                       'rb') as g:\n",
    "            tables = pickle.load(g)\n",
    "        df = pd.concat(tables, axis=0)\n",
    "        df = df[(~df[score].isnull())]\n",
    "        X = df[score].values.reshape(-1, 1)\n",
    "        y = df['driver'].values\n",
    "    \n",
    "    elif score in ['ras_bandaru']:\n",
    "        with gzip.open(os.path.join(cv_path, \n",
    "                                    f'cv_ras_bandaru/{gene}.{ttype}.pickle.gz'), \n",
    "                       'rb') as g:\n",
    "            tables = pickle.load(g)\n",
    "        df = pd.concat(tables, axis=0)\n",
    "        df = df[(~df['ras_score'].isnull())]\n",
    "        X = df['ras_score'].values.reshape(-1, 1)\n",
    "        y = df['driver'].values\n",
    "        \n",
    "    elif score in ['tp53_giacomelli']:\n",
    "        with gzip.open(os.path.join(cv_path, \n",
    "                                    f'cv_tp53_giacomelli/{gene}.{ttype}.pickle.gz'), \n",
    "                       'rb') as g:\n",
    "            tables = pickle.load(g)\n",
    "        df = pd.concat(tables, axis=0)\n",
    "        df = df[(~df['tp53_natgen_score'].isnull())]\n",
    "        X = df['tp53_natgen_score'].values.reshape(-1, 1)\n",
    "        y = df['driver'].values\n",
    "    \n",
    "    elif score in ['sift']:\n",
    "        with gzip.open(os.path.join(cv_path, \n",
    "                                    f'cv_{score}/{gene}.{ttype}.pickle.gz'), \n",
    "                       'rb') as g:\n",
    "            tables = pickle.load(g)\n",
    "        df = pd.concat(tables, axis=0)\n",
    "        df = df[(df['SIFT'] != '.') & (~df['SIFT'].isnull())]\n",
    "        X = df['SIFT'].values.reshape(-1, 1)\n",
    "        y = df['driver'].values\n",
    "        \n",
    "    elif score in ['sift4g']:\n",
    "        with gzip.open(os.path.join(cv_path, \n",
    "                                    f'cv_{score}/{gene}.{ttype}.pickle.gz'), \n",
    "                       'rb') as g:\n",
    "            tables = pickle.load(g)\n",
    "        df = pd.concat(tables, axis=0)\n",
    "        df = df[(df['SIFT4G'] != '.') & (~df['SIFT4G'].isnull())]\n",
    "        X = df['SIFT4G'].values.reshape(-1, 1)\n",
    "        y = df['driver'].values\n",
    "        \n",
    "    elif score in ['Polyphen2_HDIV']:\n",
    "        with gzip.open(os.path.join(cv_path, \n",
    "                                    f'cv_{score}/{gene}.{ttype}.pickle.gz'), \n",
    "                       'rb') as g:\n",
    "            tables = pickle.load(g)\n",
    "        df = pd.concat(tables, axis=0)\n",
    "        df = df[(df[score] != '.') & (~df[score].isnull())]\n",
    "        X = df[score].values.reshape(-1, 1)\n",
    "        y = df['driver'].values\n",
    "    \n",
    "    elif score in ['Polyphen2_HVAR']:\n",
    "        with gzip.open(os.path.join(cv_path, \n",
    "                                    f'cv_{score}/{gene}.{ttype}.pickle.gz'), \n",
    "                       'rb') as g:\n",
    "            tables = pickle.load(g)\n",
    "        df = pd.concat(tables, axis=0)\n",
    "        df = df[(df[score] != '.') & (~df[score].isnull())]\n",
    "        X = df[score].values.reshape(-1, 1)\n",
    "        y = df['driver'].values\n",
    "        \n",
    "    elif score in ['fathmm']:\n",
    "        with gzip.open(os.path.join(cv_path, \n",
    "                                    f'cv_{score}/{gene}.{ttype}.pickle.gz'), \n",
    "                       'rb') as g:\n",
    "            tables = pickle.load(g)\n",
    "        df = pd.concat(tables, axis=0)\n",
    "        df = df[(df['FATHMM'] != '.') & (~df['FATHMM'].isnull())]\n",
    "        X = df['FATHMM'].values.reshape(-1, 1)\n",
    "        y = df['driver'].values\n",
    "        \n",
    "    elif score in ['MutationAssessor']:\n",
    "        with gzip.open(os.path.join(cv_path, \n",
    "                                    f'cv_{score}/{gene}.{ttype}.pickle.gz'), \n",
    "                       'rb') as g:\n",
    "            tables = pickle.load(g)\n",
    "        df = pd.concat(tables, axis=0)\n",
    "        df = df[(df[score] != '.') & (~df[score].isnull())]\n",
    "        X = df[score].values.reshape(-1, 1)\n",
    "        y = df['driver'].values\n",
    "\n",
    "    elif score in ['vest4']:\n",
    "        with gzip.open(os.path.join(cv_path, \n",
    "                                    f'cv_{score}/{gene}.{ttype}.pickle.gz'), \n",
    "                       'rb') as g:\n",
    "            tables = pickle.load(g)\n",
    "        df = pd.concat(tables, axis=0)\n",
    "        df = df[(df['VEST4'] != '.') & (~df['VEST4'].isnull())]\n",
    "        X = df['VEST4'].values.reshape(-1, 1)\n",
    "        y = df['driver'].values\n",
    "        \n",
    "    # fit simple logistic model\n",
    "    model = LogisticRegression(solver='lbfgs')\n",
    "    \n",
    "    # number of mutations\n",
    "    n = len(y)\n",
    "    positive = sum(y)\n",
    "    negative = n - positive\n",
    "    \n",
    "    model.fit(X, y)\n",
    "    yhat = model.predict_proba(X)\n",
    "    probs = yhat[:, 1]\n",
    "    assert(X.shape[0] == len(y))\n",
    "\n",
    "    # calculate the precision-recall auc\n",
    "    precision, recall, _ = precision_recall_curve(y, probs)\n",
    "    auc_score = auc(recall, precision)\n",
    "\n",
    "    # plot precision-recall curves\n",
    "    if plot:\n",
    "        plot_pr_curve(y, probs, ax, label=f'{method_label[score]}: auPRC={auc_score:.2}', **kwargs)\n",
    "    \n",
    "    return auc_score, precision, recall, positive, negative\n",
    "\n",
    "\n",
    "def plot_tp53_boxplot():\n",
    "    \n",
    "    gene = 'TP53'\n",
    "    fig, ax = plt.subplots(figsize=(10, 3))\n",
    "    tumor_types = {'PRAD', 'ESCA', 'LUSC', 'LUAD', 'UCEC', 'PAAD', 'OV', 'BLCA', 'GBM'}\n",
    "    \n",
    "    scores, scores_full = zip(*list(method_label.items()))\n",
    "        \n",
    "    box = [[] for _ in scores]\n",
    "    for ttype in tumor_types:\n",
    "        for i, score in enumerate(scores):\n",
    "            auc, _, _, _, _ = plot_prc(gene, ttype, score, ax=ax, plot=False, lw=4, alpha=1)\n",
    "            box[i].append(auc)\n",
    "    \n",
    "    sorted_index = np.argsort(list(map(np.nanmedian, box)))[::-1]\n",
    "    box = [box[i] for i in sorted_index]\n",
    "    scores_full = [scores_full[i] for i in sorted_index]\n",
    "    \n",
    "    \n",
    "    ax.boxplot(box, showfliers=False)\n",
    "    x = [[i+1] * len(b) for i, b in enumerate(box)]\n",
    "    x = functools.reduce(operator.concat, x)\n",
    "    x = np.array(x) + np.random.normal(0, 0.05, size=len(x))\n",
    "    \n",
    "    colors = [[palettes[scores[sorted_index[i]]]] * len(b) for i, b in enumerate(box)]\n",
    "    colors = functools.reduce(operator.concat, colors)\n",
    "    y = functools.reduce(operator.concat, box)\n",
    "    ax.scatter(x, y, c=colors, s=30)\n",
    "    ax.set_ylabel('auPRC')\n",
    "    ax.set_xlabel('Method')\n",
    "    ax.set_xticklabels(scores_full, rotation=90)\n",
    "    ax.set_title('Performance in TP53 across tumor-types')\n",
    "    ax.spines['right'].set_visible(False)\n",
    "    ax.spines['top'].set_visible(False)\n",
    "    plt.savefig('./raw_plots/TP53.boxplot.svg', dpi=300, bbox_inches='tight')\n",
    "    plt.show()\n",
    "    \n",
    "    \n",
    "def plot_tp53_bioinfo(gene, ttype):\n",
    "    \n",
    "    fig, ax = plt.subplots(figsize=(4,4))\n",
    "    lw = 4\n",
    "    alpha = 0.8\n",
    "    plot_prc(gene, ttype, 'boostDM_score', ax=ax, color=palettes['boostDM_score'], lw=5, alpha=1)\n",
    "    plot_prc(gene, ttype, 'chasm_score', ax=ax, color=palettes['chasm_score'], lw=lw, alpha=alpha)\n",
    "    plot_prc(gene, ttype, 'cadd_score', ax=ax, color=palettes['cadd_score'], lw=lw, alpha=alpha)\n",
    "    plot_prc(gene, ttype, 'sift4g', ax=ax, color=palettes['sift4g'], lw=lw, alpha=alpha)\n",
    "    plot_prc(gene, ttype, 'vest4', ax=ax, color=palettes['vest4'], lw=lw, alpha=alpha)\n",
    "    plot_prc(gene, ttype, 'Polyphen2_HDIV', ax=ax, color=palettes['Polyphen2_HDIV'], lw=lw, alpha=0.5)\n",
    "    \n",
    "    ax.spines['right'].set_visible(False)\n",
    "    ax.spines['top'].set_visible(False)\n",
    "    ax.set_title(f'{gene} ({ttype})')\n",
    "    ax.legend(loc=(0.5, 0.3))\n",
    "    plt.savefig(f'./raw_plots/{gene}.{ttype}.prc.bioinfo.svg', dpi=300, bbox_inches='tight')\n",
    "    plt.show()\n",
    "    \n",
    "    \n",
    "def plot_tp53_experimental(gene, ttype):\n",
    "    \n",
    "    fig, ax = plt.subplots(figsize=(4,4))\n",
    "    lw = 4\n",
    "    alpha = 0.8\n",
    "    plot_prc(gene, ttype, 'boostDM_score', ax=ax, color=palettes['boostDM_score'], lw=5, alpha=1)\n",
    "    plot_prc(gene, ttype, 'tp53_kato', ax=ax, color=palettes['tp53_kato'], lw=lw, alpha=alpha)\n",
    "    plot_prc(gene, ttype, 'tp53_giacomelli', ax=ax, color=palettes['tp53_giacomelli'], lw=lw, alpha=alpha)\n",
    "    \n",
    "    ax.spines['right'].set_visible(False)\n",
    "    ax.spines['top'].set_visible(False)\n",
    "    ax.set_title(f'{gene} ({ttype})')\n",
    "    ax.legend(loc=(0.5, 0.3))\n",
    "    plt.savefig(f'./raw_plots/{gene}.{ttype}.prc.experimental.svg', dpi=300, bbox_inches='tight')\n",
    "    plt.show()"
   ]
  },
  {
   "cell_type": "code",
   "execution_count": null,
   "metadata": {},
   "outputs": [],
   "source": [
    "plot_tp53_experimental('TP53', 'BLCA')"
   ]
  },
  {
   "cell_type": "code",
   "execution_count": null,
   "metadata": {},
   "outputs": [],
   "source": [
    "plot_tp53_bioinfo('TP53', 'BLCA')"
   ]
  },
  {
   "cell_type": "code",
   "execution_count": null,
   "metadata": {},
   "outputs": [],
   "source": [
    "plot_tp53_boxplot()"
   ]
  },
  {
   "cell_type": "markdown",
   "metadata": {},
   "source": [
    "## Figure 1f"
   ]
  },
  {
   "cell_type": "code",
   "execution_count": null,
   "metadata": {},
   "outputs": [],
   "source": [
    "highlighted = {\n",
    "    'cadd': [('KRAS', 'PAAD'), ('EGFR', 'LUAD'), ('CTNNB1', 'HC'), ('FOXA1', 'PRAD'), ('TP53', 'BLCA')],\n",
    "    'chasm': [('AR', 'PRAD'), ('EGFR', 'LUAD'), ('FOXA1', 'PRAD'), ('TP53', 'BLCA')],\n",
    "    'ras_bandaru': [('NRAS', 'CM'), ('NRAS', 'MM'), ('NRAS', 'COREAD'), \n",
    "                    ('KRAS', 'CH'), ('KRAS', 'COREAD'), ('KRAS', 'LUAD'), \n",
    "                    ('KRAS', 'PAAD'), ('KRAS', 'ALL'), ('KRAS', 'MM'), \n",
    "                    ('HRAS', 'BLCA'), ('HRAS', 'HNSC')],\n",
    "    'sift4g': [('KRAS', 'PAAD'), ('EGFR', 'LUAD'), ('PIK3CA', 'UCEC'), ('FOXA1', 'PRAD'), ('TP53', 'BLCA')]\n",
    "}"
   ]
  },
  {
   "cell_type": "code",
   "execution_count": null,
   "metadata": {},
   "outputs": [],
   "source": [
    "def scatter_fscore(score):\n",
    "\n",
    "    fig, ax = plt.subplots(figsize=(4,4))\n",
    "\n",
    "    boostdm, method = {}, {}\n",
    "    \n",
    "    if score in ['chasm', 'cadd']:\n",
    "        glob_fn = os.path.join(cv_path, f'cv_{score}', f'*.*.cv_{score}.pickle.gz')\n",
    "        color_label = f'{score}_score'\n",
    "        prc_arg = f'{score}_score'\n",
    "    \n",
    "    elif score in ['sift4g', 'ras_bandaru']:\n",
    "        glob_fn = os.path.join(cv_path, f'cv_{score}', f'*.*.pickle.gz')\n",
    "        color_label = score\n",
    "        prc_arg = score\n",
    "    \n",
    "    for fn in glob.glob(glob_fn):\n",
    "        gene, ttype = tuple(os.path.basename(fn).split('.')[:2])\n",
    "        x = plot_prc(gene, ttype, 'boostDM_score', ax=ax, plot=False)\n",
    "        y = plot_prc(gene, ttype, prc_arg, ax=ax, plot=False)\n",
    "        if (x is None) or (y is None):\n",
    "            continue\n",
    "        boostdm[(gene, ttype)] = x\n",
    "        method[(gene, ttype)] = y\n",
    "    \n",
    "    aucs_boostdm = {k: s[0] for k, s in boostdm.items() if (s[3] >= 200) and (s[4] >= 200)}\n",
    "    aucs_method = {k: s[0] for k, s in method.items() if (s[3] >= 200) and (s[4] >= 200)}\n",
    "    labels = set(aucs_boostdm.keys()).intersection(set(aucs_method.keys()))\n",
    "    y = [aucs_method[k] for k in labels]\n",
    "    x = [aucs_boostdm[k] for k in labels]\n",
    "    ax.scatter(x, y, s=200, alpha=0.5, color=palettes[color_label])\n",
    "    for i, l in enumerate(labels):\n",
    "        if l in highlighted[score]:\n",
    "            ax.text(x[i], y[i], f'{l[0]} ({l[1]})')\n",
    "            ax.scatter([x[i]], [y[i]], s=200, color='white', edgecolor='black')\n",
    "    ax.plot([0.85, 1], [0.85, 1], '--', c='r', lw=4)\n",
    "    ax.set_ylabel(f'{score.upper()} (auPRC)')\n",
    "    ax.set_xlabel('boostDM (auPRC)')\n",
    "    ax.set_xlim(0.84, 1.01)\n",
    "    ax.spines['right'].set_visible(False)\n",
    "    ax.spines['top'].set_visible(False)\n",
    "    plt.savefig(f'./raw_plots/boostdm_vs_{score}.prc.global.svg', dpi=200, bbox_inches='tight')\n",
    "    plt.show()"
   ]
  },
  {
   "cell_type": "code",
   "execution_count": null,
   "metadata": {},
   "outputs": [],
   "source": [
    "scatter_fscore('cadd')"
   ]
  },
  {
   "cell_type": "code",
   "execution_count": null,
   "metadata": {},
   "outputs": [],
   "source": [
    "scatter_fscore('chasm')"
   ]
  },
  {
   "cell_type": "code",
   "execution_count": null,
   "metadata": {},
   "outputs": [],
   "source": [
    "scatter_fscore('sift4g')"
   ]
  },
  {
   "cell_type": "code",
   "execution_count": null,
   "metadata": {},
   "outputs": [],
   "source": [
    "scatter_fscore('ras_bandaru')"
   ]
  },
  {
   "cell_type": "code",
   "execution_count": null,
   "metadata": {},
   "outputs": [],
   "source": []
  }
 ],
 "metadata": {
  "kernelspec": {
   "display_name": "Python [conda env:healthy]",
   "language": "python",
   "name": "conda-env-healthy-py"
  },
  "language_info": {
   "codemirror_mode": {
    "name": "ipython",
    "version": 3
   },
   "file_extension": ".py",
   "mimetype": "text/x-python",
   "name": "python",
   "nbconvert_exporter": "python",
   "pygments_lexer": "ipython3",
   "version": "3.7.5"
  },
  "toc": {
   "base_numbering": 1,
   "nav_menu": {},
   "number_sections": true,
   "sideBar": true,
   "skip_h1_title": false,
   "title_cell": "Table of Contents",
   "title_sidebar": "Contents",
   "toc_cell": false,
   "toc_position": {},
   "toc_section_display": true,
   "toc_window_display": true
  },
  "widgets": {
   "application/vnd.jupyter.widget-state+json": {
    "state": {},
    "version_major": 2,
    "version_minor": 0
   }
  }
 },
 "nbformat": 4,
 "nbformat_minor": 4
}
