{
 "cells": [
  {
   "cell_type": "code",
   "execution_count": 1,
   "metadata": {},
   "outputs": [],
   "source": [
    "%load_ext autoreload\n",
    "%autoreload 2"
   ]
  },
  {
   "cell_type": "code",
   "execution_count": 2,
   "metadata": {},
   "outputs": [],
   "source": [
    "import os\n",
    "os.environ['PATH_SOURCE_DATA'] = '/workspace/projects/boostdm/nature-release/source-data'"
   ]
  },
  {
   "cell_type": "code",
   "execution_count": 9,
   "metadata": {},
   "outputs": [],
   "source": [
    "import os\n",
    "from tqdm import tqdm\n",
    "import warnings\n",
    "warnings.simplefilter(action='ignore', category=FutureWarning)\n",
    "warnings.simplefilter(action='ignore', category=RuntimeWarning)\n",
    "\n",
    "import patsy\n",
    "import pandas as pd\n",
    "import numpy as np\n",
    "from statsmodels.discrete.discrete_model import Logit\n",
    "\n",
    "import matplotlib.pyplot as plt\n",
    "\n",
    "os.makedirs(\"raw_plots\",exist_ok=True)\n",
    "os.makedirs(\"source_data\",exist_ok=True)"
   ]
  },
  {
   "cell_type": "markdown",
   "metadata": {},
   "source": [
    "# Extended Figure 4a"
   ]
  },
  {
   "cell_type": "markdown",
   "metadata": {},
   "source": [
    "# Extended Figure 4b"
   ]
  },
  {
   "cell_type": "markdown",
   "metadata": {},
   "source": [
    "# Extended Figure 4c"
   ]
  },
  {
   "cell_type": "code",
   "execution_count": 4,
   "metadata": {},
   "outputs": [],
   "source": [
    "fn = os.path.join(os.environ['PATH_SOURCE_DATA'], 'extended-figure4-source-data', 'bench_gnomad_AF.txt')\n",
    "df = pd.read_csv(fn, sep='\\t', low_memory=False)\n",
    "df.drop(columns=['boostDM_score'], inplace=True)"
   ]
  },
  {
   "cell_type": "code",
   "execution_count": 5,
   "metadata": {},
   "outputs": [],
   "source": [
    "df['AF_bin'] = df['FUNC_SCORE'].apply(lambda x: 1*(0<=x<1e-5) + 2*(1e-5<=x<1e-4) + 3*(1e-4<=x<1e-3) + 4*(1e-3<=x))\n",
    "df = df[df['FUNC_SCORE'] > 0]  # keep non-zero frequencies\n",
    "df['logAF'] = df['FUNC_SCORE'].apply(lambda x: -np.log10(x))"
   ]
  },
  {
   "cell_type": "code",
   "execution_count": 6,
   "metadata": {},
   "outputs": [],
   "source": [
    "def logit(gene, ttype):\n",
    "    \n",
    "    dg = df[(df['gene'] == gene) & ((df['csqn_type_missense'] == 1) | (df['csqn_type_nonsense'] == 1))].copy()\n",
    "    dg[f'boostDM_score_{ttype}_bin'] = dg[f'boostDM_score_{ttype}'].apply(lambda x: int(x >= 0.5))\n",
    "    y, X = patsy.dmatrices(f'boostDM_score_{ttype}_bin ~ logAF', dg, return_type='matrix')\n",
    "    logit = Logit(y, X)\n",
    "    res = logit.fit_regularized(method='l1', disp=0)\n",
    "    return res._results.params, res._results.pvalues\n",
    "\n",
    "\n",
    "def plot_gnomad_bar(gene, ttype, plot=False):\n",
    "    \n",
    "    dg = df[(df['gene'] == gene) & ((df['csqn_type_missense'] == 1) | (df['csqn_type_nonsense'] == 1))]\n",
    "    dg = dg.drop_duplicates(subset=['chr', 'pos', 'alt', 'aachange'], keep='first')\n",
    "    x = dg['AF_bin'].values + np.random.normal(0, 0.03, size=dg['AF_bin'].shape[0])\n",
    "    y = dg[f'boostDM_score_{ttype}'].values\n",
    "    \n",
    "    # logistic regression\n",
    "    params, pvalues = logit(gene, ttype)\n",
    "    \n",
    "    # boostDM bins\n",
    "    bins = []\n",
    "    for b in [1,2,3,4]:\n",
    "        bins.append(dg[dg['AF_bin'] == b][f'boostDM_score_{ttype}'].values)\n",
    "    \n",
    "    driver_bin = list(map(lambda x: sum(x >= 0.5) / len(x), bins))\n",
    "    passenger_bin = list(map(lambda x: sum(x < 0.5) / len(x), bins))\n",
    "    \n",
    "    if plot:\n",
    "        fig, ax = plt.subplots()\n",
    "        ax.bar([1,2,3,4], driver_bin, color='#ac0f0f', width=0.5, alpha=0.7)\n",
    "        ax.bar([1,2,3,4], passenger_bin, bottom=driver_bin, width=0.5, color='#636363', alpha=0.5)\n",
    "        ax.set_xticks([1,2,3,4])\n",
    "        xticklabels = ['$\\leq 10^{-5}$', '$10^{-5}-10^{-4}$', '$10^{-4}-10^{-3}$', '$\\geq 10^{-3}$']\n",
    "\n",
    "        ax.set_xticklabels(xticklabels)\n",
    "        ax.set_title(f'{gene}: {ttype}\\nLOR={params[1]:.3f}: pval={pvalues[1]:.3f}')\n",
    "        ax.set_ylabel('boostDM')\n",
    "        ax.set_xlabel('frequency bins (gnomAD)')\n",
    "        ax.set_ylim(-0.1, 1.19)\n",
    "        for b in [1,2,3,4]:\n",
    "            ax.annotate(f'N={int(driver_bin[b-1] * len(bins[b-1]))}/{len(bins[b-1])}', (b-0.2, 1.1))\n",
    "        ax.spines['right'].set_visible(False)\n",
    "        ax.spines['top'].set_visible(False)\n",
    "\n",
    "        plt.savefig(f'./raw_plots/{gene}.{ttype}.gnomad.bar.png', dpi=300, bbox_inches='tight')\n",
    "        plt.show()\n",
    "\n",
    "    return params[1], pvalues[1], len(x)"
   ]
  },
  {
   "cell_type": "code",
   "execution_count": 7,
   "metadata": {},
   "outputs": [
    {
     "name": "stderr",
     "output_type": "stream",
     "text": [
      "100%|██████████| 37/37 [00:28<00:00,  1.29it/s]\n"
     ]
    }
   ],
   "source": [
    "# individual plots and logistic regressions gene-wise\n",
    "\n",
    "res = {}\n",
    "boostdm_scores = [c for c in df.columns if c.startswith('boostDM_score')]\n",
    "for s in boostdm_scores:\n",
    "    dg = df[~df[s].isnull()]\n",
    "    res[s] = dg['gene'].unique().tolist()\n",
    "\n",
    "logoddsratios = []\n",
    "pvalues = []\n",
    "sizes = []\n",
    "labels = []\n",
    "\n",
    "for score, genes in tqdm(res.items()):\n",
    "    for g in genes:\n",
    "        ttype = '_'.join(score.split('_')[2:])\n",
    "        try:\n",
    "            lor, pval, n = plot_gnomad_bar(g, ttype)\n",
    "            if abs(lor) < 5:\n",
    "                logoddsratios.append(lor)\n",
    "                pvalues.append(pval)\n",
    "                sizes.append(n)\n",
    "                labels.append(f'{g} ({ttype})')\n",
    "        except Exception as e:\n",
    "            pass"
   ]
  },
  {
   "cell_type": "code",
   "execution_count": 10,
   "metadata": {},
   "outputs": [
    {
     "data": {
      "image/png": "[encoded data removed]",
      "text/plain": [
       "<Figure size 1080x216 with 1 Axes>"
      ]
     },
     "metadata": {
      "needs_background": "light"
     },
     "output_type": "display_data"
    }
   ],
   "source": [
    "figsize = (15,3)\n",
    "fig, ax = plt.subplots(figsize=figsize)\n",
    "\n",
    "sortindex = np.argsort(logoddsratios + [0.86])[::-1]\n",
    "lor = np.array(logoddsratios + [0.86])[sortindex]\n",
    "lab = np.array(labels + ['overall'])[sortindex]\n",
    "\n",
    "ax.bar(range(len(lor)), lor, width=0.9)\n",
    "\n",
    "ax.text(30, 3, '$p<2·10^{-4}$')\n",
    "\n",
    "ax.vlines(100, 0, 4, linestyles='--')\n",
    "\n",
    "ax.spines['top'].set_visible(False)\n",
    "ax.spines['right'].set_visible(False)\n",
    "ax.set_xticks(range(len(lor)))\n",
    "ax.set_xticklabels(lab, fontsize=6, rotation=90)\n",
    "ax.set_ylabel('boostDM model')\n",
    "ax.set_ylabel('effect (LOR)')\n",
    "ax.set_ylim(-1.05, 4.15)\n",
    "ax.set_title('boostDM enrichment in lower-frequency polymorphisms')\n",
    "plt.savefig('./raw_plots/bar.effect.gnomad.svg', dpi=300, bbox_inches='tight')\n",
    "plt.show()"
   ]
  },
  {
   "cell_type": "code",
   "execution_count": null,
   "metadata": {},
   "outputs": [],
   "source": []
  }
 ],
 "metadata": {
  "kernelspec": {
   "display_name": "Python 3",
   "language": "python",
   "name": "python3"
  },
  "language_info": {
   "codemirror_mode": {
    "name": "ipython",
    "version": 3
   },
   "file_extension": ".py",
   "mimetype": "text/x-python",
   "name": "python",
   "nbconvert_exporter": "python",
   "pygments_lexer": "ipython3",
   "version": "3.6.9"
  },
  "widgets": {
   "application/vnd.jupyter.widget-state+json": {
    "state": {},
    "version_major": 2,
    "version_minor": 0
   }
  }
 },
 "nbformat": 4,
 "nbformat_minor": 4
}
