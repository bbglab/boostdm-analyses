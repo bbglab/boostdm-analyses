{
 "cells": [
  {
   "cell_type": "code",
   "execution_count": 19,
   "metadata": {},
   "outputs": [
    {
     "name": "stdout",
     "output_type": "stream",
     "text": [
      "The autoreload extension is already loaded. To reload it, use:\n",
      "  %reload_ext autoreload\n"
     ]
    }
   ],
   "source": [
    "%load_ext autoreload\n",
    "%autoreload 2"
   ]
  },
  {
   "cell_type": "code",
   "execution_count": 33,
   "metadata": {},
   "outputs": [],
   "source": [
    "import os\n",
    "import sys\n",
    "sys.path.append('./scripts/')\n",
    "from tqdm import tqdm\n",
    "\n",
    "import patsy\n",
    "import pandas as pd\n",
    "import numpy as np\n",
    "from statsmodels.discrete.discrete_model import Logit\n",
    "\n",
    "import matplotlib.pyplot as plt"
   ]
  },
  {
   "cell_type": "markdown",
   "metadata": {},
   "source": [
    "# Extended Figure 4c"
   ]
  },
  {
   "cell_type": "code",
   "execution_count": 21,
   "metadata": {},
   "outputs": [],
   "source": [
    "df = pd.read_csv('./source-data/bench_gnomad_AF.txt', sep='\\t', low_memory=False)\n",
    "df.drop(columns=['boostDM_score'], inplace=True)"
   ]
  },
  {
   "cell_type": "code",
   "execution_count": 22,
   "metadata": {},
   "outputs": [],
   "source": [
    "df['AF_bin'] = df['FUNC_SCORE'].apply(lambda x: 1*(0<=x<1e-5) + 2*(1e-5<=x<1e-4) + 3*(1e-4<=x<1e-3) + 4*(1e-3<=x))\n",
    "df = df[df['FUNC_SCORE'] > 0]  # keep non-zero frequencies\n",
    "df['logAF'] = df['FUNC_SCORE'].apply(lambda x: -np.log10(x))"
   ]
  },
  {
   "cell_type": "code",
   "execution_count": 34,
   "metadata": {},
   "outputs": [],
   "source": [
    "def logit(gene, ttype):\n",
    "    \n",
    "    dg = df[(df['gene'] == gene) & ((df['csqn_type_missense'] == 1) | (df['csqn_type_nonsense'] == 1))].copy()\n",
    "    dg[f'boostDM_score_{ttype}_bin'] = dg[f'boostDM_score_{ttype}'].apply(lambda x: int(x >= 0.5))\n",
    "    y, X = patsy.dmatrices(f'boostDM_score_{ttype}_bin ~ logAF', dg, return_type='matrix')\n",
    "    logit = Logit(y, X)\n",
    "    res = logit.fit_regularized(method='l1', disp=0)\n",
    "    return res._results.params, res._results.pvalues\n",
    "\n",
    "\n",
    "def plot_gnomad_bar(gene, ttype, plot=False):\n",
    "    \n",
    "    dg = df[(df['gene'] == gene) & ((df['csqn_type_missense'] == 1) | (df['csqn_type_nonsense'] == 1))]\n",
    "    dg = dg.drop_duplicates(subset=['chr', 'pos', 'alt', 'aachange'], keep='first')\n",
    "    x = dg['AF_bin'].values + np.random.normal(0, 0.03, size=dg['AF_bin'].shape[0])\n",
    "    y = dg[f'boostDM_score_{ttype}'].values\n",
    "    \n",
    "    # logistic regression\n",
    "    params, pvalues = logit(gene, ttype)\n",
    "    \n",
    "    # boostDM bins\n",
    "    bins = []\n",
    "    for b in [1,2,3,4]:\n",
    "        bins.append(dg[dg['AF_bin'] == b][f'boostDM_score_{ttype}'].values)\n",
    "    \n",
    "    driver_bin = list(map(lambda x: sum(x >= 0.5) / len(x), bins))\n",
    "    passenger_bin = list(map(lambda x: sum(x < 0.5) / len(x), bins))\n",
    "    \n",
    "    if plot:\n",
    "        fig, ax = plt.subplots()\n",
    "        ax.bar([1,2,3,4], driver_bin, color='#ac0f0f', width=0.5, alpha=0.7)\n",
    "        ax.bar([1,2,3,4], passenger_bin, bottom=driver_bin, width=0.5, color='#636363', alpha=0.5)\n",
    "        ax.set_xticks([1,2,3,4])\n",
    "        xticklabels = ['$\\leq 10^{-5}$', '$10^{-5}-10^{-4}$', '$10^{-4}-10^{-3}$', '$\\geq 10^{-3}$']\n",
    "\n",
    "        ax.set_xticklabels(xticklabels)\n",
    "        ax.set_title(f'{gene}: {ttype}\\nLOR={params[1]:.3f}: pval={pvalues[1]:.3f}')\n",
    "        ax.set_ylabel('boostDM')\n",
    "        ax.set_xlabel('frequency bins (gnomAD)')\n",
    "        ax.set_ylim(-0.1, 1.19)\n",
    "        for b in [1,2,3,4]:\n",
    "            ax.annotate(f'N={int(driver_bin[b-1] * len(bins[b-1]))}/{len(bins[b-1])}', (b-0.2, 1.1))\n",
    "        ax.spines['right'].set_visible(False)\n",
    "        ax.spines['top'].set_visible(False)\n",
    "\n",
    "        plt.savefig(f'./raw_plots/{gene}.{ttype}.gnomad.bar.png', dpi=300, bbox_inches='tight')\n",
    "        plt.show()\n",
    "\n",
    "    return params[1], pvalues[1], len(x)"
   ]
  },
  {
   "cell_type": "code",
   "execution_count": 35,
   "metadata": {},
   "outputs": [
    {
     "name": "stderr",
     "output_type": "stream",
     "text": [
      "  3%|▎         | 1/37 [00:00<00:24,  1.49it/s]"
     ]
    },
    {
     "name": "stdout",
     "output_type": "stream",
     "text": [
      "KRAS ST division by zero\n",
      "SPOP PRAD division by zero\n",
      "PTEN PRAD division by zero\n"
     ]
    },
    {
     "name": "stderr",
     "output_type": "stream",
     "text": [
      "\r",
      "  5%|▌         | 2/37 [00:01<00:25,  1.35it/s]"
     ]
    },
    {
     "name": "stdout",
     "output_type": "stream",
     "text": [
      "HRAS HNSC division by zero\n"
     ]
    },
    {
     "name": "stderr",
     "output_type": "stream",
     "text": [
      " 11%|█         | 4/37 [00:05<00:44,  1.35s/it]"
     ]
    },
    {
     "name": "stdout",
     "output_type": "stream",
     "text": [
      "RHOA BLCA division by zero\n",
      "KRAS BLCA division by zero\n"
     ]
    },
    {
     "name": "stderr",
     "output_type": "stream",
     "text": [
      " 16%|█▌        | 6/37 [00:09<00:49,  1.59s/it]"
     ]
    },
    {
     "name": "stdout",
     "output_type": "stream",
     "text": [
      "PTEN UCEC division by zero\n"
     ]
    },
    {
     "name": "stderr",
     "output_type": "stream",
     "text": [
      "\r",
      " 19%|█▉        | 7/37 [00:09<00:35,  1.18s/it]"
     ]
    },
    {
     "name": "stdout",
     "output_type": "stream",
     "text": [
      "PTEN BRCA division by zero\n"
     ]
    },
    {
     "name": "stderr",
     "output_type": "stream",
     "text": [
      "\r",
      " 22%|██▏       | 8/37 [00:10<00:30,  1.05s/it]"
     ]
    },
    {
     "name": "stdout",
     "output_type": "stream",
     "text": [
      "PTEN COREAD division by zero\n",
      "KRAS COREAD division by zero\n"
     ]
    },
    {
     "name": "stderr",
     "output_type": "stream",
     "text": [
      "\r",
      " 24%|██▍       | 9/37 [00:11<00:28,  1.02s/it]"
     ]
    },
    {
     "name": "stdout",
     "output_type": "stream",
     "text": [
      "PTEN GBM division by zero\n"
     ]
    },
    {
     "name": "stderr",
     "output_type": "stream",
     "text": [
      "\r",
      " 27%|██▋       | 10/37 [00:12<00:28,  1.04s/it]"
     ]
    },
    {
     "name": "stdout",
     "output_type": "stream",
     "text": [
      "KRAS LUNG_CANCER division by zero\n"
     ]
    },
    {
     "name": "stderr",
     "output_type": "stream",
     "text": [
      " 32%|███▏      | 12/37 [00:16<00:38,  1.53s/it]"
     ]
    },
    {
     "name": "stdout",
     "output_type": "stream",
     "text": [
      "KRAS LUAD division by zero\n"
     ]
    },
    {
     "name": "stderr",
     "output_type": "stream",
     "text": [
      " 41%|████      | 15/37 [00:20<00:33,  1.53s/it]"
     ]
    },
    {
     "name": "stdout",
     "output_type": "stream",
     "text": [
      "PTPN11 AML division by zero\n"
     ]
    },
    {
     "name": "stderr",
     "output_type": "stream",
     "text": [
      "\r",
      " 43%|████▎     | 16/37 [00:21<00:25,  1.21s/it]"
     ]
    },
    {
     "name": "stdout",
     "output_type": "stream",
     "text": [
      "NRAS AML division by zero\n"
     ]
    },
    {
     "name": "stderr",
     "output_type": "stream",
     "text": [
      "\r",
      " 46%|████▌     | 17/37 [00:21<00:19,  1.02it/s]"
     ]
    },
    {
     "name": "stdout",
     "output_type": "stream",
     "text": [
      "NRAS MM division by zero\n",
      "KRAS MM division by zero\n"
     ]
    },
    {
     "name": "stderr",
     "output_type": "stream",
     "text": [
      " 57%|█████▋    | 21/37 [00:22<00:07,  2.24it/s]"
     ]
    },
    {
     "name": "stdout",
     "output_type": "stream",
     "text": [
      "SF3B1 CLL division by zero\n"
     ]
    },
    {
     "name": "stderr",
     "output_type": "stream",
     "text": [
      "\r",
      " 59%|█████▉    | 22/37 [00:22<00:06,  2.45it/s]"
     ]
    },
    {
     "name": "stdout",
     "output_type": "stream",
     "text": [
      "KRAS PAAD division by zero\n"
     ]
    },
    {
     "name": "stderr",
     "output_type": "stream",
     "text": [
      " 65%|██████▍   | 24/37 [00:23<00:04,  2.66it/s]"
     ]
    },
    {
     "name": "stdout",
     "output_type": "stream",
     "text": [
      "KRAS CH division by zero\n"
     ]
    },
    {
     "name": "stderr",
     "output_type": "stream",
     "text": [
      " 70%|███████   | 26/37 [00:23<00:02,  3.79it/s]"
     ]
    },
    {
     "name": "stdout",
     "output_type": "stream",
     "text": [
      "KRAS OV division by zero\n"
     ]
    },
    {
     "name": "stderr",
     "output_type": "stream",
     "text": [
      " 81%|████████  | 30/37 [00:30<00:08,  1.15s/it]"
     ]
    },
    {
     "name": "stdout",
     "output_type": "stream",
     "text": [
      "PTEN CM division by zero\n"
     ]
    },
    {
     "name": "stderr",
     "output_type": "stream",
     "text": [
      "\r",
      " 84%|████████▍ | 31/37 [00:33<00:10,  1.77s/it]"
     ]
    },
    {
     "name": "stdout",
     "output_type": "stream",
     "text": [
      "NRAS CM division by zero\n"
     ]
    },
    {
     "name": "stderr",
     "output_type": "stream",
     "text": [
      " 89%|████████▉ | 33/37 [00:33<00:03,  1.02it/s]"
     ]
    },
    {
     "name": "stdout",
     "output_type": "stream",
     "text": [
      "PTEN R division by zero\n"
     ]
    },
    {
     "name": "stderr",
     "output_type": "stream",
     "text": [
      "\r",
      " 92%|█████████▏| 34/37 [00:34<00:02,  1.13it/s]"
     ]
    },
    {
     "name": "stdout",
     "output_type": "stream",
     "text": [
      "PBRM1 R division by zero\n",
      "HRAS THCA division by zero\n"
     ]
    },
    {
     "name": "stderr",
     "output_type": "stream",
     "text": [
      "\r",
      " 95%|█████████▍| 35/37 [00:35<00:01,  1.30it/s]"
     ]
    },
    {
     "name": "stdout",
     "output_type": "stream",
     "text": [
      "NRAS THCA division by zero\n",
      "NRAS ALL division by zero\n"
     ]
    },
    {
     "name": "stderr",
     "output_type": "stream",
     "text": [
      "\r",
      " 97%|█████████▋| 36/37 [00:35<00:00,  1.55it/s]"
     ]
    },
    {
     "name": "stdout",
     "output_type": "stream",
     "text": [
      "KRAS ALL division by zero\n"
     ]
    },
    {
     "name": "stderr",
     "output_type": "stream",
     "text": [
      "100%|██████████| 37/37 [00:35<00:00,  1.04it/s]\n"
     ]
    }
   ],
   "source": [
    "# individual plots and logistic regressions gene-wise\n",
    "\n",
    "res = {}\n",
    "boostdm_scores = [c for c in df.columns if c.startswith('boostDM_score')]\n",
    "for s in boostdm_scores:\n",
    "    dg = df[~df[s].isnull()]\n",
    "    res[s] = dg['gene'].unique().tolist()\n",
    "\n",
    "logoddsratios = []\n",
    "pvalues = []\n",
    "sizes = []\n",
    "labels = []\n",
    "\n",
    "for score, genes in tqdm(res.items()):\n",
    "    for g in genes:\n",
    "        ttype = '_'.join(score.split('_')[2:])\n",
    "        try:\n",
    "            lor, pval, n = plot_gnomad_bar(g, ttype)\n",
    "            if abs(lor) < 5:\n",
    "                logoddsratios.append(lor)\n",
    "                pvalues.append(pval)\n",
    "                sizes.append(n)\n",
    "                labels.append(f'{g} ({ttype})')\n",
    "        except Exception as e:\n",
    "            print(g, ttype, e)"
   ]
  },
  {
   "cell_type": "code",
   "execution_count": 36,
   "metadata": {},
   "outputs": [
    {
     "data": {
      "image/png": "[encoded data removed]",
      "text/plain": [
       "<Figure size 1080x216 with 1 Axes>"
      ]
     },
     "metadata": {
      "needs_background": "light"
     },
     "output_type": "display_data"
    }
   ],
   "source": [
    "figsize = (15,3)\n",
    "fig, ax = plt.subplots(figsize=figsize)\n",
    "\n",
    "sortindex = np.argsort(logoddsratios + [0.86])[::-1]\n",
    "lor = np.array(logoddsratios + [0.86])[sortindex]\n",
    "lab = np.array(labels + ['overall'])[sortindex]\n",
    "\n",
    "ax.bar(range(len(lor)), lor, width=0.9)\n",
    "\n",
    "ax.text(30, 3, '$p<2·10^{-4}$')\n",
    "\n",
    "ax.vlines(100, 0, 4, linestyles='--')\n",
    "\n",
    "ax.spines['top'].set_visible(False)\n",
    "ax.spines['right'].set_visible(False)\n",
    "ax.set_xticks(range(len(lor)))\n",
    "ax.set_xticklabels(lab, fontsize=6, rotation=90)\n",
    "ax.set_ylabel('boostDM model')\n",
    "ax.set_ylabel('effect (LOR)')\n",
    "ax.set_ylim(-1.05, 4.15)\n",
    "ax.set_title('boostDM enrichment in lower-frequency polymorphisms')\n",
    "plt.savefig('./raw_plots/bar.effect.gnomad.svg', dpi=300, bbox_inches='tight')\n",
    "plt.show()"
   ]
  }
 ],
 "metadata": {
  "kernelspec": {
   "display_name": "Python [conda env:anaconda3-boosting_env]",
   "language": "python",
   "name": "conda-env-anaconda3-boosting_env-py"
  },
  "language_info": {
   "codemirror_mode": {
    "name": "ipython",
    "version": 3
   },
   "file_extension": ".py",
   "mimetype": "text/x-python",
   "name": "python",
   "nbconvert_exporter": "python",
   "pygments_lexer": "ipython3",
   "version": "3.6.7"
  },
  "widgets": {
   "application/vnd.jupyter.widget-state+json": {
    "state": {},
    "version_major": 2,
    "version_minor": 0
   }
  }
 },
 "nbformat": 4,
 "nbformat_minor": 4
}
