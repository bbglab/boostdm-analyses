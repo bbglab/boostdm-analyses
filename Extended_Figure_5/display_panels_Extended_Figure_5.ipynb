{
 "cells": [
  {
   "cell_type": "code",
   "execution_count": 1,
   "metadata": {},
   "outputs": [],
   "source": [
    "\n",
    "import os\n",
    "import pandas as pd\n",
    "import seaborn as sns\n",
    "import matplotlib.pyplot as plt\n",
    "from matplotlib import gridspec\n",
    "import numpy as np\n",
    "import sys\n",
    "from itertools import compress\n",
    "import matplotlib.colors as clr\n",
    "from math import pi\n",
    "\n",
    "\n",
    "sys.path.append(\"scripts/\")\n",
    "import scripts.conf as conf\n",
    "import scripts.oncotree\n",
    "conf.config_params()\n",
    "oncotree = scripts.oncotree.Oncotree()\n",
    "\n",
    "os.makedirs(\"raw_plots\",exist_ok=True)\n",
    "os.makedirs(\"source_data\",exist_ok=True)"
   ]
  },
  {
   "cell_type": "markdown",
   "metadata": {},
   "source": [
    "# Extended Figure 5, radar plots."
   ]
  },
  {
   "cell_type": "markdown",
   "metadata": {},
   "source": [
    "### Function to plot radar for a single mutation"
   ]
  },
  {
   "cell_type": "code",
   "execution_count": 20,
   "metadata": {},
   "outputs": [],
   "source": [
    "def plot_radar_single_mutation(features,values,drivers,path_output):\n",
    "    # Definition of variables \n",
    "    fig = plt.subplots(figsize=(1.,1.))\n",
    "    categories=features\n",
    "    degron = \"_GLOBAL_VALUE\"\n",
    "\n",
    "    N = len(categories)\n",
    "\n",
    "    # What will be the angle of each axis in the plot? (we divide the plot / number of variable)\n",
    "    angles = [n / float(N) * 2 * pi for n in range(N)]\n",
    "    angles += angles[:1]\n",
    "    # Initialise the spider plot\n",
    "    ax = plt.subplot(111, polar=True)\n",
    "    ax.spines['polar'].set_visible(False)\n",
    "    # If you want the first axis to be on top:\n",
    "    ax.set_theta_offset(pi / 2)\n",
    "    ax.set_theta_direction(-1)\n",
    "    ax.vlines(angles[:-1], 0, [3 for x in range(len(angles[:-1]))], colors=\"#DCDCDC\", zorder=3,linewidth=0.5,alpha=0.5) \n",
    "    # Draw ylabels\n",
    "    ax.set_rlabel_position(0)\n",
    "    maxv = int(np.amax(values))+1\n",
    "    minv = int(np.amin(values))-1\n",
    "    plt.ylim(minv,maxv)\n",
    "    plt.yticks(np.arange(minv,maxv+1,1), np.arange(minv,maxv+1,1), color=\"black\", size=5)\n",
    "    values +=  values[:1]\n",
    "    ax.plot(angles, values, linewidth=1.15, linestyle='solid', label=\"Drivers\",color=\"#a64040ff\")\n",
    "    ax.grid(b=None,axis=\"x\")\n",
    "    ax.grid(axis=\"y\",lw=0.25)\n",
    "    \n",
    "    # Draw one axe per variable + add labels labels yet\n",
    "    _=plt.xticks(angles[:-1], [conf.name_features[x]  for x in features],fontsize=4)\n",
    "    plt.savefig(path_output,dpi=800,bbox_inches=\"tight\")\n",
    "    \n"
   ]
  },
  {
   "cell_type": "code",
   "execution_count": 21,
   "metadata": {},
   "outputs": [],
   "source": [
    "path_saturation=os.path.join(conf.output_boostdm,\"saturation\",\"prediction\")"
   ]
  },
  {
   "cell_type": "markdown",
   "metadata": {},
   "source": [
    "### Individual examples, Extended Figure 5 a)"
   ]
  },
  {
   "cell_type": "code",
   "execution_count": 22,
   "metadata": {},
   "outputs": [],
   "source": [
    "examples = [(\"EGFR\",\"A289D\",\"GBM\"),\n",
    "           (\"VHL\",\"S80R\",\"RCCC\"),(\"CTNNB1\",\"S45P\",\"HC\")]"
   ]
  },
  {
   "cell_type": "code",
   "execution_count": 23,
   "metadata": {},
   "outputs": [],
   "source": [
    "for gene,mut,ttype in examples:\n",
    "    path_file = os.path.join(path_saturation,f\"{gene}.{ttype}.prediction.tsv.gz\")\n",
    "    df_data = pd.read_csv(path_file,sep=\"\\t\")\n",
    "    df_data[(df_data[\"boostDM_class\"])&(df_data[\"gene\"]==gene)&(df_data[\"aachange\"]==mut)].to_csv(f\"source_data/{gene}_{ttype}_{mut}_radar_source.tsv\",sep=\"\\t\")\n",
    "    muts = df_data[(df_data[\"boostDM_class\"])&(df_data[\"gene\"]==gene)&(df_data[\"aachange\"]==mut)][\"aachange\"].unique()\n",
    "    for mut in muts:\n",
    "        df = df_data[df_data[\"aachange\"]==mut].drop_duplicates()\n",
    "        for i,r in df.iterrows():\n",
    "            selected_model = r[\"selected_model_ttype\"]\n",
    "            selected_model_gene = r[\"selected_model_gene\"]\n",
    "            gene = r[\"gene\"]\n",
    "            values = [r.loc[feature] for feature in conf.features]\n",
    "            drivers = [r[\"boostDM_class\"]]\n",
    "            name = os.path.join(\"raw_plots\",gene+\"_\"+mut+\"_\"+ttype+\".svg\")\n",
    "            plot_radar_single_mutation(conf.features,values,drivers,name)"
   ]
  },
  {
   "cell_type": "markdown",
   "metadata": {},
   "source": [
    "### Individual examples, Extended Figure 5 a); splice site mutation"
   ]
  },
  {
   "cell_type": "code",
   "execution_count": 24,
   "metadata": {},
   "outputs": [],
   "source": [
    "gene=\"TP53\"\n",
    "mutations = [\".\"]\n",
    "ttype = \"ESCA\"\n",
    "path_file = os.path.join(path_saturation,f\"{gene}.{ttype}.prediction.tsv.gz\")\n",
    "df_data = pd.read_csv(path_file,sep=\"\\t\")\n",
    "df = df_data[(df_data[\"boostDM_class\"])&(df_data[\"gene\"]==gene)&(df_data[\"pos\"].isin([7674859]))&(df_data[\"alt\"]==\"T\")]\n",
    "mut=\"7674859-C>T\"\n",
    "df.to_csv(f\"source_data/{gene}_{ttype}_{mut}_radar_source.tsv\",sep=\"\\t\")\n",
    "for i,r in df.iterrows():\n",
    "    values = [r.loc[feature] for feature in conf.features]\n",
    "    drivers = [r[\"boostDM_class\"]]\n",
    "    \n",
    "    name = os.path.join(\"raw_plots\",gene+\"_\"+mut+\"_\"+ttype+\".svg\")\n",
    "    plot_radar_single_mutation(conf.features,values,drivers,name)"
   ]
  },
  {
   "cell_type": "code",
   "execution_count": null,
   "metadata": {},
   "outputs": [],
   "source": []
  }
 ],
 "metadata": {
  "kernelspec": {
   "display_name": "Python 3",
   "language": "python",
   "name": "python3"
  },
  "language_info": {
   "codemirror_mode": {
    "name": "ipython",
    "version": 3
   },
   "file_extension": ".py",
   "mimetype": "text/x-python",
   "name": "python",
   "nbconvert_exporter": "python",
   "pygments_lexer": "ipython3",
   "version": "3.6.9"
  },
  "widgets": {
   "application/vnd.jupyter.widget-state+json": {
    "state": {},
    "version_major": 2,
    "version_minor": 0
   }
  }
 },
 "nbformat": 4,
 "nbformat_minor": 4
}
