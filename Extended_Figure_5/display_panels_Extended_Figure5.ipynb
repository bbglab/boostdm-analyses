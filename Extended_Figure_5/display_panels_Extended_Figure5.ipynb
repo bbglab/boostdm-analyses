{
 "cells": [
  {
   "cell_type": "code",
   "execution_count": null,
   "metadata": {},
   "outputs": [],
   "source": [
    "%load_ext autoreload\n",
    "%autoreload 2"
   ]
  },
  {
   "cell_type": "code",
   "execution_count": null,
   "metadata": {},
   "outputs": [],
   "source": [
    "import os\n",
    "import pandas as pd\n",
    "import seaborn as sns\n",
    "import matplotlib.pyplot as plt\n",
    "from matplotlib import gridspec\n",
    "import numpy as np\n",
    "import sys\n",
    "from itertools import compress\n",
    "import matplotlib.colors as clr\n",
    "from math import pi\n",
    "\n",
    "\n",
    "sys.path.append(\"scripts/\")\n",
    "import scripts.conf as conf\n",
    "import scripts.oncotree\n",
    "conf.config_params()\n",
    "oncotree = scripts.oncotree.Oncotree()\n",
    "\n",
    "os.makedirs(\"raw_plots\",exist_ok=True)\n",
    "os.makedirs(\"source_data\",exist_ok=True)"
   ]
  },
  {
   "cell_type": "markdown",
   "metadata": {},
   "source": [
    "# Extended Figure 5a, radar plots."
   ]
  },
  {
   "cell_type": "markdown",
   "metadata": {},
   "source": [
    "### Function to plot radar for a single mutation"
   ]
  },
  {
   "cell_type": "code",
   "execution_count": null,
   "metadata": {},
   "outputs": [],
   "source": [
    "def plot_radar_single_mutation(features,values,drivers,path_output):\n",
    "    # Definition of variables \n",
    "    fig = plt.subplots(figsize=(1.,1.))\n",
    "    categories=features\n",
    "    degron = \"_GLOBAL_VALUE\"\n",
    "\n",
    "    N = len(categories)\n",
    "\n",
    "    # What will be the angle of each axis in the plot? (we divide the plot / number of variable)\n",
    "    angles = [n / float(N) * 2 * pi for n in range(N)]\n",
    "    angles += angles[:1]\n",
    "    # Initialise the spider plot\n",
    "    ax = plt.subplot(111, polar=True)\n",
    "    ax.spines['polar'].set_visible(False)\n",
    "    # If you want the first axis to be on top:\n",
    "    ax.set_theta_offset(pi / 2)\n",
    "    ax.set_theta_direction(-1)\n",
    "    ax.vlines(angles[:-1], 0, [3 for x in range(len(angles[:-1]))], colors=\"#DCDCDC\", zorder=3,linewidth=0.5,alpha=0.5) \n",
    "    # Draw ylabels\n",
    "    ax.set_rlabel_position(0)\n",
    "    maxv = int(np.amax(values))+1\n",
    "    minv = int(np.amin(values))-1\n",
    "    plt.ylim(minv,maxv)\n",
    "    plt.yticks(np.arange(minv,maxv+1,1), np.arange(minv,maxv+1,1), color=\"black\", size=5)\n",
    "    values +=  values[:1]\n",
    "    ax.plot(angles, values, linewidth=1.15, linestyle='solid', label=\"Drivers\",color=\"#a64040ff\")\n",
    "    ax.grid(b=None,axis=\"x\")\n",
    "    ax.grid(axis=\"y\",lw=0.25)\n",
    "    \n",
    "    # Draw one axe per variable + add labels labels yet\n",
    "    _=plt.xticks(angles[:-1], [conf.name_features[x]  for x in features],fontsize=4)\n",
    "    plt.savefig(path_output,dpi=800,bbox_inches=\"tight\")\n",
    "    \n"
   ]
  },
  {
   "cell_type": "code",
   "execution_count": null,
   "metadata": {},
   "outputs": [],
   "source": [
    "path_saturation=os.path.join(conf.output_boostdm,\"saturation\",\"prediction\")"
   ]
  },
  {
   "cell_type": "markdown",
   "metadata": {},
   "source": [
    "### Individual examples, Extended Figure 5 a)"
   ]
  },
  {
   "cell_type": "code",
   "execution_count": null,
   "metadata": {},
   "outputs": [],
   "source": [
    "examples = [(\"EGFR\",\"A289D\",\"GBM\"),(\"PIK3CA\",\"E542K\",\"BRCA\")\n",
    "           ,(\"CTNNB1\",\"S45P\",\"HC\"), (\"FBXW7\",\"R465C\",\"CESC\")]"
   ]
  },
  {
   "cell_type": "code",
   "execution_count": null,
   "metadata": {},
   "outputs": [],
   "source": [
    "for gene,mut,ttype in examples:\n",
    "    path_file = os.path.join(path_saturation,f\"{gene}.{ttype}.prediction.tsv.gz\")\n",
    "    df_data = pd.read_csv(path_file,sep=\"\\t\")\n",
    "    df_data[(df_data[\"boostDM_class\"])&(df_data[\"gene\"]==gene)&(df_data[\"aachange\"]==mut)].to_csv(f\"source_data/{gene}_{ttype}_{mut}_radar_source.tsv\",sep=\"\\t\")\n",
    "    muts = df_data[(df_data[\"boostDM_class\"])&(df_data[\"gene\"]==gene)&(df_data[\"aachange\"]==mut)][\"aachange\"].unique()\n",
    "    for mut in muts:\n",
    "        df = df_data[df_data[\"aachange\"]==mut].drop_duplicates()\n",
    "        for i,r in df.iterrows():\n",
    "            selected_model = r[\"selected_model_ttype\"]\n",
    "            selected_model_gene = r[\"selected_model_gene\"]\n",
    "            gene = r[\"gene\"]\n",
    "            values = [r.loc[feature] for feature in conf.features]\n",
    "            drivers = [r[\"boostDM_class\"]]\n",
    "            name = os.path.join(\"raw_plots\",gene+\"_\"+mut+\"_\"+ttype+\".svg\")\n",
    "            plot_radar_single_mutation(conf.features,values,drivers,name)"
   ]
  },
  {
   "cell_type": "markdown",
   "metadata": {},
   "source": [
    "### Individual examples, Extended Figure 5 a); splice site mutation"
   ]
  },
  {
   "cell_type": "code",
   "execution_count": null,
   "metadata": {},
   "outputs": [],
   "source": [
    "gene=\"TP53\"\n",
    "mutations = [\".\"]\n",
    "ttype = \"ESCA\"\n",
    "path_file = os.path.join(path_saturation,f\"{gene}.{ttype}.prediction.tsv.gz\")\n",
    "df_data = pd.read_csv(path_file,sep=\"\\t\")\n",
    "df = df_data[(df_data[\"boostDM_class\"])&(df_data[\"gene\"]==gene)&(df_data[\"pos\"].isin([7674859]))&(df_data[\"alt\"]==\"T\")]\n",
    "mut=\"7674859-C>T\"\n",
    "df.to_csv(f\"source_data/{gene}_{ttype}_{mut}_radar_source.tsv\",sep=\"\\t\")\n",
    "for i,r in df.iterrows():\n",
    "    values = [r.loc[feature] for feature in conf.features]\n",
    "    drivers = [r[\"boostDM_class\"]]\n",
    "    \n",
    "    name = os.path.join(\"raw_plots\",gene+\"_\"+mut+\"_\"+ttype+\".svg\")\n",
    "    plot_radar_single_mutation(conf.features,values,drivers,name)"
   ]
  },
  {
   "cell_type": "markdown",
   "metadata": {},
   "source": [
    "# Extended Figure 5b"
   ]
  },
  {
   "cell_type": "markdown",
   "metadata": {},
   "source": [
    "## step 1: clustering"
   ]
  },
  {
   "cell_type": "code",
   "execution_count": null,
   "metadata": {},
   "outputs": [],
   "source": [
    "import warnings\n",
    "warnings.filterwarnings('ignore')\n",
    "\n",
    "from matplotlib import cm\n",
    "import matplotlib.pyplot as plt\n",
    "from seaborn import color_palette\n",
    "\n",
    "from sklearn import manifold\n",
    "from sklearn.decomposition import PCA\n",
    "cmap = cm.RdYlGn_r\n",
    "\n",
    "\n",
    "from clustering import generate_hierarchy, draw_flat_cluster\n",
    "from retrieve import get_shaps"
   ]
  },
  {
   "cell_type": "code",
   "execution_count": null,
   "metadata": {},
   "outputs": [],
   "source": [
    "df_stats = pd.read_csv(conf.cohorts_path, sep=\"\\t\")\n",
    "\n",
    "# mapping MoA colors to each (gene, ttype)\n",
    "\n",
    "dg = pd.read_csv(conf.drivers_path, sep='\\t')\n",
    "d = dict(zip(zip(dg.SYMBOL, dg.CANCER_TYPE), map(lambda x: conf.dict_colors_role.get(x, '#808080'), dg.ROLE)))\n",
    "d_gene = dict(zip(dg.SYMBOL, map(lambda x: conf.dict_colors_role.get(x, '#808080'), dg.ROLE)))\n",
    "\n",
    "# load observed mutations\n",
    "\n",
    "mutations = pd.read_csv(os.path.join(conf.output_boostdm, 'discovery', 'mutations.tsv'), sep='\\t')\n",
    "\n",
    "df = get_shaps(mutations, None, None)"
   ]
  },
  {
   "cell_type": "code",
   "execution_count": null,
   "metadata": {},
   "outputs": [],
   "source": [
    "def low_rank(gene, ttype):\n",
    "    \n",
    "    df = get_shaps(mutations, None, None)\n",
    "    \n",
    "    moa_colors = df['moa'].values\n",
    "    complexity_colors = df['linear_complexity'].values\n",
    "    \n",
    "    df = df[conf.features]\n",
    "    pca = PCA(10, whiten=True)\n",
    "    projected = pca.fit_transform(df)\n",
    "    return df, projected, moa_colors, complexity_colors\n",
    "\n",
    "\n",
    "def cluster_heatmap(gene, ttype, mode='flat', labels=None, title=None, fn=None):\n",
    "    \n",
    "    df, projected, moa_colors, complexity_colors = low_rank(gene, ttype)\n",
    "    X, linkage, scores, classes, labels_list = generate_hierarchy(df)\n",
    "    if mode == 'flat':\n",
    "        draw_flat_cluster(X, linkage, df.columns, labels_list[2], \n",
    "                          './raw_plots', mode=mode, title=title, fn=fn)\n",
    "    elif mode == 'moa':\n",
    "        draw_flat_cluster(X, linkage, df.columns, labels_list[2], \n",
    "                          './raw_plots', moa_colors=moa_colors,\n",
    "                          mode=mode, title=title, fn=fn)\n",
    "    return labels_list[2]"
   ]
  },
  {
   "cell_type": "code",
   "execution_count": null,
   "metadata": {},
   "outputs": [],
   "source": [
    "# unique observed mutations \n",
    "# per gene-ttype\n",
    "# covered by specific models \n",
    "# with boostDM positive\n",
    "\n",
    "labels_hierarchical = cluster_heatmap(None, None, mode='flat', \n",
    "                                      title='Specific Models', \n",
    "                                      fn='observed.specific.driver.hierarchy')"
   ]
  },
  {
   "cell_type": "markdown",
   "metadata": {},
   "source": [
    "## Step 2: low rank representation"
   ]
  },
  {
   "cell_type": "code",
   "execution_count": null,
   "metadata": {},
   "outputs": [],
   "source": [
    "mutation_list = [('RB1', 'E51*', 'BLCA'), \n",
    "                 ('PIK3CA', 'E542K', 'BRCA'),\n",
    "                 ('EGFR', 'L858R', 'LUAD'), \n",
    "                 ('KRAS', 'G12D', 'LUAD'), \n",
    "                 ('CTNNB1', 'S45P', 'HC'),\n",
    "                 ('EGFR', 'A289D', 'GBM'),\n",
    "                 ('TP53', 'K132R', 'LUSC'),\n",
    "                 ('CIC', 'R202W', 'LGG')]\n",
    "\n",
    "def index_mutations(df):\n",
    "    \n",
    "    zipped = list(zip(df.gene.values, df.aachange.values, df.ttype.values))    \n",
    "    zipped = [None if z not in mutation_list else ':'.join(z) for z in zipped]\n",
    "    return zipped\n",
    "    \n",
    "\n",
    "def umap_projection(gene, ttype, target):\n",
    "    \n",
    "    df = get_shaps(mutations, None, None)\n",
    "    \n",
    "    moa_colors = df['moa'].values\n",
    "    complexity_colors = list(map(cmap, normalize(df['linear_complexity'].values)))\n",
    "    \n",
    "    df = df[conf.features]\n",
    "    lowd = PCA(n_components=10).fit_transform(df)\n",
    "    standard_embedding = umap.UMAP(n_neighbors=500).fit_transform(lowd, y=target)\n",
    "    return df, standard_embedding, moa_colors, complexity_colors\n",
    "\n",
    "\n",
    "def tsne_projection(gene, ttype, target):\n",
    "    \n",
    "    df = get_shaps(mutations, None, None)\n",
    "    zipped = index_mutations(df)\n",
    "    \n",
    "    moa_colors = df['moa'].values\n",
    "    complexity_colors = df['linear_complexity'].values\n",
    "    \n",
    "    lowd = PCA(10).fit_transform(df[conf.features])\n",
    "    tsne = manifold.TSNE(init='pca')\n",
    "    embedding = tsne.fit_transform(lowd)\n",
    "    return df, embedding, moa_colors, complexity_colors, zipped\n",
    "\n",
    "\n",
    "def plot_tsne(projected, zipped, colors, title=None, colorbar=None, fn=None):\n",
    "    \n",
    "    fig, ax = plt.subplots(figsize=(5, 5))\n",
    "    p = ax.scatter(list(projected[:, 0]), list(projected[:, 1]), cmap=cmap, c=colors, alpha=1, s=10)\n",
    "    \n",
    "    if colorbar is not None:\n",
    "        cbar = fig.colorbar(p, ax=ax)\n",
    "        cbar.ax.set_ylabel(colorbar, rotation=270)\n",
    "    \n",
    "    for i, mut in enumerate(zipped):\n",
    "        if mut is not None:\n",
    "            ax.text(projected[i,0], projected[i,1], mut)\n",
    "            ax.scatter([projected[i, 0]], [projected[i, 1]], c='none', alpha=1, s=30, edgecolors='black')\n",
    "        \n",
    "    ax.spines['right'].set_visible(False)\n",
    "    ax.spines['top'].set_visible(False)\n",
    "    ax.set_xlabel('t-SNE1')\n",
    "    ax.set_ylabel('t-SNE2')\n",
    "    \n",
    "    if title is not None:\n",
    "        plt.title(title)\n",
    "    \n",
    "    if fn is not None:\n",
    "        plt.savefig(fn, dpi=300)\n",
    "    plt.show()"
   ]
  },
  {
   "cell_type": "code",
   "execution_count": null,
   "metadata": {},
   "outputs": [],
   "source": [
    "df, projected, moa_colors, complexity_colors, zipped = tsne_projection(None, None, labels_hierarchical)"
   ]
  },
  {
   "cell_type": "code",
   "execution_count": null,
   "metadata": {},
   "outputs": [],
   "source": [
    "plot_tsne(projected, zipped, moa_colors,\n",
    "          title='Mutations covered by specific models:\\nMode of Action', \n",
    "          fn='./raw_plots/unique.boostdm-positive.specific.moa.png')"
   ]
  },
  {
   "cell_type": "code",
   "execution_count": null,
   "metadata": {},
   "outputs": [],
   "source": [
    "plot_tsne(projected, zipped, complexity_colors, colorbar='Feature Complexity',\n",
    "          title='Mutations covered by specific models:\\nFeature Complexity', \n",
    "          fn='./raw_plots/unique.boostdm-positive.specific.complexity.png')"
   ]
  },
  {
   "cell_type": "code",
   "execution_count": null,
   "metadata": {},
   "outputs": [],
   "source": [
    "color_list = color_palette('Dark2', 50).as_hex()\n",
    "kmeans_colors = list(map(lambda s: color_list[s], labels_hierarchical))\n",
    "plot_tsne(projected, zipped, kmeans_colors, \n",
    "              title='Mutations covered by specific models:\\nHierarchical Clusters', \n",
    "              fn='./raw_plots/unique.boostdm-positive.specific.hierarchical.png')"
   ]
  }
 ],
 "metadata": {
  "kernelspec": {
   "display_name": "Python 3 (ipykernel)",
   "language": "python",
   "name": "python3"
  },
  "language_info": {
   "codemirror_mode": {
    "name": "ipython",
    "version": 3
   },
   "file_extension": ".py",
   "mimetype": "text/x-python",
   "name": "python",
   "nbconvert_exporter": "python",
   "pygments_lexer": "ipython3",
   "version": "3.7.3"
  },
  "widgets": {
   "application/vnd.jupyter.widget-state+json": {
    "state": {},
    "version_major": 2,
    "version_minor": 0
   }
  }
 },
 "nbformat": 4,
 "nbformat_minor": 4
}
