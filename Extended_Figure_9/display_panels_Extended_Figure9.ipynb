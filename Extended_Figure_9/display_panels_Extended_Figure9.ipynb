{
 "cells": [
  {
   "cell_type": "code",
   "execution_count": null,
   "metadata": {},
   "outputs": [],
   "source": [
    "%load_ext autoreload\n",
    "%autoreload 2"
   ]
  },
  {
   "cell_type": "code",
   "execution_count": null,
   "metadata": {},
   "outputs": [],
   "source": [
    "import os\n",
    "import pandas as pd\n",
    "import numpy as np\n",
    "import sys\n",
    "from collections import defaultdict\n",
    "import scipy.stats as st\n",
    "import json\n",
    "\n",
    "import warnings\n",
    "warnings.filterwarnings('ignore')\n",
    "\n",
    "import seaborn as sns\n",
    "import matplotlib.pyplot as plt\n",
    "from matplotlib import gridspec\n",
    "import matplotlib.patches as patches\n",
    "import matplotlib.colors as clr\n",
    "from matplotlib.colors import ListedColormap, LinearSegmentedColormap, BoundaryNorm\n",
    "from matplotlib import collections  as mc\n",
    "import matplotlib.colors as clr\n",
    "from matplotlib.ticker import FuncFormatter\n",
    "import matplotlib.lines as mlines\n",
    "import matplotlib.patches as mpatches\n",
    "\n",
    "sys.path.append(\"scripts/\")\n",
    "import scripts.conf as conf\n",
    "import scripts.oncotree\n",
    "conf.config_params()\n",
    "oncotree = scripts.oncotree.Oncotree()\n",
    "\n",
    "os.makedirs(\"raw_plots\",exist_ok=True)\n",
    "os.makedirs(\"source_data\",exist_ok=True)"
   ]
  },
  {
   "cell_type": "code",
   "execution_count": null,
   "metadata": {},
   "outputs": [],
   "source": [
    "if not(os.path.exists(\"source_data/model_information_including_generals.tsv.gz\")):\n",
    "    ! python3 scripts/prepare_table_VUS_annotations.py"
   ]
  },
  {
   "cell_type": "markdown",
   "metadata": {},
   "source": [
    "# Extended Figure 9, panel b"
   ]
  },
  {
   "cell_type": "markdown",
   "metadata": {},
   "source": [
    "### First, load the source data."
   ]
  },
  {
   "cell_type": "code",
   "execution_count": null,
   "metadata": {},
   "outputs": [],
   "source": [
    "df_observed = pd.read_csv(\"source_data/unique_observed_mutations_model_specificity_clinvar_oncokb.tsv.gz\",sep=\"\\t\")\n"
   ]
  },
  {
   "cell_type": "markdown",
   "metadata": {},
   "source": [
    "### Prepare the data"
   ]
  },
  {
   "cell_type": "code",
   "execution_count": null,
   "metadata": {},
   "outputs": [],
   "source": [
    " def count_unique(grp):\n",
    "    return len(set(grp)) \n",
    "x=df_observed[[\"CANCER_TYPE\",\"gene\",\"type_model\"]].drop_duplicates().groupby([\"CANCER_TYPE\",\"type_model\"]).agg({\"gene\":count_unique}).reset_index().set_index([\"CANCER_TYPE\"])\n",
    "x=x.pivot_table(index=[\"CANCER_TYPE\"],values=[\"gene\"],columns=[\"type_model\"]).fillna(0.0)\n",
    "x[\"total\"]=x.sum(axis=1)\n",
    "x.columns=[\"gene other ttype\",\"gene specific\",\"gene/ttype specific\",\"no-model\",\"total\"]\n",
    "x[\"total_models\"] = x[\"gene other ttype\"] + x[\"gene specific\"] + x[\"gene/ttype specific\"]\n",
    "x[\"represent\"] = x.apply(lambda row: row.name in conf.selecte_ttypes,axis=1)"
   ]
  },
  {
   "cell_type": "markdown",
   "metadata": {},
   "source": [
    "### Prepare a plot "
   ]
  },
  {
   "cell_type": "code",
   "execution_count": null,
   "metadata": {},
   "outputs": [],
   "source": [
    "fig, ax = plt.subplots(figsize=(15, 4))\n",
    "\n",
    "gs = gridspec.GridSpec(figure=fig, ncols=2, nrows=4, height_ratios=[7, 1, 1,1],width_ratios=[15,1])\n",
    "gs.update(hspace=0.1, wspace=0.015)\n",
    "ax0 = plt.subplot(gs[0]) # density top\n",
    "ax0b = plt.subplot(gs[1]) # density top\n",
    "ax1 = plt.subplot(gs[2]) # null\n",
    "ax1b = plt.subplot(gs[3]) # density top\n",
    "ax2 = plt.subplot(gs[4]) # null\n",
    "ax2b = plt.subplot(gs[5]) # density top\n",
    "ax3 = plt.subplot(gs[6]) # null\n",
    "ax3b = plt.subplot(gs[7]) # density top\n",
    "ttypes,xs,ys,xticks = [], [], [], []\n",
    "j=0\n",
    "b=x[x[\"represent\"]].sort_values(\"total_models\",ascending=False)\n",
    "ttypes = conf.selecte_ttypes\n",
    "for ttype in ttypes:\n",
    "    r=b.loc[ttype]\n",
    "    ax0.bar(x=j,height=r[\"gene other ttype\"]+r[\"gene specific\"]+r[\"gene/ttype specific\"],color=\"#fee6ce\",width=0.6,edgecolor=\"black\")\n",
    "    ax0.bar(x=j,height=r[\"gene specific\"]+r[\"gene/ttype specific\"],color=\"#fdae6b\",width=0.6,edgecolor=\"black\")\n",
    "    ax0.bar(x=j,height=r[\"gene/ttype specific\"],color=\"#e6550d\",width=0.6,edgecolor=\"black\")\n",
    "    \n",
    "\n",
    "    xticks.append(j)\n",
    "    j+=1\n",
    "\n",
    "# total models\n",
    "l=[]\n",
    "for ttype in ttypes:    \n",
    "    l.append(b.loc[ttype][\"total\"])\n",
    "df_1=pd.DataFrame(l).T\n",
    "df_1.columns=ttypes\n",
    "sns.heatmap(df_1,cmap=\"Greys\",annot=True, fmt=\"g\",ax=ax1,cbar=False, annot_kws={\"fontsize\":6.5})\n",
    "\n",
    "\n",
    "ax1.set_xlim(ax1.get_xlim()[0]-.5,ax1.get_xlim()[1]+.5)\n",
    "ax1.set_ylim(ax1.get_ylim()[0]-.25,ax1.get_ylim()[1]+.25)\n",
    "ax1.set_ylabel(\"Number of drivers\",rotation=0)\n",
    "ax1.set_yticks([])\n",
    "\n",
    "\n",
    "ax0.set_xticks([])\n",
    "ax1.set_xticks([x + 0.5 for x in list(range(0,len(ttypes)))]\n",
    "                )\n",
    "_=ax1.set_xticklabels(conf.selecte_ttypes,rotation=90)\n",
    "ax0.spines['right'].set_visible(False)\n",
    "ax0.spines['top'].set_visible(False)\n",
    "ax0.set_xlim(-1,len(ttypes))\n",
    "ax0.set_ylabel(f\"Number of selected models\")\n",
    "for ax in [ax3,ax2,ax0b,ax1b,ax2b,ax3b]:\n",
    "    ax.axis(\"off\")\n",
    "ax0.legend([mpatches.Patch(facecolor=\"#e6550d\",alpha=1.),mpatches.Patch(facecolor=\"#fdae6b\",alpha=1.),mpatches.Patch(facecolor=\"#fee6ce\",alpha=1.)],[\"gene-ttype specific model\",\"gene-model\",\"gene-other ttype model\"], numpoints=1,loc =(0.8,0.6))\n",
    "plt.savefig(f'./raw_plots/ttype_models_boostdm_all.pdf', dpi=800,bbox_inches=\"tight\")\n",
    "plt.show()"
   ]
  },
  {
   "cell_type": "markdown",
   "metadata": {},
   "source": [
    "### Pan-cancer"
   ]
  },
  {
   "cell_type": "code",
   "execution_count": null,
   "metadata": {},
   "outputs": [],
   "source": [
    "def count_unique(grp):\n",
    "    return len(set(grp)) \n",
    "x=df_observed[[\"CANCER_TYPE\",\"gene\",\"type_model\"]].drop_duplicates().groupby([\"type_model\"]).agg({\"gene\":\"count\"}).reset_index().set_index([\"type_model\"]).T\n"
   ]
  },
  {
   "cell_type": "code",
   "execution_count": null,
   "metadata": {},
   "outputs": [],
   "source": [
    "fig, ax = plt.subplots(figsize=(1.5, 3))\n",
    "ttype_selected = x[\"gene/ttype specific\"]\n",
    "other_ttype_selected = x[\"gene other ttype\"]\n",
    "gene_selected = x[\"gene specific\"]\n",
    "no_model = x[\"no-model\"]\n",
    "\n",
    "#x.bar(x=0,height=gene_selected+ttype_selected+other_ttype_selected+no_model,width=0.2,color=\"white\",edgecolor=\"black\")\n",
    "ax.bar(x=0,height=gene_selected+ttype_selected+other_ttype_selected,width=0.2,color=\"#fee6ce\",edgecolor=\"black\")\n",
    "ax.bar(x=0,height=gene_selected+ttype_selected,width=0.2,color=\"#fdae6b\",edgecolor=\"black\")\n",
    "ax.bar(x=0,height=ttype_selected,width=0.2,color=\"#e6550d\",edgecolor=\"black\")\n",
    "\n",
    "ax.set_xlim(-0.4,.4)\n",
    "ax.set_xticks([0])\n",
    "ax.set_xticklabels([\"Pan cancer\"])\n",
    "ax.set_ylabel(f\"Number of models\")\n",
    "ax.spines['left'].set_visible(False)\n",
    "ax.spines['top'].set_visible(False)\n",
    "ax.yaxis.set_label_position(\"right\")\n",
    "ax.yaxis.tick_right()\n",
    "plt.savefig(f'./raw_plots/models_boostdm_all.pdf', dpi=800,bbox_inches=\"tight\")\n",
    "plt.show()"
   ]
  },
  {
   "cell_type": "markdown",
   "metadata": {},
   "source": [
    "# Extended Figure 9 c"
   ]
  },
  {
   "cell_type": "markdown",
   "metadata": {},
   "source": [
    "### First load the data"
   ]
  },
  {
   "cell_type": "code",
   "execution_count": null,
   "metadata": {},
   "outputs": [],
   "source": [
    "def ratio(grp):\n",
    "    return np.nansum(grp) / len(grp)"
   ]
  },
  {
   "cell_type": "code",
   "execution_count": null,
   "metadata": {},
   "outputs": [],
   "source": [
    "df_observed = pd.read_csv(\"source_data/unique_observed_mutations_model_specificity_clinvar_oncokb.tsv.gz\",sep=\"\\t\")\n",
    "df_cohorts = pd.read_csv(conf.cohorts_path,sep=\"\\t\")\n",
    "a=df_observed.groupby([\"CANCER_TYPE\"]).agg({\"model_gene_ttype_specific\":ratio,\"model_gene_other_ttype\":ratio,\"selected_nottype_specific\":ratio})\n",
    "d_samples=df_cohorts.groupby([\"CANCER_TYPE\"]).agg({\"SAMPLES\":np.sum}).to_dict()[\"SAMPLES\"]\n",
    "d_mutations=df_cohorts.groupby([\"CANCER_TYPE\"]).agg({\"MUTATIONS\":np.sum}).to_dict()[\"MUTATIONS\"]\n",
    "d_unique_mutations=df_observed.groupby([\"CANCER_TYPE\"]).agg({\"gene\":\"count\"}).to_dict()[\"gene\"]\n",
    "d_samples[\"LUNG_CANCER\"] = d_samples[\"NSCLC\"]\n",
    "d_samples[\"NSCLC\"] = 0\n",
    "a[\"represent\"] = a.apply(lambda row: d_samples[row.name]>50 and d_unique_mutations[row.name]>30,axis=1)\n",
    "\n"
   ]
  },
  {
   "cell_type": "code",
   "execution_count": null,
   "metadata": {},
   "outputs": [],
   "source": [
    "ratio_clinvar = df_observed[df_observed[\"clinvar\"]==True].shape[0] / df_observed.shape[0]\n",
    "ratio_oncokb = df_observed[df_observed[\"oncokb\"]==True].shape[0] / df_observed.shape[0]\n",
    "\n",
    "ratio_other_ttype_selected = df_observed[df_observed[\"model_gene_other_ttype\"]].shape[0] / df_observed.shape[0]\n",
    "ratio_gene_selected = df_observed[df_observed[\"selected_nottype_specific\"]].shape[0] / df_observed.shape[0]\n",
    "ratio_ttype_selected = df_observed[df_observed[\"model_gene_ttype_specific\"]].shape[0] / df_observed.shape[0]"
   ]
  },
  {
   "cell_type": "markdown",
   "metadata": {},
   "source": [
    "### Pan-cancer"
   ]
  },
  {
   "cell_type": "code",
   "execution_count": null,
   "metadata": {},
   "outputs": [],
   "source": [
    "def plot_right_bar(ax0,ax1,ax2,ax3):\n",
    "    ttypes,xs,ys,xticks = [], [], [], []\n",
    "    j=0\n",
    "    b=a[a[\"represent\"]].sort_values(\"model_gene_ttype_specific\",ascending=False)\n",
    "\n",
    "    ax0.bar(x=0,height=ratio_other_ttype_selected,width=0.2,color=\"#fee6ce\",edgecolor=\"black\")\n",
    "    ax0.bar(x=0,height=ratio_gene_selected,bottom=ratio_ttype_selected,width=0.2,color=\"#fdae6b\",edgecolor=\"black\")\n",
    "    ax0.bar(x=0,height=ratio_ttype_selected,width=0.2,color=\"#e6550d\",edgecolor=\"black\")\n",
    "    ax0.bar(x=0.5,height=ratio_clinvar,width=0.2,color=\"#66c2a5\",edgecolor=\"black\")\n",
    "    ax0.bar(x=1.0,height=ratio_oncokb,width=0.2,color=\"#8da0cb\",edgecolor=\"black\")\n",
    "\n",
    "\n",
    "\n",
    "\n",
    "    # variants classified\n",
    "    l=[df_observed[df_observed[\"model_gene_other_ttype\"]].shape[0],df_observed[df_observed[\"clinvar\"]==True].shape[0],df_observed[df_observed[\"oncokb\"]==True].shape[0]]\n",
    "    df_1=pd.DataFrame(l).T\n",
    "    sns.heatmap(df_1,cmap=\"Greys\",annot=True, fmt=\"d\",ax=ax1,cbar=False,vmin=0)\n",
    "\n",
    "\n",
    "\n",
    "\n",
    "    # variants total\n",
    "    l=[df_observed.shape[0]]\n",
    "    df_1=pd.DataFrame(l).T\n",
    "    sns.heatmap(df_1,cmap=\"Greys\",annot=True, fmt=\"d\",ax=ax2,cbar=False,vmin=0)\n",
    "\n",
    "\n",
    "    # samples\n",
    "    l=[sum(d_samples.values())]\n",
    "    df_1=pd.DataFrame(l).T\n",
    "    sns.heatmap(df_1,cmap=\"Greys\",annot=True, fmt=\"d\",ax=ax3,cbar=False,vmin=0)\n",
    "\n",
    "\n",
    "\n",
    "\n",
    "    _=ax0.set_xticks(xticks)\n",
    "    ax0.set_xticklabels([])\n",
    "    #ax0.set_xlim(-.6,1.6)\n",
    "    ax0.set_ylim(-0.01,ax.get_ylim()[1])\n",
    "\n",
    "    _=ax1.set_xticks([])\n",
    "\n",
    "    ax1.set_ylabel(\"\",rotation=0)\n",
    "    ax1.set_yticks([])\n",
    "\n",
    "\n",
    "    _=ax2.set_xticks([])\n",
    "\n",
    "    ax2.set_ylabel(\"\",rotation=0)\n",
    "    ax2.set_yticks([])\n",
    "\n",
    "\n",
    "    ax3.set_ylabel(\"\",rotation=0)\n",
    "    ax3.set_yticks([])\n",
    "    ax3.set_xticks([])\n",
    "\n",
    "    _=ax3.set_xticklabels([],rotation=90)\n",
    "    ax0.spines['left'].set_visible(False)\n",
    "    ax0.spines['top'].set_visible(False)\n",
    "    ax0.legend([mpatches.Patch(facecolor=\"#e6550d\",alpha=1.),mpatches.Patch(facecolor=\"#fdae6b\",alpha=1.),mpatches.Patch(facecolor=\"#fee6ce\",alpha=1.),mpatches.Patch(facecolor=\"#66c2a5\",alpha=1.),mpatches.Patch(facecolor=\"#8da0cb\",alpha=1.)],[\"gene-ttype specific model\",\"gene-model\",\"gene-other ttype model\", \"clinvar annotated\",\"oncokb annotated\"], numpoints=1,loc =(0.8,0.6))\n",
    "    ax0.yaxis.set_label_position(\"right\")\n",
    "    ax0.yaxis.tick_right()\n",
    "    ax0.set_ylabel(f\"Proportion of observed classified \\n variants  \")\n",
    "    ax3.set_xticks([0.5])\n",
    "    ax3.set_xticklabels([\"PAN-CANCER\"],rotation=90)\n",
    "    #plt.savefig(f'./plots/pancancer_VUS_boostdm.pdf', dpi=800,bbox_inches=\"tight\")\n"
   ]
  },
  {
   "cell_type": "markdown",
   "metadata": {},
   "source": [
    "### Plot it!"
   ]
  },
  {
   "cell_type": "code",
   "execution_count": null,
   "metadata": {},
   "outputs": [],
   "source": [
    "fig, ax = plt.subplots(figsize=(15, 4))\n",
    "\n",
    "gs = gridspec.GridSpec(figure=fig, ncols=2, nrows=4, height_ratios=[7, 1, 1,1],width_ratios=[15,1.5])\n",
    "gs.update(hspace=0.1, wspace=0.015)\n",
    "ax0 = plt.subplot(gs[0]) # density top\n",
    "ax0b = plt.subplot(gs[1]) # density top\n",
    "ax1 = plt.subplot(gs[2]) # null\n",
    "ax1b = plt.subplot(gs[3]) # density top\n",
    "ax2 = plt.subplot(gs[4]) # null\n",
    "ax2b = plt.subplot(gs[5]) # density top\n",
    "ax3 = plt.subplot(gs[6]) # null\n",
    "ax3b = plt.subplot(gs[7]) # density top\n",
    "ttypes,xs,ys,xticks = [], [], [], []\n",
    "j=0\n",
    "b=a[a[\"represent\"]].sort_values(\"model_gene_ttype_specific\",ascending=False)\n",
    "for i,r in b.iterrows():\n",
    "    ax0.bar(x=j,height=r[\"model_gene_other_ttype\"],color=\"#fee6ce\",width=0.6,edgecolor=\"black\")\n",
    "    ax0.bar(x=j,height=r[\"selected_nottype_specific\"],bottom=r[\"model_gene_ttype_specific\"],color=\"#fdae6b\",width=0.6,edgecolor=\"black\")\n",
    "    ax0.bar(x=j,height=r[\"model_gene_ttype_specific\"],color=\"#e6550d\",width=0.6,edgecolor=\"black\")\n",
    "    \n",
    "    \n",
    "    ttypes.append(i)\n",
    "    xticks.append(j)\n",
    "    j+=1\n",
    "# variants classified\n",
    "l=[]\n",
    "for ttype in ttypes:    \n",
    "    l.append(df_observed[(df_observed[\"CANCER_TYPE\"]==ttype)&(df_observed[\"model_gene_other_ttype\"])].shape[0])\n",
    "df_1=pd.DataFrame(l).T\n",
    "df_1.columns=ttypes\n",
    "sns.heatmap(df_1,cmap=\"Greys\",annot=True, fmt=\"d\",ax=ax1,cbar=False, annot_kws={\"fontsize\":6.5})\n",
    "# variants total\n",
    "l=[]\n",
    "for ttype in ttypes:    \n",
    "    l.append(df_observed[df_observed[\"CANCER_TYPE\"]==ttype].shape[0])\n",
    "df_1=pd.DataFrame(l).T\n",
    "df_1.columns=ttypes\n",
    "sns.heatmap(df_1,cmap=\"Greys\",annot=True, fmt=\"d\",ax=ax2,cbar=False, annot_kws={\"fontsize\":6.5})\n",
    "\n",
    "# total samples\n",
    "l=[]\n",
    "for ttype in ttypes:    \n",
    "    l.append(d_samples[ttype])\n",
    "df_1=pd.DataFrame(l).T\n",
    "df_1.columns=ttypes\n",
    "sns.heatmap(df_1,cmap=\"Greys\",annot=True, fmt=\"d\",ax=ax3,cbar=False, annot_kws={\"fontsize\":6.5})\n",
    "\n",
    "\n",
    "_=ax0.set_xticks(xticks)\n",
    "ax0.set_xticklabels([])\n",
    "ax0.set_xlim(-1,j)\n",
    "ax0.set_ylim(-0.01,ax.get_ylim()[1])\n",
    "\n",
    "_=ax1.set_xticks([])\n",
    "ax1.set_xlim(ax1.get_xlim()[0]-.5,ax1.get_xlim()[1]+.5)\n",
    "ax1.set_ylim(ax1.get_ylim()[0]-.25,ax1.get_ylim()[1]+.25)\n",
    "ax1.set_ylabel(\"Classified mutations\",rotation=0)\n",
    "ax1.set_yticks([])\n",
    "\n",
    "\n",
    "_=ax2.set_xticks([])\n",
    "ax2.set_xlim(ax1.get_xlim()[0],ax1.get_xlim()[1])\n",
    "ax2.set_ylim(ax1.get_ylim()[0],ax1.get_ylim()[1])\n",
    "ax2.set_ylabel(\"Total mutations\",rotation=0)\n",
    "ax2.set_yticks([])\n",
    "\n",
    "\n",
    "ax3.set_xlim(ax1.get_xlim()[0],ax1.get_xlim()[1])\n",
    "ax3.set_ylim(ax1.get_ylim()[0],ax1.get_ylim()[1])\n",
    "ax3.set_ylabel(\"Samples\",rotation=0)\n",
    "ax3.set_yticks([])\n",
    "\n",
    "\n",
    "ax0.set_xticks([])\n",
    "\n",
    "_=ax3.set_xticklabels(ttypes,rotation=90)\n",
    "ax0.spines['right'].set_visible(False)\n",
    "ax0.spines['top'].set_visible(False)\n",
    "\n",
    "plot_right_bar(ax0b,ax1b,ax2b,ax3b)\n",
    "    \n",
    "ax0.set_ylabel(f\"Proportion of observed classified \\n variants  \")\n",
    "\n",
    "plt.savefig(f'./raw_plots/ttype_VUS_boostdm_all.pdf', dpi=800,bbox_inches=\"tight\")\n",
    "plt.show()"
   ]
  },
  {
   "cell_type": "markdown",
   "metadata": {},
   "source": [
    "# Extended Figure 9d"
   ]
  },
  {
   "cell_type": "markdown",
   "metadata": {},
   "source": [
    "### Generate source data"
   ]
  },
  {
   "cell_type": "code",
   "execution_count": null,
   "metadata": {},
   "outputs": [],
   "source": [
    "if not(os.path.exists(\"source_data/driver_per_sample_boostdm.tsv\")):\n",
    "    ! python3 scripts/compute_number_of_drivers_per_sample.py"
   ]
  },
  {
   "cell_type": "markdown",
   "metadata": {},
   "source": [
    "### Load data"
   ]
  },
  {
   "cell_type": "code",
   "execution_count": null,
   "metadata": {},
   "outputs": [],
   "source": [
    "df_boostdm = pd.read_csv(\"source_data/driver_per_sample_boostdm.tsv\",sep=\"\\t\")\n",
    "with open(conf.dictionary_dndscv,'r') as f:\n",
    "    d_excess_muts=json.load(f)\n",
    "df_cohorts = pd.read_csv(conf.cohorts_path,sep=\"\\t\")"
   ]
  },
  {
   "cell_type": "markdown",
   "metadata": {},
   "source": [
    "### Functions plotting"
   ]
  },
  {
   "cell_type": "code",
   "execution_count": null,
   "metadata": {},
   "outputs": [],
   "source": [
    "def p75(grp):\n",
    "    return np.nanpercentile(grp,[90])\n",
    "def p25(grp):\n",
    "    return np.nanpercentile(grp,[10])\n",
    "\n",
    "def compute_drivers_dndcv(order):\n",
    "    values_excess = []\n",
    "    ci_ls,ci_lst = [], []\n",
    "    ci_us,ci_ust = [], []\n",
    "    values_total = []\n",
    "    for ttype in order:\n",
    "        cohorts = list(df_cohorts[df_cohorts[\"CANCER_TYPE\"]==ttype][\"COHORT\"].values)\n",
    "        values_cohort_dndscv, values_cohort_total = [],[]\n",
    "        for cohort in cohorts:\n",
    "            if not(cohort in d_excess_muts):\n",
    "                continue\n",
    "            values_cohort_dndscv+=list(d_excess_muts[cohort])\n",
    "        mean_excess = np.nanmean(values_cohort_dndscv)\n",
    "        values_excess.append(mean_excess)\n",
    "        ci_ls.append(p25(values_cohort_dndscv))\n",
    "        ci_us.append(p75(values_cohort_dndscv))\n",
    "    return values_excess,ci_ls,ci_us"
   ]
  },
  {
   "cell_type": "markdown",
   "metadata": {},
   "source": [
    "### Plot it, per tumor type"
   ]
  },
  {
   "cell_type": "code",
   "execution_count": null,
   "metadata": {},
   "outputs": [],
   "source": [
    "#parsed_dataset=df_boostdm.groupby(\"CANCER_TYPE\").agg(mean_driver_mutations=(\"boostDM_class\",np.nanmean),ci_l=(\"boostDM_class\",p25),ci_u=(\"boostDM_class\",p75)).reset_index()\n",
    "parsed_dataset=df_boostdm.groupby(\"CANCER_TYPE\")[\"boostDM_class\"].agg([(\"mean_driver_mutations\", np.nanmean), (\"ci_l\", p25), (\"ci_u\", p75)]).reset_index()\n",
    "order = parsed_dataset.sort_values(\"CANCER_TYPE\",ascending=True)[\"CANCER_TYPE\"].values\n",
    "parsed_dataset.sort_values(\"CANCER_TYPE\",ascending=True,inplace=True)\n",
    "values_excess,ci_ls,ci_us=compute_drivers_dndcv(order)"
   ]
  },
  {
   "cell_type": "markdown",
   "metadata": {},
   "source": [
    "### "
   ]
  },
  {
   "cell_type": "code",
   "execution_count": null,
   "metadata": {},
   "outputs": [],
   "source": [
    "# boostdm\n",
    "values_total = parsed_dataset.mean_driver_mutations.values\n",
    "ci_l = parsed_dataset.ci_l.values\n",
    "ci_u = parsed_dataset.ci_u.values\n",
    "y_error = [[values_total[i] - ci_l[i], ci_u[i] - values_total[i]] for i in range(len(values_total))]\n",
    "\n",
    "\n",
    "# dndscv\n",
    "\n",
    "y_error_dndscv = [[float(values_excess[i] - ci_ls[i]), float(ci_us[i] - values_excess[i])] for i in range(len(values_excess))]\n",
    "\n",
    "\n",
    "\n",
    "fig,ax = plt.subplots(figsize=(15,3))\n",
    "xs = range(0,len(order))\n",
    "ax.errorbar([x-0.15 for x in xs], values_total, yerr=np.array(y_error).T, ecolor='#e6550d', capthick=2,fmt='o',elinewidth=0.9,markersize=3,c=\"#e6550d\" )\n",
    "ax.errorbar([x+0.15 for x in xs], values_excess, yerr=np.array(y_error_dndscv).T, ecolor='#4d4d4d', capthick=2,fmt='o',elinewidth=0.9,markersize=3,c=\"#4d4d4d\" )\n",
    "#ax.scatter(x=xs,y=values,s=5)\n",
    "ax.set_xticks(xs)\n",
    "_=ax.set_xticklabels(order,fontsize=10,rotation=90)\n",
    "ax.set_yticks(np.arange(0,25,2))\n",
    "ax.set_yticklabels([\"{:.0f}\".format(x) for x in np.arange(0,25,2)])\n",
    "ax.set_ylabel(\"Mean drivers per sample\")\n",
    "ax.spines['top'].set_linewidth(0.0)\n",
    "ax.spines['right'].set_linewidth(0.0)\n",
    "ax.spines['left'].set_linewidth(0.5)\n",
    "ax.spines['bottom'].set_linewidth(0.5)\n",
    "#ax.tick_params(axis = 'x', labelsize =4  , pad=0.02 ,width=0.0)\n",
    "ax.set_xlim(-1,len(xs))\n",
    "ax.set_ylim(-1,25)\n",
    "\n",
    "markers = [plt.Line2D([0,0],[0,0],color=\"#e6550d\", marker='s', linestyle=''),\n",
    "           plt.Line2D([1,0],[0,0],color=\"#4d4d4d\", marker='s', linestyle=''),\n",
    "          ]\n",
    "ax.legend(markers, [\"boostDM prediction with selected model\",\"dNdScv estimated drivers\"], \n",
    "           numpoints=1,loc =(0.4,0.8),facecolor=None )\n",
    "\n",
    "plt.savefig(\"raw_plots/n_drivers_per_ttype_boostDM_no_hypermutated.pdf\",bbox_inches=\"tight\",dpi=100)\n",
    "plt.show()"
   ]
  },
  {
   "cell_type": "markdown",
   "metadata": {},
   "source": [
    "### General, plot (right panel)"
   ]
  },
  {
   "cell_type": "code",
   "execution_count": null,
   "metadata": {},
   "outputs": [],
   "source": [
    "df_boostdm[\"intogen\"] =True\n",
    "#parsed_dataset=df_boostdm.groupby(\"intogen\").agg(mean_driver_mutations=(\"boostDM_class\",np.nanmean),ci_l=(\"boostDM_class\",p25),ci_u=(\"boostDM_class\",p75)).reset_index()\n",
    "parsed_dataset=df_boostdm.groupby(\"intogen\")[\"boostDM_class\"].agg([(\"mean_driver_mutations\", np.nanmean), (\"ci_l\", p25), (\"ci_u\", p75)]).reset_index()\n",
    "order = parsed_dataset.sort_values(\"mean_driver_mutations\",ascending=False)[\"intogen\"].values\n",
    "parsed_dataset.sort_values(\"mean_driver_mutations\",ascending=False,inplace=True)"
   ]
  },
  {
   "cell_type": "code",
   "execution_count": null,
   "metadata": {},
   "outputs": [],
   "source": [
    "values_total = parsed_dataset.mean_driver_mutations.values\n",
    "\n",
    "ci_l = parsed_dataset.ci_l.values\n",
    "ci_u = parsed_dataset.ci_u.values\n",
    "y_error = [[values_total[i] - ci_l[i], ci_u[i] - values_total[i]] for i in range(len(values_total))]\n",
    "\n",
    "fig,ax = plt.subplots(figsize=(1.5,3))\n",
    "xs = range(0,len(order))\n",
    "ax.errorbar(-0.5, values_total, yerr=np.array(y_error).T, ecolor='#e6550d', capthick=2,fmt='o',elinewidth=1.9,markersize=5,c=\"#e6550d\" )\n",
    "y_error_dn = [[np.nanmean(values_excess) - p25(values_excess)],[p75(values_excess) - np.nanmean(values_excess)]]\n",
    "ax.errorbar(0.5,[np.nanmean(values_excess)], yerr=np.array(y_error_dn), ecolor='#4d4d4d', capthick=2,fmt='o',elinewidth=1.9,markersize=5,c=\"#4d4d4d\" )\n",
    "#ax.scatter(x=xs,y=values,s=5)\n",
    "ax.set_xticks([-.5,.5])\n",
    "_=ax.set_xticklabels([\"BoostDM \\n (gene specific)\",\"dndsCV\"],fontsize=8,rotation=90)\n",
    "ax.set_yticks(np.arange(0,10,2))\n",
    "ax.set_yticklabels([\"{:.0f}\".format(x) for x in np.arange(0,10,2)])\n",
    "ax.set_ylabel(\"Mean drivers per sample\")\n",
    "ax.spines['top'].set_linewidth(0.0)\n",
    "ax.spines['right'].set_linewidth(0.0)\n",
    "ax.spines['left'].set_linewidth(0.5)\n",
    "ax.spines['bottom'].set_linewidth(0.5)\n",
    "#ax.tick_params(axis = 'x', labelsize =4  , pad=0.02 ,width=0.0)\n",
    "ax.set_xlim(-1,len(xs))\n",
    "#ax.set_ylim(-1,22)\n",
    "plt.savefig(\"raw_plots/n_drivers_total_boostDM_no_hypermutated.pdf\",bbox_inches=\"tight\",dpi=100)\n",
    "plt.show()"
   ]
  }
 ],
 "metadata": {
  "kernelspec": {
   "display_name": "Python 3 (ipykernel)",
   "language": "python",
   "name": "python3"
  },
  "language_info": {
   "codemirror_mode": {
    "name": "ipython",
    "version": 3
   },
   "file_extension": ".py",
   "mimetype": "text/x-python",
   "name": "python",
   "nbconvert_exporter": "python",
   "pygments_lexer": "ipython3",
   "version": "3.7.3"
  },
  "widgets": {
   "application/vnd.jupyter.widget-state+json": {
    "state": {},
    "version_major": 2,
    "version_minor": 0
   }
  }
 },
 "nbformat": 4,
 "nbformat_minor": 4
}
