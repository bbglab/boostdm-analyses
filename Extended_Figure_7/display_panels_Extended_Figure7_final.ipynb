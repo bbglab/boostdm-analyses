{
 "cells": [
  {
   "cell_type": "code",
   "execution_count": 1,
   "metadata": {},
   "outputs": [],
   "source": [
    "%load_ext autoreload\n",
    "%autoreload 2"
   ]
  },
  {
   "cell_type": "code",
   "execution_count": 2,
   "metadata": {},
   "outputs": [],
   "source": [
    "import os\n",
    "os.environ['PATH_SOURCE_DATA'] = '/workspace/projects/boostdm/nature-release/source-data'"
   ]
  },
  {
   "cell_type": "code",
   "execution_count": 4,
   "metadata": {},
   "outputs": [
    {
     "name": "stdout",
     "output_type": "stream",
     "text": [
      "Loading observed mutations...\n",
      "Loading in silico saturation mutagenesis...\n"
     ]
    }
   ],
   "source": [
    "import os\n",
    "import sys\n",
    "sys.path.append('./scripts/')\n",
    "\n",
    "import warnings\n",
    "warnings.simplefilter(action='ignore', category=FutureWarning)\n",
    "\n",
    "import gzip\n",
    "import pickle\n",
    "\n",
    "import numpy as np\n",
    "import pandas as pd\n",
    "import matplotlib.pyplot as plt\n",
    "from sklearn.metrics import roc_auc_score\n",
    "from scipy.stats import mannwhitneyu\n",
    "\n",
    "import conf\n",
    "import oncotree\n",
    "from mutrate import KEYS, set_mutrate\n",
    "from datasets_build import reformat, format_data\n",
    "from plot import plot_auc_volcano, comparison_boxplot\n",
    "conf.config_params()\n",
    "\n",
    "tree = oncotree.Oncotree()\n",
    "leaves = tree.get_ttypes('CANCER')\n",
    "\n",
    "os.makedirs(\"raw_plots\",exist_ok=True)\n",
    "os.makedirs(\"source_data\",exist_ok=True)"
   ]
  },
  {
   "cell_type": "markdown",
   "metadata": {},
   "source": [
    "# Extended Figure 7a"
   ]
  },
  {
   "cell_type": "code",
   "execution_count": null,
   "metadata": {},
   "outputs": [],
   "source": [
    "# Load data\n",
    "\n",
    "fn = os.path.join(conf.output_boostdm, 'model_selection', 'eval_data.pickle.gz')\n",
    "with gzip.open(fn, 'rb') as f:\n",
    "    model_dict = pickle.load(f)\n",
    "    \n",
    "df_drivers = pd.read_csv(conf.drivers_path, sep='\\t')\n",
    "\n",
    "with gzip.open(os.path.join(os.environ['PATH_SOURCE_DATA'], 'extended-figure7-source-data', 'nondriver-observed-vs-non-observed.pickle.gz'), 'rb') as g:\n",
    "    nondrivers = pickle.load(g)\n",
    "\n",
    "mutrate_table = pd.read_csv(os.path.join(os.environ['PATH_SOURCE_DATA'], 'extended-figure7-source-data', 'mutrate_table.tsv'), sep='\\t')\n",
    "\n",
    "with gzip.open(os.path.join(os.environ['PATH_SOURCE_DATA'], 'extended-figure7-source-data', 'vectors_observed_all.pickle.gz'), 'rb') as f:\n",
    "    drivers = pickle.load(f)"
   ]
  },
  {
   "cell_type": "code",
   "execution_count": null,
   "metadata": {},
   "outputs": [],
   "source": [
    "# Non-driver genes: observed vs not observed\n",
    "\n",
    "res_nondriver, auc_nondriver = reformat(nondrivers)\n",
    "\n",
    "plot_auc_volcano(res_nondriver, auc_nondriver, model_dict, df_drivers, './raw_plots/',\n",
    "                 title='non-driver genes: observed vs not observed',\n",
    "                 xlim=(0.3, 1.05),\n",
    "                 ylim=(-0.25, 2.),\n",
    "                 figsize=(5, 5),\n",
    "                 density=False)"
   ]
  },
  {
   "cell_type": "code",
   "execution_count": null,
   "metadata": {},
   "outputs": [],
   "source": [
    "# Driver genes: observed versus not observed\n",
    "\n",
    "res_driver, auc_driver = format_data(drivers, mutrate_table)\n",
    "gene_ttype_specific = set(k for k, v in model_dict.items() if (k == v) and (k[0] in leaves))\n",
    "res_driver = {k: v for k, v in res_driver.items() if k in gene_ttype_specific}\n",
    "auc_driver = {k: v for k, v in auc_driver.items() if k in gene_ttype_specific}"
   ]
  },
  {
   "cell_type": "code",
   "execution_count": null,
   "metadata": {},
   "outputs": [],
   "source": [
    "highlight_genes = [('TP53', 'COREAD'), ('PIK3CA', 'CESC'), ('ARID2', 'CM'), ('FBXW7', 'UCEC'), \n",
    "                   ('KRAS', 'PAAD'), ('PIK3CA', 'UCEC'), ('CTNNB1', 'HC'), ('RB1', 'BLCA')]\n",
    "plot_auc_volcano(res_driver, auc_driver, model_dict,\n",
    "                 df_drivers,\n",
    "                 './raw_plots/',\n",
    "                 title='Driver genes: observed vs not observed',\n",
    "                 specific=True,\n",
    "                 highlight_genes=highlight_genes,\n",
    "                 xlim=(0.3, 1),\n",
    "                 ylim=(-0.2, 1.5),\n",
    "                 figsize=(5, 5),\n",
    "                 density=True,\n",
    "                 saveplot=True)"
   ]
  },
  {
   "cell_type": "code",
   "execution_count": null,
   "metadata": {},
   "outputs": [],
   "source": [
    "# Probability bias of non-driver genes compared to driver genes\n",
    "\n",
    "legend1 = '\\nObserved vs\\nNon-observed \\nnon-drivers'\n",
    "legend2 = '\\nObserved vs\\nNon-observed \\ndrivers'\n",
    "fname = 'prob_bias_driver_vs_nondriver'\n",
    "\n",
    "effective_auc_nondriver = {}\n",
    "for k in res_nondriver:\n",
    "    if len(res_nondriver[k][0]) >= 10:\n",
    "        effective_auc_nondriver[k] = auc_nondriver[k]\n",
    "\n",
    "comparison_boxplot(effective_auc_nondriver, auc_driver, legend1, legend2, fname)"
   ]
  },
  {
   "cell_type": "markdown",
   "metadata": {},
   "source": [
    "# Extended Figure 7b"
   ]
  },
  {
   "cell_type": "code",
   "execution_count": null,
   "metadata": {},
   "outputs": [],
   "source": [
    "# Probability bias in driver genes: 1) driver vs passenger; 2) predicted observed vs non-observed\n",
    "\n",
    "with gzip.open(os.path.join(os.environ['PATH_SOURCE_DATA'], 'extended-figure7-source-data', 'predicted-observed-vs-predicted-nonobserved.pickle.gz'), 'rb') as f:\n",
    "    \n",
    "    d = pickle.load(f)\n",
    "    res_observed_nonobserved = d['zipped_mutrate']\n",
    "    auc_observed_nonobserved = d['auc']\n",
    "    \n",
    "res_observed_nonobserved = {k: v for k, v in res_observed_nonobserved.items() if k in gene_ttype_specific}\n",
    "auc_observed_nonobserved = {k: v for k, v in auc_observed_nonobserved.items() if k in gene_ttype_specific}"
   ]
  },
  {
   "cell_type": "code",
   "execution_count": null,
   "metadata": {},
   "outputs": [],
   "source": [
    "with gzip.open(os.path.join(os.environ['PATH_SOURCE_DATA'], 'extended-figure7-source-data', 'vectors_driver_vs_passenger_all.pickle.gz'), 'rb') as f:\n",
    "    driver_passenger = pickle.load(f)\n",
    "\n",
    "driver_passenger = {k: v for k, v in driver_passenger.items() if k in gene_ttype_specific}"
   ]
  },
  {
   "cell_type": "code",
   "execution_count": null,
   "metadata": {},
   "outputs": [],
   "source": [
    "res_driver_passenger, auc_driver_passenger = format_data(driver_passenger, mutrate_table)"
   ]
  },
  {
   "cell_type": "code",
   "execution_count": null,
   "metadata": {},
   "outputs": [],
   "source": [
    "# Comparison boxplot\n",
    "\n",
    "legend1 = 'driver vs\\npassenger'\n",
    "legend2 = 'observed vs \\nnon-observed'\n",
    "fname = 'driver-passenger_observed-non-observed'\n",
    "\n",
    "comparison_boxplot(auc_driver_passenger, auc_observed_nonobserved, legend1, legend2, fname)"
   ]
  },
  {
   "cell_type": "code",
   "execution_count": null,
   "metadata": {},
   "outputs": [],
   "source": []
  }
 ],
 "metadata": {
  "kernelspec": {
   "display_name": "Python 3",
   "language": "python",
   "name": "python3"
  },
  "language_info": {
   "codemirror_mode": {
    "name": "ipython",
    "version": 3
   },
   "file_extension": ".py",
   "mimetype": "text/x-python",
   "name": "python",
   "nbconvert_exporter": "python",
   "pygments_lexer": "ipython3",
   "version": "3.6.9"
  },
  "widgets": {
   "application/vnd.jupyter.widget-state+json": {
    "state": {},
    "version_major": 2,
    "version_minor": 0
   }
  }
 },
 "nbformat": 4,
 "nbformat_minor": 4
}
