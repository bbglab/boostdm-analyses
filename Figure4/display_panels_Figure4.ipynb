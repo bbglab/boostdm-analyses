{
 "cells": [
  {
   "cell_type": "code",
   "execution_count": null,
   "metadata": {},
   "outputs": [],
   "source": [
    "%load_ext autoreload\n",
    "%autoreload 2"
   ]
  },
  {
   "cell_type": "code",
   "execution_count": null,
   "metadata": {},
   "outputs": [],
   "source": [
    "import os\n",
    "import sys\n",
    "sys.path.append('./scripts/')\n",
    "\n",
    "import gzip\n",
    "import pickle\n",
    "\n",
    "import numpy as np\n",
    "import pandas as pd\n",
    "import matplotlib.pyplot as plt\n",
    "from sklearn.metrics import roc_auc_score\n",
    "from scipy.stats import mannwhitneyu\n",
    "\n",
    "import conf\n",
    "from mutrate import KEYS, set_mutrate\n",
    "from plot import plot_auc_volcano\n",
    "conf.config_params()\n",
    "\n",
    "import warnings\n",
    "warnings.filterwarnings('ignore')\n",
    "\n",
    "os.makedirs(\"raw_plots\",exist_ok=True)\n",
    "os.makedirs(\"source_data\",exist_ok=True)"
   ]
  },
  {
   "cell_type": "markdown",
   "metadata": {},
   "source": [
    "# Figure 4a"
   ]
  },
  {
   "cell_type": "code",
   "execution_count": null,
   "metadata": {},
   "outputs": [],
   "source": [
    "fn = os.path.join(os.environ['PATH_SOURCE_DATA'], 'figure4-source-data', 'predicted-observed-vs-predicted-nonobserved.pickle.gz')\n",
    "with gzip.open(fn, 'rb') as f:\n",
    "    d = pickle.load(f)\n",
    "    res_pred_obs_vs_nonobs = d['zipped_mutrate']\n",
    "    auc_pred_obs_vs_nonobs = d['auc']"
   ]
  },
  {
   "cell_type": "code",
   "execution_count": null,
   "metadata": {},
   "outputs": [],
   "source": [
    "def plot_mutational_probability_bias(gene, ttype, ax):\n",
    "\n",
    "    colors = ['#FDAE6B', '#E6550D']\n",
    "\n",
    "    mutrates = res_pred_obs_vs_nonobs[(ttype, gene)]\n",
    "    auc = auc_pred_obs_vs_nonobs[(ttype, gene)]\n",
    "    \n",
    "    obs = mutrates[0]\n",
    "    non_obs = mutrates[1]\n",
    "\n",
    "    x = [1] * len(non_obs) + [2] * len(obs)\n",
    "    x = np.array(x) + np.random.normal(0, 0.05, size=len(x))\n",
    "    y = non_obs + obs\n",
    "    y = np.log10(y)\n",
    "    scatter_color = [colors[0]] * len(non_obs) + [colors[1]] * len(obs)\n",
    "\n",
    "    # boxplot\n",
    "\n",
    "    bp = ax.boxplot([np.log10(non_obs), np.log10(obs)], \n",
    "                    showfliers=False, \n",
    "                    patch_artist=True,\n",
    "                    boxprops={'alpha': 0.5},\n",
    "                    widths=(0.5, 0.5),\n",
    "                    medianprops={'color': 'black', 'alpha': 0.3},\n",
    "                    capprops={'color': 'grey'},\n",
    "                    whiskerprops={'color': 'grey'}\n",
    "                )\n",
    "\n",
    "    for patch, color in zip(bp['boxes'], colors):\n",
    "        patch.set_facecolor(color)\n",
    "\n",
    "    ax.set_xticklabels([f'non-obs\\nN={len(non_obs)}', \n",
    "                        f'obs\\nN={len(obs)}'])\n",
    "\n",
    "    pval = mannwhitneyu(obs, non_obs)[1]\n",
    "    ax.text(.9, -6.5, f'p < {np.round(pval,3)+0.001:.2e}')\n",
    "    \n",
    "    ax.scatter(x, y, s=5, c=scatter_color, marker='o', alpha=0.75)\n",
    "    ax.set_ylabel('Mutation Probability (log)')\n",
    "    ax.set_ylim(-9.5, -6)\n",
    "        \n",
    "    # auROC and log-fold-change\n",
    "    \n",
    "    y_true = [0] * len(non_obs) + [1] * len(obs)\n",
    "    y_score = non_obs + obs\n",
    "    \n",
    "    # log-fold-change\n",
    "    \n",
    "    lfc = np.log10(np.median(obs) / np.median(non_obs))\n",
    "    \n",
    "   \n",
    "    ax.spines['top'].set_visible(False)\n",
    "    ax.spines['right'].set_visible(False)\n",
    "\n",
    "    # titles\n",
    "    \n",
    "    ax.set_title(f'{gene} ({ttype})\\n\\nprob bias={np.round(auc, 2)}\\nlogFC={np.round(lfc, 2)}', fontsize=10)\n",
    "    \n",
    "    return auc\n",
    "    \n",
    "   \n",
    "    \n",
    "def sort_axes(list_gene_ttypes):\n",
    "    \n",
    "    auc_list = []\n",
    "    for i, (gene, ttype) in enumerate(list_gene_ttypes):\n",
    "        auc = auc_pred_obs_vs_nonobs[(ttype, gene)]\n",
    "        auc_list.append(auc)\n",
    "    index = np.argsort(auc_list)\n",
    "    return index\n",
    "    \n",
    "    \n",
    "def panel(list_gene_ttypes):\n",
    "    \n",
    "    index = sort_axes(list_gene_ttypes)\n",
    "    list_gene_ttypes = [list_gene_ttypes[j] for j in index][::-1]\n",
    "    \n",
    "    ncols = len(list_gene_ttypes) // 2\n",
    "    width, height = 1.8 * (ncols), 8\n",
    "    fig, ax = plt.subplots(figsize=(width, height), ncols=ncols, nrows=2)\n",
    "    for i, (gene, ttype) in enumerate(list_gene_ttypes):\n",
    "        row = i // 4\n",
    "        col = i % 4\n",
    "        auc = plot_mutational_probability_bias(gene, ttype, ax[row, col])\n",
    "        if col > 0:\n",
    "            ax[row, col].spines['left'].set_visible(False)\n",
    "            ax[row, col].set_yticks([])\n",
    "            ax[row, col].set_yticklabels([])\n",
    "            ax[row, col].set_ylabel(None)\n",
    "           \n",
    "            \n",
    "    plt.subplots_adjust(hspace=0.5)\n",
    "    plt.savefig('./raw_plots/prob_bias.svg', bbox_inches='tight')\n",
    "    plt.show()"
   ]
  },
  {
   "cell_type": "code",
   "execution_count": null,
   "metadata": {},
   "outputs": [],
   "source": [
    "list_gene_ttypes = [('TP53', 'COREAD'), \n",
    "                    ('FBXW7', 'UCEC'),\n",
    "                    ('KRAS', 'PAAD'),\n",
    "                    ('PIK3CA', 'UCEC'),\n",
    "                    ('CTNNB1', 'HC'),\n",
    "                    ('RB1', 'BLCA'),\n",
    "                    ('ARID2', 'CM'),\n",
    "                    ('EGFR', 'GBM')\n",
    "                    ]\n",
    "\n",
    "panel(list_gene_ttypes)"
   ]
  },
  {
   "cell_type": "markdown",
   "metadata": {},
   "source": [
    "# Figure 4b, Volcano plot"
   ]
  },
  {
   "cell_type": "code",
   "execution_count": null,
   "metadata": {},
   "outputs": [],
   "source": [
    "fn = os.path.join(conf.output_boostdm, 'model_selection', 'eval_data.pickle.gz')\n",
    "with gzip.open(fn, 'rb') as f:\n",
    "    model_dict = pickle.load(f)\n",
    "    \n",
    "df_drivers = pd.read_csv(conf.drivers_path, sep='\\t')"
   ]
  },
  {
   "cell_type": "code",
   "execution_count": null,
   "metadata": {},
   "outputs": [],
   "source": [
    "fn = os.path.join(os.environ['PATH_SOURCE_DATA'], 'figure4-source-data', 'predicted-observed-vs-predicted-nonobserved.pickle.gz')\n",
    "if not os.path.isfile(fn):\n",
    "    with gzip.open(fn, 'wb') as f:\n",
    "        d = {'zipped_mutrate': res, 'auc': auc}\n",
    "        pickle.dump(d, f)\n",
    "else:\n",
    "    with gzip.open(fn, 'rb') as f:\n",
    "        d = pickle.load(f)\n",
    "        res = d['zipped_mutrate']\n",
    "        auc = d['auc']"
   ]
  },
  {
   "cell_type": "code",
   "execution_count": null,
   "metadata": {},
   "outputs": [],
   "source": [
    "# plot volcano\n",
    "\n",
    "highlight_list = [('FBXW7', 'UCEC'), ('TP53', 'COREAD'), ('RB1', 'BLCA'), ('KRAS', 'PAAD'), \n",
    "                  ('CTNNB1', 'HC'), ('PIK3CA', 'UCEC'), ('PIK3CA', 'CESC'), ('ARID2', 'CM')]\n",
    "\n",
    "auc_obs_pred_drivers_list = plot_auc_volcano(res, auc,\n",
    "                                             model_dict,\n",
    "                                             df_drivers,\n",
    "                                             './raw_plots/',\n",
    "                                             highlight = highlight_list,\n",
    "                                             title='Driver Genes:\\nObserved vs Non-observed (potential drivers)',\n",
    "                                             density=False,\n",
    "                                             figsize=(4,4),\n",
    "                                             xlim=(0.35, 1.),\n",
    "                                             ylim=(-0.2, 1.55))"
   ]
  },
  {
   "cell_type": "code",
   "execution_count": null,
   "metadata": {},
   "outputs": [],
   "source": []
  }
 ],
 "metadata": {
  "kernelspec": {
   "display_name": "Python 3 (ipykernel)",
   "language": "python",
   "name": "python3"
  },
  "language_info": {
   "codemirror_mode": {
    "name": "ipython",
    "version": 3
   },
   "file_extension": ".py",
   "mimetype": "text/x-python",
   "name": "python",
   "nbconvert_exporter": "python",
   "pygments_lexer": "ipython3",
   "version": "3.7.3"
  },
  "widgets": {
   "application/vnd.jupyter.widget-state+json": {
    "state": {},
    "version_major": 2,
    "version_minor": 0
   }
  }
 },
 "nbformat": 4,
 "nbformat_minor": 4
}
