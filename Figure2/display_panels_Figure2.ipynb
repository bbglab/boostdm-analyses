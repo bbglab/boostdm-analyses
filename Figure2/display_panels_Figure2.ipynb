{
 "cells": [
  {
   "cell_type": "code",
   "execution_count": 1,
   "metadata": {},
   "outputs": [],
   "source": [
    "\n",
    "import os\n",
    "import pandas as pd\n",
    "import seaborn as sns\n",
    "import matplotlib.pyplot as plt\n",
    "from matplotlib import gridspec\n",
    "import numpy as np\n",
    "import sys\n",
    "from itertools import compress\n",
    "import matplotlib.colors as clr\n",
    "from math import pi\n",
    "\n",
    "\n",
    "sys.path.append(\"scripts/\")\n",
    "import scripts.conf as conf\n",
    "import scripts.oncotree\n",
    "conf.config_params()\n",
    "oncotree = scripts.oncotree.Oncotree()\n",
    "\n",
    "os.makedirs(\"raw_plots\",exist_ok=True)\n",
    "os.makedirs(\"source_data\",exist_ok=True)"
   ]
  },
  {
   "cell_type": "markdown",
   "metadata": {},
   "source": [
    "### First, create the source data"
   ]
  },
  {
   "cell_type": "code",
   "execution_count": 41,
   "metadata": {},
   "outputs": [],
   "source": [
    "if not(os.path.exists(f\"source_data/observed_mutations_with_shapleys_EGFR_LUAD.tsv\")) or not(os.path.exists(f\"source_data/observed_mutations_with_shapleys_EGFR_GBM.tsv\")):\n",
    "    !python scripts/prepare_tables_all_mutations.py "
   ]
  },
  {
   "cell_type": "markdown",
   "metadata": {},
   "source": [
    "# Figure 2a, radar plots."
   ]
  },
  {
   "cell_type": "code",
   "execution_count": 42,
   "metadata": {},
   "outputs": [],
   "source": [
    "def plot_radar_mutation(features,values,drivers,path_output):\n",
    "    # Definition of variables \n",
    "    fig = plt.subplots(figsize=(1.,1.))\n",
    "    categories=features\n",
    "    degron = \"_GLOBAL_VALUE\"\n",
    "\n",
    "    N = len(categories)\n",
    "\n",
    "    # What will be the angle of each axis in the plot? (we divide the plot / number of variable)\n",
    "    angles = [n / float(N) * 2 * pi for n in range(N)]\n",
    "    angles += angles[:1]\n",
    "    # Initialise the spider plot\n",
    "    ax = plt.subplot(111, polar=True)\n",
    "    ax.spines['polar'].set_visible(False)\n",
    "    # If you want the first axis to be on top:\n",
    "    ax.set_theta_offset(pi / 2)\n",
    "    ax.set_theta_direction(-1)\n",
    "    ax.vlines(angles[:-1], 0, [3 for x in range(len(angles[:-1]))], colors=\"#DCDCDC\", zorder=3,linewidth=0.5,alpha=0.5) \n",
    "    # Draw ylabels\n",
    "    ax.set_rlabel_position(0)\n",
    "    maxv = int(np.amax(values))+1\n",
    "    minv = int(np.amin(values))-1\n",
    "    plt.ylim(minv,maxv)\n",
    "    plt.yticks(np.arange(minv,maxv+1,1), np.arange(minv,maxv+1,1), color=\"black\", size=5)\n",
    "    values +=  values[:1]\n",
    "    #ax.plot(angles, values, linewidth=1.15, linestyle='solid', label=\"Drivers\",color=\"#a64040ff\")\n",
    "    \n",
    "    # Drivers\n",
    "    values_true = list(compress(list(values),list(drivers)))\n",
    "    # plot each value\n",
    "    for case in values_true:\n",
    "        case = list(case)\n",
    "        case += case[:1]\n",
    "        ax.plot(angles, case, linewidth=0.25, linestyle='solid', label=\"Drivers\",color=\"#a64040ff\")\n",
    "    \n",
    "    ax.grid(b=None,axis=\"x\")\n",
    "    ax.grid(axis=\"y\",lw=0.25)\n",
    "    \n",
    "    # Draw one axe per variable + add labels labels yet\n",
    "    print (name)\n",
    "    _=plt.xticks(angles[:-1], [conf.name_features[x]  for x in features],fontsize=4)\n",
    "    plt.savefig(path_output,dpi=800,bbox_inches=\"tight\")\n",
    "    plt.show()\n",
    "    \n"
   ]
  },
  {
   "cell_type": "markdown",
   "metadata": {},
   "source": [
    "### Plot them"
   ]
  },
  {
   "cell_type": "code",
   "execution_count": 45,
   "metadata": {},
   "outputs": [
    {
     "name": "stdout",
     "output_type": "stream",
     "text": [
      "raw_plots/all_drivers_EGFR__LUAD.svg\n"
     ]
    },
    {
     "data": {
      "image/png": "[encoded data removed]",
      "text/plain": [
       "<Figure size 100x100 with 1 Axes>"
      ]
     },
     "metadata": {},
     "output_type": "display_data"
    },
    {
     "name": "stdout",
     "output_type": "stream",
     "text": [
      "raw_plots/all_drivers_EGFR__GBM.svg\n"
     ]
    },
    {
     "data": {
      "image/png": "[encoded data removed]",
      "text/plain": [
       "<Figure size 100x100 with 1 Axes>"
      ]
     },
     "metadata": {},
     "output_type": "display_data"
    }
   ],
   "source": [
    "gene = \"EGFR\"\n",
    "for ttype in [\"LUAD\",\"GBM\"]:\n",
    "    df_data = pd.read_csv(f\"source_data/observed_mutations_with_shapleys_EGFR_{ttype}.tsv\",sep=\"\\t\")\n",
    "    drivers = df_data[(df_data[\"boostDM_class\"])]\n",
    "    values = list(drivers[conf.features].values)\n",
    "    drivers = list(drivers[\"boostDM_class\"].values)\n",
    "    name = os.path.join(\"raw_plots\",\"all_drivers\"+\"_\"+gene+\"_\"+\"_\"+ttype+\".svg\")\n",
    "    plot_radar_mutation(conf.features,values,drivers,name)"
   ]
  },
  {
   "cell_type": "markdown",
   "metadata": {},
   "source": [
    "### function to plot per color"
   ]
  },
  {
   "cell_type": "code",
   "execution_count": 46,
   "metadata": {},
   "outputs": [],
   "source": [
    "def to_hex(a,b,c):\n",
    "    return '#%02x%02x%02x' % (int(a*255), int(b*255), int(c*255))\n",
    "def create_scale(maxv,minv):\n",
    "    maxv = np.nanmax(maxv) \n",
    "    minv = np.nanmin(minv)\n",
    "    norm = clr.Normalize(vmin=minv,vmax=maxv)\n",
    "    sm = plt.cm.ScalarMappable(cmap=plt.cm.RdBu_r, norm=norm)\n",
    "    return sm\n",
    "def get_colors(row,scales):\n",
    "    colors = []\n",
    "    for i in range(0,len(row)):\n",
    "        sm = scales[i]\n",
    "        colors.append(to_hex(*sm.to_rgba(row[i])[0:3]))\n",
    "    return colors"
   ]
  },
  {
   "cell_type": "markdown",
   "metadata": {},
   "source": [
    "### Function to plot radar for a single mutation"
   ]
  },
  {
   "cell_type": "code",
   "execution_count": 47,
   "metadata": {},
   "outputs": [],
   "source": [
    "def plot_radar_single_mutation(features,values,drivers,path_output):\n",
    "    # Definition of variables \n",
    "    fig = plt.subplots(figsize=(1.,1.))\n",
    "    categories=features\n",
    "    degron = \"_GLOBAL_VALUE\"\n",
    "\n",
    "    N = len(categories)\n",
    "\n",
    "    # What will be the angle of each axis in the plot? (we divide the plot / number of variable)\n",
    "    angles = [n / float(N) * 2 * pi for n in range(N)]\n",
    "    angles += angles[:1]\n",
    "    # Initialise the spider plot\n",
    "    ax = plt.subplot(111, polar=True)\n",
    "    ax.spines['polar'].set_visible(False)\n",
    "    # If you want the first axis to be on top:\n",
    "    ax.set_theta_offset(pi / 2)\n",
    "    ax.set_theta_direction(-1)\n",
    "    ax.vlines(angles[:-1], 0, [3 for x in range(len(angles[:-1]))], colors=\"#DCDCDC\", zorder=3,linewidth=0.5,alpha=0.5) \n",
    "    # Draw ylabels\n",
    "    ax.set_rlabel_position(0)\n",
    "    maxv = int(np.amax(values))+1\n",
    "    minv = int(np.amin(values))-1\n",
    "    plt.ylim(minv,maxv)\n",
    "    plt.yticks(np.arange(minv,maxv+1,1), np.arange(minv,maxv+1,1), color=\"black\", size=5)\n",
    "    values +=  values[:1]\n",
    "    ax.plot(angles, values, linewidth=1.15, linestyle='solid', label=\"Drivers\",color=\"#a64040ff\")\n",
    "    ax.grid(b=None,axis=\"x\")\n",
    "    ax.grid(axis=\"y\",lw=0.25)\n",
    "    \n",
    "    # Draw one axe per variable + add labels labels yet\n",
    "    _=plt.xticks(angles[:-1], [conf.name_features[x]  for x in features],fontsize=4)\n",
    "    plt.savefig(path_output,dpi=800,bbox_inches=\"tight\")\n",
    "    \n"
   ]
  },
  {
   "cell_type": "code",
   "execution_count": 48,
   "metadata": {},
   "outputs": [],
   "source": [
    "path_saturation=os.path.join(conf.output_boostdm,\"saturation\",\"prediction\")"
   ]
  },
  {
   "cell_type": "markdown",
   "metadata": {},
   "source": [
    "### Individual examples, Figure 2B"
   ]
  },
  {
   "cell_type": "code",
   "execution_count": 49,
   "metadata": {},
   "outputs": [],
   "source": [
    "examples = [(\"RB1\",\"E51*\",\"BLCA\"),(\"PIK3CA\",\"E542K\",\"BRCA\"),(\"CIC\",\"R202W\",\"LGG\"),(\"TP53\",\"K132R\",\"LUSC\")]"
   ]
  },
  {
   "cell_type": "code",
   "execution_count": 50,
   "metadata": {},
   "outputs": [],
   "source": [
    "for gene,mut,ttype in examples:\n",
    "    path_file = os.path.join(path_saturation,f\"{gene}.{ttype}.prediction.tsv.gz\")\n",
    "    df_data = pd.read_csv(path_file,sep=\"\\t\")\n",
    "    df_data[(df_data[\"boostDM_class\"])&(df_data[\"gene\"]==gene)&(df_data[\"aachange\"]==mut)].to_csv(f\"source_data/{gene}_{ttype}_{mut}_radar_source.tsv\",sep=\"\\t\")\n",
    "    muts = df_data[(df_data[\"boostDM_class\"])&(df_data[\"gene\"]==gene)&(df_data[\"aachange\"]==mut)][\"aachange\"].unique()\n",
    "    for mut in muts:\n",
    "        df = df_data[df_data[\"aachange\"]==mut].drop_duplicates()\n",
    "        for i,r in df.iterrows():\n",
    "            selected_model = r[\"selected_model_ttype\"]\n",
    "            selected_model_gene = r[\"selected_model_gene\"]\n",
    "            gene = r[\"gene\"]\n",
    "            values = [r.loc[feature] for feature in conf.features]\n",
    "            drivers = [r[\"boostDM_class\"]]\n",
    "            name = os.path.join(\"raw_plots\",gene+\"_\"+mut+\"_\"+ttype+\".svg\")\n",
    "            plot_radar_single_mutation(conf.features,values,drivers,name)"
   ]
  }
 ],
 "metadata": {
  "kernelspec": {
   "display_name": "Python 3",
   "language": "python",
   "name": "python3"
  },
  "language_info": {
   "codemirror_mode": {
    "name": "ipython",
    "version": 3
   },
   "file_extension": ".py",
   "mimetype": "text/x-python",
   "name": "python",
   "nbconvert_exporter": "python",
   "pygments_lexer": "ipython3",
   "version": "3.6.9"
  },
  "widgets": {
   "application/vnd.jupyter.widget-state+json": {
    "state": {},
    "version_major": 2,
    "version_minor": 0
   }
  }
 },
 "nbformat": 4,
 "nbformat_minor": 4
}
