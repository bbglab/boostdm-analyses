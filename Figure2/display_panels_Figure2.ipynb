{
 "cells": [
  {
   "cell_type": "code",
   "execution_count": null,
   "metadata": {},
   "outputs": [],
   "source": [
    "%load_ext autoreload\n",
    "%autoreload 2"
   ]
  },
  {
   "cell_type": "code",
   "execution_count": null,
   "metadata": {},
   "outputs": [],
   "source": [
    "import os\n",
    "import pandas as pd\n",
    "import seaborn as sns\n",
    "import numpy as np\n",
    "import sys\n",
    "from itertools import compress\n",
    "\n",
    "import matplotlib.pyplot as plt\n",
    "from matplotlib import gridspec\n",
    "import matplotlib.colors as clr\n",
    "import matplotlib.font_manager\n",
    "from math import pi\n",
    "\n",
    "sys.path.append(\"scripts/\")\n",
    "import scripts.conf as conf\n",
    "import scripts.oncotree\n",
    "conf.config_params()\n",
    "oncotree = scripts.oncotree.Oncotree()\n",
    "\n",
    "import warnings\n",
    "warnings.filterwarnings('ignore')\n",
    "\n",
    "from fetch_data_needle import create_observed_dataset, get_mutations, get_plot_data\n",
    "from plot_needle import plot_observed_distribution\n",
    "\n",
    "os.makedirs(\"raw_plots\",exist_ok=True)\n",
    "os.makedirs(\"source_data\",exist_ok=True)\n",
    "\n",
    "import warnings\n",
    "warnings.simplefilter(action='ignore', category=FutureWarning)\n",
    "warnings.simplefilter(action='ignore', category=UserWarning)\n",
    "\n",
    "from sklearn.cluster import KMeans\n",
    "from matplotlib import cm\n",
    "from sklearn.decomposition import PCA\n",
    "cmap = cm.RdYlGn_r\n",
    "\n",
    "from clustering import generate_hierarchy, draw_flat_cluster\n",
    "from retrieve import get_shaps"
   ]
  },
  {
   "cell_type": "markdown",
   "metadata": {},
   "source": [
    "# Figure 2a"
   ]
  },
  {
   "cell_type": "code",
   "execution_count": null,
   "metadata": {},
   "outputs": [],
   "source": [
    "obs_muts = get_mutations()\n",
    "\n",
    "def needleplot(gene, ttype, plotname=None):\n",
    "    df = create_observed_dataset(gene, ttype, obs_muts)\n",
    "    args = get_plot_data(df)\n",
    "    plot_observed_distribution(gene, ttype, *args, plotname=plotname)"
   ]
  },
  {
   "cell_type": "code",
   "execution_count": null,
   "metadata": {},
   "outputs": [],
   "source": [
    "gene, ttype = 'EGFR', 'LUAD'\n",
    "needleplot(gene, ttype, plotname=f'./raw_plots/{gene}.{ttype}')"
   ]
  },
  {
   "cell_type": "code",
   "execution_count": null,
   "metadata": {},
   "outputs": [],
   "source": [
    "gene, ttype = 'EGFR', 'GBM'\n",
    "needleplot(gene, ttype, plotname=f'./raw_plots/{gene}.{ttype}')"
   ]
  },
  {
   "cell_type": "markdown",
   "metadata": {},
   "source": [
    "# Figure 2b"
   ]
  },
  {
   "cell_type": "code",
   "execution_count": null,
   "metadata": {},
   "outputs": [],
   "source": [
    "if not(os.path.exists(f\"source_data/observed_mutations_with_shapleys_EGFR_LUAD.tsv\")) or not(os.path.exists(f\"source_data/observed_mutations_with_shapleys_EGFR_GBM.tsv\")):\n",
    "    !python3 scripts/prepare_tables_all_mutations.py "
   ]
  },
  {
   "cell_type": "code",
   "execution_count": null,
   "metadata": {},
   "outputs": [],
   "source": [
    "def plot_radar_mutation(features,values,drivers,path_output):\n",
    "    # Definition of variables \n",
    "    fig = plt.subplots(figsize=(1.,1.))\n",
    "    categories=features\n",
    "    degron = \"_GLOBAL_VALUE\"\n",
    "\n",
    "    N = len(categories)\n",
    "\n",
    "    # What will be the angle of each axis in the plot? (we divide the plot / number of variable)\n",
    "    angles = [n / float(N) * 2 * pi for n in range(N)]\n",
    "    angles += angles[:1]\n",
    "    # Initialise the spider plot\n",
    "    ax = plt.subplot(111, polar=True)\n",
    "    ax.spines['polar'].set_visible(False)\n",
    "    # If you want the first axis to be on top:\n",
    "    ax.set_theta_offset(pi / 2)\n",
    "    ax.set_theta_direction(-1)\n",
    "    ax.vlines(angles[:-1], 0, [3 for x in range(len(angles[:-1]))], colors=\"#DCDCDC\", zorder=3,linewidth=0.5,alpha=0.5) \n",
    "    # Draw ylabels\n",
    "    ax.set_rlabel_position(0)\n",
    "    maxv = int(np.amax(values))+1\n",
    "    minv = int(np.amin(values))-1\n",
    "    plt.ylim(minv,maxv)\n",
    "    plt.yticks(np.arange(minv,maxv+1,1), np.arange(minv,maxv+1,1), color=\"black\", size=5)\n",
    "    values +=  values[:1]\n",
    "    #ax.plot(angles, values, linewidth=1.15, linestyle='solid', label=\"Drivers\",color=\"#a64040ff\")\n",
    "    \n",
    "    # Drivers\n",
    "    values_true = list(compress(list(values),list(drivers)))\n",
    "    # plot each value\n",
    "    for case in values_true:\n",
    "        case = list(case)\n",
    "        case += case[:1]\n",
    "        ax.plot(angles, case, linewidth=0.25, linestyle='solid', label=\"Drivers\",color=\"#a64040ff\")\n",
    "    \n",
    "    ax.grid(b=None,axis=\"x\")\n",
    "    ax.grid(axis=\"y\",lw=0.25)\n",
    "    \n",
    "    # Draw one axe per variable + add labels labels yet\n",
    "    print (name)\n",
    "    _=plt.xticks(angles[:-1], [conf.name_features[x]  for x in features],fontsize=4)\n",
    "    plt.savefig(path_output,dpi=800,bbox_inches=\"tight\")\n",
    "    plt.show()\n",
    "    \n"
   ]
  },
  {
   "cell_type": "markdown",
   "metadata": {},
   "source": [
    "### Plot them"
   ]
  },
  {
   "cell_type": "code",
   "execution_count": null,
   "metadata": {},
   "outputs": [],
   "source": [
    "gene = \"EGFR\"\n",
    "for ttype in [\"LUAD\",\"GBM\"]:\n",
    "    df_data = pd.read_csv(f\"source_data/observed_mutations_with_shapleys_EGFR_{ttype}.tsv\",sep=\"\\t\")\n",
    "    drivers = df_data[(df_data[\"boostDM_class\"])]\n",
    "    values = list(drivers[conf.features].values)\n",
    "    drivers = list(drivers[\"boostDM_class\"].values)\n",
    "    name = os.path.join(\"raw_plots\",\"all_drivers\"+\"_\"+gene+\"_\"+\"_\"+ttype+\".svg\")\n",
    "    plot_radar_mutation(conf.features,values,drivers,name)"
   ]
  },
  {
   "cell_type": "markdown",
   "metadata": {},
   "source": [
    "### function to plot per color"
   ]
  },
  {
   "cell_type": "code",
   "execution_count": null,
   "metadata": {},
   "outputs": [],
   "source": [
    "def to_hex(a,b,c):\n",
    "    return '#%02x%02x%02x' % (int(a*255), int(b*255), int(c*255))\n",
    "def create_scale(maxv,minv):\n",
    "    maxv = np.nanmax(maxv) \n",
    "    minv = np.nanmin(minv)\n",
    "    norm = clr.Normalize(vmin=minv,vmax=maxv)\n",
    "    sm = plt.cm.ScalarMappable(cmap=plt.cm.RdBu_r, norm=norm)\n",
    "    return sm\n",
    "def get_colors(row,scales):\n",
    "    colors = []\n",
    "    for i in range(0,len(row)):\n",
    "        sm = scales[i]\n",
    "        colors.append(to_hex(*sm.to_rgba(row[i])[0:3]))\n",
    "    return colors"
   ]
  },
  {
   "cell_type": "markdown",
   "metadata": {},
   "source": [
    "### Function to plot radar for a single mutation"
   ]
  },
  {
   "cell_type": "code",
   "execution_count": null,
   "metadata": {},
   "outputs": [],
   "source": [
    "def plot_radar_single_mutation(features,values,drivers,path_output):\n",
    "    # Definition of variables \n",
    "    fig = plt.subplots(figsize=(1.,1.))\n",
    "    categories=features\n",
    "    degron = \"_GLOBAL_VALUE\"\n",
    "\n",
    "    N = len(categories)\n",
    "\n",
    "    # What will be the angle of each axis in the plot? (we divide the plot / number of variable)\n",
    "    angles = [n / float(N) * 2 * pi for n in range(N)]\n",
    "    angles += angles[:1]\n",
    "    # Initialise the spider plot\n",
    "    ax = plt.subplot(111, polar=True)\n",
    "    ax.spines['polar'].set_visible(False)\n",
    "    # If you want the first axis to be on top:\n",
    "    ax.set_theta_offset(pi / 2)\n",
    "    ax.set_theta_direction(-1)\n",
    "    ax.vlines(angles[:-1], 0, [3 for x in range(len(angles[:-1]))], colors=\"#DCDCDC\", zorder=3,linewidth=0.5,alpha=0.5) \n",
    "    # Draw ylabels\n",
    "    ax.set_rlabel_position(0)\n",
    "    maxv = int(np.amax(values))+1\n",
    "    minv = int(np.amin(values))-1\n",
    "    plt.ylim(minv,maxv)\n",
    "    plt.yticks(np.arange(minv,maxv+1,1), np.arange(minv,maxv+1,1), color=\"black\", size=5)\n",
    "    values +=  values[:1]\n",
    "    ax.plot(angles, values, linewidth=1.15, linestyle='solid', label=\"Drivers\",color=\"#a64040ff\")\n",
    "    ax.grid(b=None,axis=\"x\")\n",
    "    ax.grid(axis=\"y\",lw=0.25)\n",
    "    \n",
    "    # Draw one axe per variable + add labels labels yet\n",
    "    _=plt.xticks(angles[:-1], [conf.name_features[x]  for x in features],fontsize=4)\n",
    "    plt.savefig(path_output,dpi=800,bbox_inches=\"tight\")\n",
    "    \n"
   ]
  },
  {
   "cell_type": "code",
   "execution_count": null,
   "metadata": {},
   "outputs": [],
   "source": [
    "path_saturation=os.path.join(conf.output_boostdm,\"saturation\",\"prediction\")"
   ]
  },
  {
   "cell_type": "markdown",
   "metadata": {},
   "source": [
    "# Figure 2c "
   ]
  },
  {
   "cell_type": "code",
   "execution_count": null,
   "metadata": {},
   "outputs": [],
   "source": [
    "examples = [(\"RB1\",\"E51*\",\"BLCA\"),(\"VHL\",\"S80R\",\"RCCC\"),(\"CIC\",\"R202W\",\"LGG\"),(\"TP53\",\"K132R\",\"LUSC\")]"
   ]
  },
  {
   "cell_type": "code",
   "execution_count": null,
   "metadata": {},
   "outputs": [],
   "source": [
    "for gene,mut,ttype in examples:\n",
    "    path_file = os.path.join(path_saturation,f\"{gene}.{ttype}.prediction.tsv.gz\")\n",
    "    df_data = pd.read_csv(path_file,sep=\"\\t\")\n",
    "    df_data[(df_data[\"boostDM_class\"])&(df_data[\"gene\"]==gene)&(df_data[\"aachange\"]==mut)].to_csv(f\"source_data/{gene}_{ttype}_{mut}_radar_source.tsv\",sep=\"\\t\")\n",
    "    muts = df_data[(df_data[\"boostDM_class\"])&(df_data[\"gene\"]==gene)&(df_data[\"aachange\"]==mut)][\"aachange\"].unique()\n",
    "    for mut in muts:\n",
    "        df = df_data[df_data[\"aachange\"]==mut].drop_duplicates()\n",
    "        for i,r in df.iterrows():\n",
    "            selected_model = r[\"selected_model_ttype\"]\n",
    "            selected_model_gene = r[\"selected_model_gene\"]\n",
    "            gene = r[\"gene\"]\n",
    "            values = [r.loc[feature] for feature in conf.features]\n",
    "            drivers = [r[\"boostDM_class\"]]\n",
    "            name = os.path.join(\"raw_plots\",gene+\"_\"+mut+\"_\"+ttype+\".svg\")\n",
    "            plot_radar_single_mutation(conf.features,values,drivers,name)"
   ]
  },
  {
   "cell_type": "markdown",
   "metadata": {},
   "source": [
    "# Figure 2d "
   ]
  },
  {
   "cell_type": "code",
   "execution_count": null,
   "metadata": {},
   "outputs": [],
   "source": [
    "df_stats = pd.read_csv(conf.cohorts_path, sep=\"\\t\")\n",
    "\n",
    "# mapping MoA colors to each (gene, ttype)\n",
    "\n",
    "dg = pd.read_csv(conf.drivers_path, sep='\\t')\n",
    "d = dict(zip(zip(dg.SYMBOL, dg.CANCER_TYPE), map(lambda x: conf.dict_colors_role.get(x, '#808080'), dg.ROLE)))\n",
    "d_gene = dict(zip(dg.SYMBOL, map(lambda x: conf.dict_colors_role.get(x, '#808080'), dg.ROLE)))\n",
    "\n",
    "# load observed mutations\n",
    "\n",
    "mutations = pd.read_csv(os.path.join(conf.output_boostdm, 'discovery', 'mutations.tsv'), sep='\\t')\n",
    "\n",
    "df = get_shaps(mutations, None, None)"
   ]
  },
  {
   "cell_type": "code",
   "execution_count": null,
   "metadata": {},
   "outputs": [],
   "source": [
    "def low_rank(gene, ttype):\n",
    "    \n",
    "    df = get_shaps(mutations, None, None)\n",
    "    \n",
    "    moa_colors = df['moa'].values\n",
    "    complexity_colors = df['linear_complexity'].values\n",
    "    \n",
    "    df = df[conf.features]\n",
    "    pca = PCA(10, whiten=True)\n",
    "    projected = pca.fit_transform(df)\n",
    "    return df, projected, moa_colors, complexity_colors\n",
    "\n",
    "\n",
    "def cluster_heatmap(gene, ttype, mode='flat', labels=None, title=None, fn=None):\n",
    "    \n",
    "    df, projected, moa_colors, complexity_colors = low_rank(gene, ttype)\n",
    "    X, linkage, scores, classes, labels_list = generate_hierarchy(df)\n",
    "    if mode == 'flat':\n",
    "        draw_flat_cluster(X, linkage, df.columns, labels_list[2], \n",
    "                          './raw_plots', mode=mode, title=title, fn=fn)\n",
    "    elif mode == 'moa':\n",
    "        draw_flat_cluster(X, linkage, df.columns, labels_list[2], \n",
    "                          './raw_plots', moa_colors=moa_colors,\n",
    "                          mode=mode, title=title, fn=fn)\n",
    "    return labels_list[2]"
   ]
  },
  {
   "cell_type": "code",
   "execution_count": null,
   "metadata": {},
   "outputs": [],
   "source": [
    "# unique observed mutations \n",
    "# per gene-ttype\n",
    "# covered by specific models \n",
    "# with boostDM positive\n",
    "\n",
    "labels_hierarchical = cluster_heatmap(None, None, mode='flat', \n",
    "                                      title='Specific Models', \n",
    "                                      fn='observed.specific.driver.hierarchy')"
   ]
  },
  {
   "cell_type": "code",
   "execution_count": null,
   "metadata": {},
   "outputs": [],
   "source": [
    "l = cluster_heatmap(None, None, mode='moa', title='Specific Models', fn='observed.specific.driver.moa')"
   ]
  },
  {
   "cell_type": "code",
   "execution_count": null,
   "metadata": {},
   "outputs": [],
   "source": []
  }
 ],
 "metadata": {
  "kernelspec": {
   "display_name": "Python 3 (ipykernel)",
   "language": "python",
   "name": "python3"
  },
  "language_info": {
   "codemirror_mode": {
    "name": "ipython",
    "version": 3
   },
   "file_extension": ".py",
   "mimetype": "text/x-python",
   "name": "python",
   "nbconvert_exporter": "python",
   "pygments_lexer": "ipython3",
   "version": "3.7.3"
  },
  "widgets": {
   "application/vnd.jupyter.widget-state+json": {
    "state": {},
    "version_major": 2,
    "version_minor": 0
   }
  }
 },
 "nbformat": 4,
 "nbformat_minor": 4
}
