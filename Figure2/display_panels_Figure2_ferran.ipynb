{
 "cells": [
  {
   "cell_type": "code",
   "execution_count": null,
   "metadata": {},
   "outputs": [],
   "source": [
    "%load_ext autoreload\n",
    "%autoreload 2"
   ]
  },
  {
   "cell_type": "code",
   "execution_count": null,
   "metadata": {},
   "outputs": [],
   "source": [
    "import os\n",
    "os.environ['PATH_SOURCE_DATA'] = '/workspace/projects/boostdm/nature-release/source-data'"
   ]
  },
  {
   "cell_type": "markdown",
   "metadata": {},
   "source": [
    "# Figure 2a."
   ]
  },
  {
   "cell_type": "code",
   "execution_count": null,
   "metadata": {},
   "outputs": [],
   "source": [
    "import sys\n",
    "sys.path.append('./scripts/')\n",
    "import warnings\n",
    "warnings.filterwarnings('ignore')\n",
    "\n",
    "from fetch_data_needle import create_observed_dataset, get_mutations, get_plot_data\n",
    "from plot_needle import plot_observed_distribution"
   ]
  },
  {
   "cell_type": "code",
   "execution_count": null,
   "metadata": {},
   "outputs": [],
   "source": [
    "obs_muts = get_mutations()\n",
    "\n",
    "def needleplot(gene, ttype, plotname=None):\n",
    "    df = create_observed_dataset(gene, ttype, obs_muts)\n",
    "    args = get_plot_data(df)\n",
    "    plot_observed_distribution(gene, ttype, *args, plotname=plotname)"
   ]
  },
  {
   "cell_type": "code",
   "execution_count": null,
   "metadata": {},
   "outputs": [],
   "source": [
    "gene, ttype = 'EGFR', 'LUAD'\n",
    "needleplot(gene, ttype, plotname=f'./raw_plots/{gene}.{ttype}')"
   ]
  },
  {
   "cell_type": "code",
   "execution_count": null,
   "metadata": {},
   "outputs": [],
   "source": [
    "gene, ttype = 'EGFR', 'GBM'\n",
    "needleplot(gene, ttype, plotname=f'./raw_plots/{gene}.{ttype}')"
   ]
  },
  {
   "cell_type": "markdown",
   "metadata": {},
   "source": [
    "# Figure 2c."
   ]
  },
  {
   "cell_type": "code",
   "execution_count": null,
   "metadata": {},
   "outputs": [],
   "source": [
    "import numpy as np\n",
    "import pandas as pd\n",
    "from sklearn.cluster import KMeans\n",
    "from matplotlib import cm\n",
    "from sklearn.decomposition import PCA\n",
    "cmap = cm.RdYlGn_r\n",
    "\n",
    "import conf\n",
    "from clustering import generate_hierarchy, draw_flat_cluster\n",
    "from retrieve import get_shaps"
   ]
  },
  {
   "cell_type": "code",
   "execution_count": null,
   "metadata": {},
   "outputs": [],
   "source": [
    "df_stats = pd.read_csv(conf.cohorts_path, sep=\"\\t\")\n",
    "\n",
    "# mapping MoA colors to each (gene, ttype)\n",
    "\n",
    "dg = pd.read_csv(conf.drivers_path, sep='\\t')\n",
    "d = dict(zip(zip(dg.SYMBOL, dg.CANCER_TYPE), map(lambda x: conf.dict_colors_role.get(x, '#808080'), dg.ROLE)))\n",
    "d_gene = dict(zip(dg.SYMBOL, map(lambda x: conf.dict_colors_role.get(x, '#808080'), dg.ROLE)))\n",
    "\n",
    "# load observed mutations\n",
    "\n",
    "mutations = pd.read_csv(os.path.join(conf.output_boostdm, 'discovery', 'mutations.tsv'), sep='\\t')\n",
    "\n",
    "df = get_shaps(mutations, None, None)"
   ]
  },
  {
   "cell_type": "code",
   "execution_count": null,
   "metadata": {},
   "outputs": [],
   "source": [
    "def low_rank(gene, ttype):\n",
    "    \n",
    "    df = get_shaps(mutations, None, None)\n",
    "    \n",
    "    moa_colors = df['moa'].values\n",
    "    complexity_colors = df['linear_complexity'].values\n",
    "    \n",
    "    df = df[conf.features]\n",
    "    pca = PCA(10, whiten=True)\n",
    "    projected = pca.fit_transform(df)\n",
    "    return df, projected, moa_colors, complexity_colors\n",
    "\n",
    "\n",
    "def cluster_heatmap(gene, ttype, mode='flat', labels=None, title=None, fn=None):\n",
    "    \n",
    "    df, projected, moa_colors, complexity_colors = low_rank(gene, ttype)\n",
    "    X, linkage, scores, classes, labels_list = generate_hierarchy(df)\n",
    "    if mode == 'flat':\n",
    "        draw_flat_cluster(X, linkage, df.columns, labels_list[2], \n",
    "                          './raw_plots', mode=mode, title=title, fn=fn)\n",
    "    elif mode == 'moa':\n",
    "        draw_flat_cluster(X, linkage, df.columns, labels_list[2], \n",
    "                          './raw_plots', moa_colors=moa_colors,\n",
    "                          mode=mode, title=title, fn=fn)\n",
    "    return labels_list[2]"
   ]
  },
  {
   "cell_type": "code",
   "execution_count": null,
   "metadata": {},
   "outputs": [],
   "source": [
    "# unique observed mutations \n",
    "# per gene-ttype\n",
    "# covered by specific models \n",
    "# with boostDM positive\n",
    "\n",
    "labels_hierarchical = cluster_heatmap(None, None, mode='flat', \n",
    "                                      title='Specific Models', \n",
    "                                      fn='observed.specific.driver.hierarchy')"
   ]
  },
  {
   "cell_type": "code",
   "execution_count": null,
   "metadata": {},
   "outputs": [],
   "source": [
    "l = cluster_heatmap(None, None, mode='moa', title='Specific Models', fn='observed.specific.driver.moa')"
   ]
  },
  {
   "cell_type": "code",
   "execution_count": null,
   "metadata": {},
   "outputs": [],
   "source": []
  }
 ],
 "metadata": {
  "kernelspec": {
   "display_name": "Python 3",
   "language": "python",
   "name": "python3"
  },
  "language_info": {
   "codemirror_mode": {
    "name": "ipython",
    "version": 3
   },
   "file_extension": ".py",
   "mimetype": "text/x-python",
   "name": "python",
   "nbconvert_exporter": "python",
   "pygments_lexer": "ipython3",
   "version": "3.7.3"
  },
  "widgets": {
   "application/vnd.jupyter.widget-state+json": {
    "state": {},
    "version_major": 2,
    "version_minor": 0
   }
  }
 },
 "nbformat": 4,
 "nbformat_minor": 4
}
